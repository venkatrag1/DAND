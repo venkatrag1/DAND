{
 "cells": [
  {
   "cell_type": "markdown",
   "metadata": {
    "collapsed": true
   },
   "source": [
    "# Introduction"
   ]
  },
  {
   "cell_type": "markdown",
   "metadata": {},
   "source": [
    "The goal of this project is to wrangle, analyze and visualize the tweet archive of Twitter user @dog_rates. \n",
    "\n",
    "The data is gathered from three sources- by manually downloading the `twitter_archive_enhanced.csv` flat-file, by programmatically downloading the `image_predictions.tsv` file from Udacity's servers, and by creating the `tweet_json.txt` text file by querying the complete tweet JSON for each of the tweet_ids in `twitter_archive_enhanced.csv` file.\n",
    "\n",
    "Through a combination of visual and programmatic assessment, atleast eight quality issues an two tidiness issues are identified.\n",
    "\n",
    "After cleaning for these issues, the high quality and tidy data is stored by generating the `twitter_archive_master.csv` and other files as applicable.\n",
    "\n",
    "The cleaned data is used to generate atleast three insights and one visualization.\n",
    "\n",
    "Two reports are generated, one titled `wrangle_report.html` detailing the wrangling efforts as an internal document, and another titled `act_report.html` communicating the insights and showing the visualization as a blog post."
   ]
  },
  {
   "cell_type": "markdown",
   "metadata": {},
   "source": [
    "# Gather"
   ]
  },
  {
   "cell_type": "code",
   "execution_count": 1,
   "metadata": {},
   "outputs": [],
   "source": [
    "import json\n",
    "import pandas as pd\n",
    "import tweepy\n",
    "import requests\n",
    "import seaborn as sns\n",
    "import matplotlib.pyplot as plt\n",
    "from IPython.display import display\n",
    "from timeit import default_timer as timer\n",
    "\n",
    "sns.set_style('darkgrid')\n",
    "%matplotlib inline\n",
    "%config InlineBackend.figure_format = 'retina'"
   ]
  },
  {
   "cell_type": "markdown",
   "metadata": {},
   "source": [
    "Import `twitter_archive_enhanced.csv` into a dataframe"
   ]
  },
  {
   "cell_type": "code",
   "execution_count": 2,
   "metadata": {},
   "outputs": [],
   "source": [
    "df_twtr = pd.read_csv('twitter-archive-enhanced.csv')"
   ]
  },
  {
   "cell_type": "code",
   "execution_count": 3,
   "metadata": {},
   "outputs": [
    {
     "data": {
      "text/html": [
       "<div>\n",
       "<style scoped>\n",
       "    .dataframe tbody tr th:only-of-type {\n",
       "        vertical-align: middle;\n",
       "    }\n",
       "\n",
       "    .dataframe tbody tr th {\n",
       "        vertical-align: top;\n",
       "    }\n",
       "\n",
       "    .dataframe thead th {\n",
       "        text-align: right;\n",
       "    }\n",
       "</style>\n",
       "<table border=\"1\" class=\"dataframe\">\n",
       "  <thead>\n",
       "    <tr style=\"text-align: right;\">\n",
       "      <th></th>\n",
       "      <th>tweet_id</th>\n",
       "      <th>in_reply_to_status_id</th>\n",
       "      <th>in_reply_to_user_id</th>\n",
       "      <th>timestamp</th>\n",
       "      <th>source</th>\n",
       "      <th>text</th>\n",
       "      <th>retweeted_status_id</th>\n",
       "      <th>retweeted_status_user_id</th>\n",
       "      <th>retweeted_status_timestamp</th>\n",
       "      <th>expanded_urls</th>\n",
       "      <th>rating_numerator</th>\n",
       "      <th>rating_denominator</th>\n",
       "      <th>name</th>\n",
       "      <th>doggo</th>\n",
       "      <th>floofer</th>\n",
       "      <th>pupper</th>\n",
       "      <th>puppo</th>\n",
       "    </tr>\n",
       "  </thead>\n",
       "  <tbody>\n",
       "    <tr>\n",
       "      <th>36</th>\n",
       "      <td>885311592912609280</td>\n",
       "      <td>NaN</td>\n",
       "      <td>NaN</td>\n",
       "      <td>2017-07-13 01:35:06 +0000</td>\n",
       "      <td>&lt;a href=\"http://twitter.com/download/iphone\" r...</td>\n",
       "      <td>RT @dog_rates: This is Lilly. She just paralle...</td>\n",
       "      <td>8.305833e+17</td>\n",
       "      <td>4.196984e+09</td>\n",
       "      <td>2017-02-12 01:04:29 +0000</td>\n",
       "      <td>https://twitter.com/dog_rates/status/830583320...</td>\n",
       "      <td>13</td>\n",
       "      <td>10</td>\n",
       "      <td>Lilly</td>\n",
       "      <td>None</td>\n",
       "      <td>None</td>\n",
       "      <td>None</td>\n",
       "      <td>None</td>\n",
       "    </tr>\n",
       "  </tbody>\n",
       "</table>\n",
       "</div>"
      ],
      "text/plain": [
       "              tweet_id  in_reply_to_status_id  in_reply_to_user_id  \\\n",
       "36  885311592912609280                    NaN                  NaN   \n",
       "\n",
       "                    timestamp  \\\n",
       "36  2017-07-13 01:35:06 +0000   \n",
       "\n",
       "                                               source  \\\n",
       "36  <a href=\"http://twitter.com/download/iphone\" r...   \n",
       "\n",
       "                                                 text  retweeted_status_id  \\\n",
       "36  RT @dog_rates: This is Lilly. She just paralle...         8.305833e+17   \n",
       "\n",
       "    retweeted_status_user_id retweeted_status_timestamp  \\\n",
       "36              4.196984e+09  2017-02-12 01:04:29 +0000   \n",
       "\n",
       "                                        expanded_urls  rating_numerator  \\\n",
       "36  https://twitter.com/dog_rates/status/830583320...                13   \n",
       "\n",
       "    rating_denominator   name doggo floofer pupper puppo  \n",
       "36                  10  Lilly  None    None   None  None  "
      ]
     },
     "execution_count": 3,
     "metadata": {},
     "output_type": "execute_result"
    }
   ],
   "source": [
    "df_twtr.sample(1)"
   ]
  },
  {
   "cell_type": "markdown",
   "metadata": {},
   "source": [
    "Download `image_predictions.csv` using requests library and import it into a dataframe"
   ]
  },
  {
   "cell_type": "code",
   "execution_count": 4,
   "metadata": {},
   "outputs": [],
   "source": [
    "image_predictions_url = 'https://d17h27t6h515a5.cloudfront.net/topher/2017/August/599fd2ad_image-predictions/image-predictions.tsv'\n",
    "with open('image_predictions.tsv', 'wb') as file:\n",
    "    file.write(requests.get(image_predictions_url).content)"
   ]
  },
  {
   "cell_type": "code",
   "execution_count": 5,
   "metadata": {},
   "outputs": [],
   "source": [
    "df_img_pred = pd.read_csv('image_predictions.tsv', sep='\\t')"
   ]
  },
  {
   "cell_type": "code",
   "execution_count": 6,
   "metadata": {},
   "outputs": [
    {
     "data": {
      "text/html": [
       "<div>\n",
       "<style scoped>\n",
       "    .dataframe tbody tr th:only-of-type {\n",
       "        vertical-align: middle;\n",
       "    }\n",
       "\n",
       "    .dataframe tbody tr th {\n",
       "        vertical-align: top;\n",
       "    }\n",
       "\n",
       "    .dataframe thead th {\n",
       "        text-align: right;\n",
       "    }\n",
       "</style>\n",
       "<table border=\"1\" class=\"dataframe\">\n",
       "  <thead>\n",
       "    <tr style=\"text-align: right;\">\n",
       "      <th></th>\n",
       "      <th>tweet_id</th>\n",
       "      <th>jpg_url</th>\n",
       "      <th>img_num</th>\n",
       "      <th>p1</th>\n",
       "      <th>p1_conf</th>\n",
       "      <th>p1_dog</th>\n",
       "      <th>p2</th>\n",
       "      <th>p2_conf</th>\n",
       "      <th>p2_dog</th>\n",
       "      <th>p3</th>\n",
       "      <th>p3_conf</th>\n",
       "      <th>p3_dog</th>\n",
       "    </tr>\n",
       "  </thead>\n",
       "  <tbody>\n",
       "    <tr>\n",
       "      <th>1055</th>\n",
       "      <td>714258258790387713</td>\n",
       "      <td>https://pbs.twimg.com/media/CemOGNjWQAEoN7R.jpg</td>\n",
       "      <td>1</td>\n",
       "      <td>collie</td>\n",
       "      <td>0.176758</td>\n",
       "      <td>True</td>\n",
       "      <td>Chesapeake_Bay_retriever</td>\n",
       "      <td>0.101834</td>\n",
       "      <td>True</td>\n",
       "      <td>beagle</td>\n",
       "      <td>0.101294</td>\n",
       "      <td>True</td>\n",
       "    </tr>\n",
       "  </tbody>\n",
       "</table>\n",
       "</div>"
      ],
      "text/plain": [
       "                tweet_id                                          jpg_url  \\\n",
       "1055  714258258790387713  https://pbs.twimg.com/media/CemOGNjWQAEoN7R.jpg   \n",
       "\n",
       "      img_num      p1   p1_conf  p1_dog                        p2   p2_conf  \\\n",
       "1055        1  collie  0.176758    True  Chesapeake_Bay_retriever  0.101834   \n",
       "\n",
       "      p2_dog      p3   p3_conf  p3_dog  \n",
       "1055    True  beagle  0.101294    True  "
      ]
     },
     "execution_count": 6,
     "metadata": {},
     "output_type": "execute_result"
    }
   ],
   "source": [
    "df_img_pred.sample(1)"
   ]
  },
  {
   "cell_type": "markdown",
   "metadata": {},
   "source": [
    "Query the complete json object for each tweet_id in df_twtr and store it one json per line into `tweet_json.txt` using the library `tweepy`."
   ]
  },
  {
   "cell_type": "code",
   "execution_count": 7,
   "metadata": {},
   "outputs": [],
   "source": [
    "# N.B.- Make sure the .twitter_api_credentials.json is created as a JSON object with the following keys- \n",
    "# consumer_keys, consumer_secret, access_token and access_secret in the current working directory.\n",
    "api_cred = json.load(open('.twitter_api_credentials.json', 'r'))\n",
    "auth = tweepy.OAuthHandler(api_cred['consumer_key'], api_cred['consumer_secret'])\n",
    "auth.set_access_token(api_cred['access_token'], api_cred['access_secret'])\n",
    "# Allow for wait on rate limit and notify when wait happens due to rate limiting.\n",
    "api = tweepy.API(auth, wait_on_rate_limit=True, wait_on_rate_limit_notify=True)"
   ]
  },
  {
   "cell_type": "code",
   "execution_count": 8,
   "metadata": {},
   "outputs": [],
   "source": [
    "tweet_id_list = df_twtr['tweet_id'].tolist()"
   ]
  },
  {
   "cell_type": "code",
   "execution_count": 9,
   "metadata": {},
   "outputs": [],
   "source": [
    "num_tweet_ids = len(tweet_id_list)"
   ]
  },
  {
   "cell_type": "code",
   "execution_count": 10,
   "metadata": {},
   "outputs": [],
   "source": [
    "twtr_err_ids = [] "
   ]
  },
  {
   "cell_type": "code",
   "execution_count": 11,
   "metadata": {},
   "outputs": [
    {
     "name": "stdout",
     "output_type": "stream",
     "text": [
      "Progress: 19/2356 [                    ]\tElapsed Time: 2 sec\n",
      "Error extracting 888202515573088257: [{'code': 144, 'message': 'No status found with that ID.'}]\n",
      "Progress: 95/2356 [                    ]\tElapsed Time: 14 sec\n",
      "Error extracting 873697596434513921: [{'code': 144, 'message': 'No status found with that ID.'}]\n",
      "Progress: 101/2356 [                    ]\tElapsed Time: 14 sec\n",
      "Error extracting 872668790621863937: [{'code': 144, 'message': 'No status found with that ID.'}]\n",
      "Progress: 118/2356 [=                   ]\tElapsed Time: 17 sec\n",
      "Error extracting 869988702071779329: [{'code': 144, 'message': 'No status found with that ID.'}]\n",
      "Progress: 132/2356 [=                   ]\tElapsed Time: 19 sec\n",
      "Error extracting 866816280283807744: [{'code': 144, 'message': 'No status found with that ID.'}]\n",
      "Progress: 155/2356 [=                   ]\tElapsed Time: 22 sec\n",
      "Error extracting 861769973181624320: [{'code': 144, 'message': 'No status found with that ID.'}]\n",
      "Progress: 247/2356 [==                  ]\tElapsed Time: 36 sec\n",
      "Error extracting 845459076796616705: [{'code': 144, 'message': 'No status found with that ID.'}]\n",
      "Progress: 260/2356 [==                  ]\tElapsed Time: 38 sec\n",
      "Error extracting 842892208864923648: [{'code': 144, 'message': 'No status found with that ID.'}]\n",
      "Progress: 298/2356 [==                  ]\tElapsed Time: 43 sec\n",
      "Error extracting 837012587749474308: [{'code': 144, 'message': 'No status found with that ID.'}]\n",
      "Progress: 382/2356 [===                 ]\tElapsed Time: 56 sec\n",
      "Error extracting 827228250799742977: [{'code': 144, 'message': 'No status found with that ID.'}]\n",
      "Progress: 566/2356 [====                ]\tElapsed Time: 83 sec\n",
      "Error extracting 802247111496568832: [{'code': 144, 'message': 'No status found with that ID.'}]\n",
      "Progress: 784/2356 [======              ]\tElapsed Time: 116 sec\n",
      "Error extracting 775096608509886464: [{'code': 144, 'message': 'No status found with that ID.'}]\n",
      "Progress: 818/2356 [======              ]\tElapsed Time: 125 sec\n",
      "Error extracting 770743923962707968: [{'code': 144, 'message': 'No status found with that ID.'}]\n",
      "Progress: 899/2356 [=======             ]\tElapsed Time: 138 sec\r"
     ]
    },
    {
     "name": "stderr",
     "output_type": "stream",
     "text": [
      "Rate limit reached. Sleeping for: 762\n"
     ]
    },
    {
     "name": "stdout",
     "output_type": "stream",
     "text": [
      "Progress: 932/2356 [=======             ]\tElapsed Time: 909 sec\n",
      "Error extracting 754011816964026368: [{'code': 144, 'message': 'No status found with that ID.'}]\n",
      "Progress: 1799/2356 [===============     ]\tElapsed Time: 1033 sec\r"
     ]
    },
    {
     "name": "stderr",
     "output_type": "stream",
     "text": [
      "Rate limit reached. Sleeping for: 771\n"
     ]
    },
    {
     "name": "stdout",
     "output_type": "stream",
     "text": [
      "Progress: 2356/2356 [====================]\tElapsed Time: 1893 sec\r"
     ]
    }
   ],
   "source": [
    "with open('tweet_json.txt', 'w') as file:\n",
    "    start_t = timer()\n",
    "    for idx, tweet_id in enumerate(tweet_id_list):\n",
    "        try:\n",
    "            # Dump the get_status json output in extended mode for each of the tweet_ids in df_twtr\n",
    "            print(json.dumps(api.get_status(tweet_id, tweet_mode='extended')._json), file=file)\n",
    "            current_t = timer()\n",
    "            # Print a new bar for every 5% increase, ie num complete out of total 20 bars\n",
    "            num_bars = int((idx + 1)* 20/num_tweet_ids)\n",
    "            print('Progress: %d/%d [%-20s]\\tElapsed Time: %d sec' %( idx+1, num_tweet_ids, '=' * num_bars, current_t - start_t), end='\\r')           \n",
    "        except tweepy.error.TweepError as err:\n",
    "            print('\\nError extracting %d: %s' % (tweet_id, str(err)))\n",
    "            # Store list of tweet_ids that encountered errors during fetch\n",
    "            twtr_err_ids.append(tweet_id)\n"
   ]
  },
  {
   "cell_type": "markdown",
   "metadata": {},
   "source": [
    "We are unable to fetch the twitter json for the following id's and we will later revisit this list when looking at incomplete data."
   ]
  },
  {
   "cell_type": "code",
   "execution_count": 12,
   "metadata": {
    "scrolled": true
   },
   "outputs": [
    {
     "name": "stdout",
     "output_type": "stream",
     "text": [
      "[888202515573088257, 873697596434513921, 872668790621863937, 869988702071779329, 866816280283807744, 861769973181624320, 845459076796616705, 842892208864923648, 837012587749474308, 827228250799742977, 802247111496568832, 775096608509886464, 770743923962707968, 754011816964026368]\n"
     ]
    }
   ],
   "source": [
    "print(twtr_err_ids)"
   ]
  },
  {
   "cell_type": "code",
   "execution_count": 13,
   "metadata": {
    "scrolled": true
   },
   "outputs": [
    {
     "name": "stdout",
     "output_type": "stream",
     "text": [
      "14\n"
     ]
    }
   ],
   "source": [
    "print(len(twtr_err_ids))"
   ]
  },
  {
   "cell_type": "markdown",
   "metadata": {},
   "source": [
    "Read back the `tweet_json.txt` file and import the additional metadata info about the tweet into a dataframe containing the following columns-  `tweet_id`, `retweet_count`, and `favorite_count` since these appear to be the ones that most relevant."
   ]
  },
  {
   "cell_type": "code",
   "execution_count": 14,
   "metadata": {},
   "outputs": [
    {
     "name": "stdout",
     "output_type": "stream",
     "text": [
      "{\n",
      "  \"created_at\": \"Tue Aug 01 16:23:56 +0000 2017\",\n",
      "  \"id\": 892420643555336193,\n",
      "  \"id_str\": \"892420643555336193\",\n",
      "  \"full_text\": \"This is Phineas. He's a mystical boy. Only ever appears in the hole of a donut. 13/10 https://t.co/MgUWQ76dJU\",\n",
      "  \"truncated\": false,\n",
      "  \"display_text_range\": [\n",
      "    0,\n",
      "    85\n",
      "  ],\n",
      "  \"entities\": {\n",
      "    \"hashtags\": [],\n",
      "    \"symbols\": [],\n",
      "    \"user_mentions\": [],\n",
      "    \"urls\": [],\n",
      "    \"media\": [\n",
      "      {\n",
      "        \"id\": 892420639486877696,\n",
      "        \"id_str\": \"892420639486877696\",\n",
      "        \"indices\": [\n",
      "          86,\n",
      "          109\n",
      "        ],\n",
      "        \"media_url\": \"http://pbs.twimg.com/media/DGKD1-bXoAAIAUK.jpg\",\n",
      "        \"media_url_https\": \"https://pbs.twimg.com/media/DGKD1-bXoAAIAUK.jpg\",\n",
      "        \"url\": \"https://t.co/MgUWQ76dJU\",\n",
      "        \"display_url\": \"pic.twitter.com/MgUWQ76dJU\",\n",
      "        \"expanded_url\": \"https://twitter.com/dog_rates/status/892420643555336193/photo/1\",\n",
      "        \"type\": \"photo\",\n",
      "        \"sizes\": {\n",
      "          \"thumb\": {\n",
      "            \"w\": 150,\n",
      "            \"h\": 150,\n",
      "            \"resize\": \"crop\"\n",
      "          },\n",
      "          \"medium\": {\n",
      "            \"w\": 540,\n",
      "            \"h\": 528,\n",
      "            \"resize\": \"fit\"\n",
      "          },\n",
      "          \"small\": {\n",
      "            \"w\": 540,\n",
      "            \"h\": 528,\n",
      "            \"resize\": \"fit\"\n",
      "          },\n",
      "          \"large\": {\n",
      "            \"w\": 540,\n",
      "            \"h\": 528,\n",
      "            \"resize\": \"fit\"\n",
      "          }\n",
      "        }\n",
      "      }\n",
      "    ]\n",
      "  },\n",
      "  \"extended_entities\": {\n",
      "    \"media\": [\n",
      "      {\n",
      "        \"id\": 892420639486877696,\n",
      "        \"id_str\": \"892420639486877696\",\n",
      "        \"indices\": [\n",
      "          86,\n",
      "          109\n",
      "        ],\n",
      "        \"media_url\": \"http://pbs.twimg.com/media/DGKD1-bXoAAIAUK.jpg\",\n",
      "        \"media_url_https\": \"https://pbs.twimg.com/media/DGKD1-bXoAAIAUK.jpg\",\n",
      "        \"url\": \"https://t.co/MgUWQ76dJU\",\n",
      "        \"display_url\": \"pic.twitter.com/MgUWQ76dJU\",\n",
      "        \"expanded_url\": \"https://twitter.com/dog_rates/status/892420643555336193/photo/1\",\n",
      "        \"type\": \"photo\",\n",
      "        \"sizes\": {\n",
      "          \"thumb\": {\n",
      "            \"w\": 150,\n",
      "            \"h\": 150,\n",
      "            \"resize\": \"crop\"\n",
      "          },\n",
      "          \"medium\": {\n",
      "            \"w\": 540,\n",
      "            \"h\": 528,\n",
      "            \"resize\": \"fit\"\n",
      "          },\n",
      "          \"small\": {\n",
      "            \"w\": 540,\n",
      "            \"h\": 528,\n",
      "            \"resize\": \"fit\"\n",
      "          },\n",
      "          \"large\": {\n",
      "            \"w\": 540,\n",
      "            \"h\": 528,\n",
      "            \"resize\": \"fit\"\n",
      "          }\n",
      "        }\n",
      "      }\n",
      "    ]\n",
      "  },\n",
      "  \"source\": \"<a href=\\\"http://twitter.com/download/iphone\\\" rel=\\\"nofollow\\\">Twitter for iPhone</a>\",\n",
      "  \"in_reply_to_status_id\": null,\n",
      "  \"in_reply_to_status_id_str\": null,\n",
      "  \"in_reply_to_user_id\": null,\n",
      "  \"in_reply_to_user_id_str\": null,\n",
      "  \"in_reply_to_screen_name\": null,\n",
      "  \"user\": {\n",
      "    \"id\": 4196983835,\n",
      "    \"id_str\": \"4196983835\",\n",
      "    \"name\": \"WeRateDogs\\u2122\",\n",
      "    \"screen_name\": \"dog_rates\",\n",
      "    \"location\": \"H*CK CANCER  \\u2192\",\n",
      "    \"description\": \"Your Only Source For Professional Dog Ratings \\u2800 \\u2800IG, FB, Snapchat \\u21e8 WeRateDogs \\u2800\\u2800\\u2800\\u2800\\u2800\\u2800\\u2800\\u2800\\u2800\\u2800\\u2800\\u2800 Business: dogratingtwitter@gmail.com\",\n",
      "    \"url\": \"https://t.co/EX5QHWmlHo\",\n",
      "    \"entities\": {\n",
      "      \"url\": {\n",
      "        \"urls\": [\n",
      "          {\n",
      "            \"url\": \"https://t.co/EX5QHWmlHo\",\n",
      "            \"expanded_url\": \"https://goo.gl/WH9vAU\",\n",
      "            \"display_url\": \"goo.gl/WH9vAU\",\n",
      "            \"indices\": [\n",
      "              0,\n",
      "              23\n",
      "            ]\n",
      "          }\n",
      "        ]\n",
      "      },\n",
      "      \"description\": {\n",
      "        \"urls\": []\n",
      "      }\n",
      "    },\n",
      "    \"protected\": false,\n",
      "    \"followers_count\": 7460875,\n",
      "    \"friends_count\": 11,\n",
      "    \"listed_count\": 5509,\n",
      "    \"created_at\": \"Sun Nov 15 21:41:29 +0000 2015\",\n",
      "    \"favourites_count\": 140024,\n",
      "    \"utc_offset\": null,\n",
      "    \"time_zone\": null,\n",
      "    \"geo_enabled\": true,\n",
      "    \"verified\": true,\n",
      "    \"statuses_count\": 9281,\n",
      "    \"lang\": \"en\",\n",
      "    \"contributors_enabled\": false,\n",
      "    \"is_translator\": false,\n",
      "    \"is_translation_enabled\": false,\n",
      "    \"profile_background_color\": \"000000\",\n",
      "    \"profile_background_image_url\": \"http://abs.twimg.com/images/themes/theme1/bg.png\",\n",
      "    \"profile_background_image_url_https\": \"https://abs.twimg.com/images/themes/theme1/bg.png\",\n",
      "    \"profile_background_tile\": false,\n",
      "    \"profile_image_url\": \"http://pbs.twimg.com/profile_images/1067470785256849414/sCJfrauj_normal.jpg\",\n",
      "    \"profile_image_url_https\": \"https://pbs.twimg.com/profile_images/1067470785256849414/sCJfrauj_normal.jpg\",\n",
      "    \"profile_banner_url\": \"https://pbs.twimg.com/profile_banners/4196983835/1543326088\",\n",
      "    \"profile_link_color\": \"F5ABB5\",\n",
      "    \"profile_sidebar_border_color\": \"000000\",\n",
      "    \"profile_sidebar_fill_color\": \"000000\",\n",
      "    \"profile_text_color\": \"000000\",\n",
      "    \"profile_use_background_image\": false,\n",
      "    \"has_extended_profile\": false,\n",
      "    \"default_profile\": false,\n",
      "    \"default_profile_image\": false,\n",
      "    \"following\": false,\n",
      "    \"follow_request_sent\": false,\n",
      "    \"notifications\": false,\n",
      "    \"translator_type\": \"none\"\n",
      "  },\n",
      "  \"geo\": null,\n",
      "  \"coordinates\": null,\n",
      "  \"place\": null,\n",
      "  \"contributors\": null,\n",
      "  \"is_quote_status\": false,\n",
      "  \"retweet_count\": 8364,\n",
      "  \"favorite_count\": 38187,\n",
      "  \"favorited\": false,\n",
      "  \"retweeted\": false,\n",
      "  \"possibly_sensitive\": false,\n",
      "  \"possibly_sensitive_appealable\": false,\n",
      "  \"lang\": \"en\"\n",
      "}\n"
     ]
    },
    {
     "data": {
      "text/html": [
       "<div>\n",
       "<style scoped>\n",
       "    .dataframe tbody tr th:only-of-type {\n",
       "        vertical-align: middle;\n",
       "    }\n",
       "\n",
       "    .dataframe tbody tr th {\n",
       "        vertical-align: top;\n",
       "    }\n",
       "\n",
       "    .dataframe thead th {\n",
       "        text-align: right;\n",
       "    }\n",
       "</style>\n",
       "<table border=\"1\" class=\"dataframe\">\n",
       "  <thead>\n",
       "    <tr style=\"text-align: right;\">\n",
       "      <th></th>\n",
       "      <th>favorite_count</th>\n",
       "      <th>retweet_count</th>\n",
       "      <th>tweet_id</th>\n",
       "    </tr>\n",
       "  </thead>\n",
       "  <tbody>\n",
       "    <tr>\n",
       "      <th>1360</th>\n",
       "      <td>4007</td>\n",
       "      <td>1093</td>\n",
       "      <td>701952816642965504</td>\n",
       "    </tr>\n",
       "  </tbody>\n",
       "</table>\n",
       "</div>"
      ],
      "text/plain": [
       "      favorite_count  retweet_count            tweet_id\n",
       "1360            4007           1093  701952816642965504"
      ]
     },
     "execution_count": 14,
     "metadata": {},
     "output_type": "execute_result"
    }
   ],
   "source": [
    "df_tweet_json_list = []\n",
    "with open('tweet_json.txt', 'r') as file:\n",
    "    for idx, line in enumerate(file):\n",
    "        try:\n",
    "            tweet_json = json.loads(line)\n",
    "            if idx == 0:\n",
    "                print(json.dumps(tweet_json, indent=2))\n",
    "            df_tweet_json_list.append({\n",
    "                'tweet_id': tweet_json['id'],\n",
    "                'retweet_count': tweet_json['retweet_count'],\n",
    "                'favorite_count': tweet_json['favorite_count']\n",
    "            })\n",
    "        except JSONDecodeError as err:\n",
    "            print('Could not parse line %d: %s' % (idx, str(e)))\n",
    "\n",
    "df_tweet_meta = pd.DataFrame(df_tweet_json_list)\n",
    "df_tweet_meta.sample(1)\n",
    "            "
   ]
  },
  {
   "cell_type": "markdown",
   "metadata": {},
   "source": [
    "# Assess"
   ]
  },
  {
   "cell_type": "markdown",
   "metadata": {},
   "source": [
    "Let's run .info() on all the dataframes to get a priliminary look at the columns and their datatypes."
   ]
  },
  {
   "cell_type": "code",
   "execution_count": 15,
   "metadata": {
    "scrolled": true
   },
   "outputs": [
    {
     "name": "stdout",
     "output_type": "stream",
     "text": [
      "<class 'pandas.core.frame.DataFrame'>\n",
      "RangeIndex: 2356 entries, 0 to 2355\n",
      "Data columns (total 17 columns):\n",
      "tweet_id                      2356 non-null int64\n",
      "in_reply_to_status_id         78 non-null float64\n",
      "in_reply_to_user_id           78 non-null float64\n",
      "timestamp                     2356 non-null object\n",
      "source                        2356 non-null object\n",
      "text                          2356 non-null object\n",
      "retweeted_status_id           181 non-null float64\n",
      "retweeted_status_user_id      181 non-null float64\n",
      "retweeted_status_timestamp    181 non-null object\n",
      "expanded_urls                 2297 non-null object\n",
      "rating_numerator              2356 non-null int64\n",
      "rating_denominator            2356 non-null int64\n",
      "name                          2356 non-null object\n",
      "doggo                         2356 non-null object\n",
      "floofer                       2356 non-null object\n",
      "pupper                        2356 non-null object\n",
      "puppo                         2356 non-null object\n",
      "dtypes: float64(4), int64(3), object(10)\n",
      "memory usage: 313.0+ KB\n"
     ]
    }
   ],
   "source": [
    "df_twtr.info()"
   ]
  },
  {
   "cell_type": "code",
   "execution_count": 16,
   "metadata": {},
   "outputs": [
    {
     "name": "stdout",
     "output_type": "stream",
     "text": [
      "<class 'pandas.core.frame.DataFrame'>\n",
      "RangeIndex: 2075 entries, 0 to 2074\n",
      "Data columns (total 12 columns):\n",
      "tweet_id    2075 non-null int64\n",
      "jpg_url     2075 non-null object\n",
      "img_num     2075 non-null int64\n",
      "p1          2075 non-null object\n",
      "p1_conf     2075 non-null float64\n",
      "p1_dog      2075 non-null bool\n",
      "p2          2075 non-null object\n",
      "p2_conf     2075 non-null float64\n",
      "p2_dog      2075 non-null bool\n",
      "p3          2075 non-null object\n",
      "p3_conf     2075 non-null float64\n",
      "p3_dog      2075 non-null bool\n",
      "dtypes: bool(3), float64(3), int64(2), object(4)\n",
      "memory usage: 152.1+ KB\n"
     ]
    }
   ],
   "source": [
    "df_img_pred.info()"
   ]
  },
  {
   "cell_type": "code",
   "execution_count": 17,
   "metadata": {},
   "outputs": [
    {
     "name": "stdout",
     "output_type": "stream",
     "text": [
      "<class 'pandas.core.frame.DataFrame'>\n",
      "RangeIndex: 2342 entries, 0 to 2341\n",
      "Data columns (total 3 columns):\n",
      "favorite_count    2342 non-null int64\n",
      "retweet_count     2342 non-null int64\n",
      "tweet_id          2342 non-null int64\n",
      "dtypes: int64(3)\n",
      "memory usage: 55.0 KB\n"
     ]
    }
   ],
   "source": [
    "df_tweet_meta.info()"
   ]
  },
  {
   "cell_type": "markdown",
   "metadata": {},
   "source": [
    "It appears that this dataset should be able to help us answer the following questions using visualizations and stats-\n",
    "- Doggie demographics on WeRateDogs- most commonly tweeted about dog stage, breed etc\n",
    "- Factors that lead to higher ratings- is it influenced by dog category or (predicted) dog breed. \n",
    "- Factors that encourage user engagement- do higher retweets and favorites correlate with higher ratings or is it skewed by factors such as day of posting (do weekend posts get higher engagement?)\n"
   ]
  },
  {
   "cell_type": "markdown",
   "metadata": {},
   "source": [
    "We will assess each table for quality issues of completeness, validity, accuracy and consistency, and also for tidiness issues. "
   ]
  },
  {
   "cell_type": "markdown",
   "metadata": {},
   "source": [
    "## Completeness"
   ]
  },
  {
   "cell_type": "markdown",
   "metadata": {},
   "source": [
    "Let's check for duplicated columns across tables"
   ]
  },
  {
   "cell_type": "code",
   "execution_count": 18,
   "metadata": {},
   "outputs": [
    {
     "data": {
      "text/plain": [
       "17    tweet_id\n",
       "31    tweet_id\n",
       "dtype: object"
      ]
     },
     "execution_count": 18,
     "metadata": {},
     "output_type": "execute_result"
    }
   ],
   "source": [
    "all_columns = pd.Series(list(df_twtr) + list(df_img_pred) + list(df_tweet_meta))\n",
    "all_columns[all_columns.duplicated()]"
   ]
  },
  {
   "cell_type": "markdown",
   "metadata": {},
   "source": [
    "`tweet_id` is the primary key used in all the tables and there appear to be no other overlaps."
   ]
  },
  {
   "cell_type": "markdown",
   "metadata": {},
   "source": [
    "Now, lets look for duplicated tweet_id in the two original dataframes (since the tweet meta dataframe was constructed from the df_twtr tweet id's we don't need to check it separately)"
   ]
  },
  {
   "cell_type": "code",
   "execution_count": 19,
   "metadata": {},
   "outputs": [
    {
     "data": {
      "text/html": [
       "<div>\n",
       "<style scoped>\n",
       "    .dataframe tbody tr th:only-of-type {\n",
       "        vertical-align: middle;\n",
       "    }\n",
       "\n",
       "    .dataframe tbody tr th {\n",
       "        vertical-align: top;\n",
       "    }\n",
       "\n",
       "    .dataframe thead th {\n",
       "        text-align: right;\n",
       "    }\n",
       "</style>\n",
       "<table border=\"1\" class=\"dataframe\">\n",
       "  <thead>\n",
       "    <tr style=\"text-align: right;\">\n",
       "      <th></th>\n",
       "      <th>tweet_id</th>\n",
       "      <th>in_reply_to_status_id</th>\n",
       "      <th>in_reply_to_user_id</th>\n",
       "      <th>timestamp</th>\n",
       "      <th>source</th>\n",
       "      <th>text</th>\n",
       "      <th>retweeted_status_id</th>\n",
       "      <th>retweeted_status_user_id</th>\n",
       "      <th>retweeted_status_timestamp</th>\n",
       "      <th>expanded_urls</th>\n",
       "      <th>rating_numerator</th>\n",
       "      <th>rating_denominator</th>\n",
       "      <th>name</th>\n",
       "      <th>doggo</th>\n",
       "      <th>floofer</th>\n",
       "      <th>pupper</th>\n",
       "      <th>puppo</th>\n",
       "    </tr>\n",
       "  </thead>\n",
       "  <tbody>\n",
       "  </tbody>\n",
       "</table>\n",
       "</div>"
      ],
      "text/plain": [
       "Empty DataFrame\n",
       "Columns: [tweet_id, in_reply_to_status_id, in_reply_to_user_id, timestamp, source, text, retweeted_status_id, retweeted_status_user_id, retweeted_status_timestamp, expanded_urls, rating_numerator, rating_denominator, name, doggo, floofer, pupper, puppo]\n",
       "Index: []"
      ]
     },
     "execution_count": 19,
     "metadata": {},
     "output_type": "execute_result"
    }
   ],
   "source": [
    "df_twtr[df_twtr['tweet_id'].duplicated()]"
   ]
  },
  {
   "cell_type": "code",
   "execution_count": 20,
   "metadata": {
    "scrolled": true
   },
   "outputs": [
    {
     "data": {
      "text/html": [
       "<div>\n",
       "<style scoped>\n",
       "    .dataframe tbody tr th:only-of-type {\n",
       "        vertical-align: middle;\n",
       "    }\n",
       "\n",
       "    .dataframe tbody tr th {\n",
       "        vertical-align: top;\n",
       "    }\n",
       "\n",
       "    .dataframe thead th {\n",
       "        text-align: right;\n",
       "    }\n",
       "</style>\n",
       "<table border=\"1\" class=\"dataframe\">\n",
       "  <thead>\n",
       "    <tr style=\"text-align: right;\">\n",
       "      <th></th>\n",
       "      <th>tweet_id</th>\n",
       "      <th>jpg_url</th>\n",
       "      <th>img_num</th>\n",
       "      <th>p1</th>\n",
       "      <th>p1_conf</th>\n",
       "      <th>p1_dog</th>\n",
       "      <th>p2</th>\n",
       "      <th>p2_conf</th>\n",
       "      <th>p2_dog</th>\n",
       "      <th>p3</th>\n",
       "      <th>p3_conf</th>\n",
       "      <th>p3_dog</th>\n",
       "    </tr>\n",
       "  </thead>\n",
       "  <tbody>\n",
       "  </tbody>\n",
       "</table>\n",
       "</div>"
      ],
      "text/plain": [
       "Empty DataFrame\n",
       "Columns: [tweet_id, jpg_url, img_num, p1, p1_conf, p1_dog, p2, p2_conf, p2_dog, p3, p3_conf, p3_dog]\n",
       "Index: []"
      ]
     },
     "execution_count": 20,
     "metadata": {},
     "output_type": "execute_result"
    }
   ],
   "source": [
    "df_img_pred[df_img_pred['tweet_id'].duplicated()]"
   ]
  },
  {
   "cell_type": "markdown",
   "metadata": {},
   "source": [
    "Now, we need to ensure that there are no retweets as part of the df_twtr dataframe. Looking at the twitter object definition in https://developer.twitter.com/en/docs/tweets/data-dictionary/overview/tweet-object.html we determine that for original tweets, the `retweeted_status_id` should always be null. Let's check the df_twtr for how many retweets it contains."
   ]
  },
  {
   "cell_type": "code",
   "execution_count": 21,
   "metadata": {},
   "outputs": [
    {
     "data": {
      "text/plain": [
       "181"
      ]
     },
     "execution_count": 21,
     "metadata": {},
     "output_type": "execute_result"
    }
   ],
   "source": [
    "sum(df_twtr.retweeted_status_id.notnull())\n"
   ]
  },
  {
   "cell_type": "markdown",
   "metadata": {},
   "source": [
    "These 181 tweet_id's need to be removed from df_twtr prior to analysis."
   ]
  },
  {
   "cell_type": "markdown",
   "metadata": {},
   "source": [
    "Also, df_img_pred only has predictions for 2075 twitter id's, whereas there are 2356 twitter id's in df_twtr. Even after accounting for the 181 duplicates, we are still missing predictions data for atleast 100 twitter id's (this maybe more if the twitter id's in df_img aren't all contained in df_twtr)."
   ]
  },
  {
   "cell_type": "markdown",
   "metadata": {},
   "source": [
    "Further, we encountered errors while trying to fetch the complete twitter json using tweepy for 14 of the twitter id's and we stored these 14 id's in the variable `twtr_err_ids`. Let's check to see if there are any ids in this list, that are not simply retweets that we will discard."
   ]
  },
  {
   "cell_type": "code",
   "execution_count": 22,
   "metadata": {},
   "outputs": [
    {
     "data": {
      "text/plain": [
       "1"
      ]
     },
     "execution_count": 22,
     "metadata": {},
     "output_type": "execute_result"
    }
   ],
   "source": [
    "twtr_err_ids_not_retweets = [x for x in twtr_err_ids if x not in df_twtr[df_twtr.retweeted_status_id.notnull()].tweet_id.tolist()]\n",
    "len(twtr_err_ids_not_retweets)"
   ]
  },
  {
   "cell_type": "code",
   "execution_count": 23,
   "metadata": {},
   "outputs": [
    {
     "data": {
      "text/html": [
       "<div>\n",
       "<style scoped>\n",
       "    .dataframe tbody tr th:only-of-type {\n",
       "        vertical-align: middle;\n",
       "    }\n",
       "\n",
       "    .dataframe tbody tr th {\n",
       "        vertical-align: top;\n",
       "    }\n",
       "\n",
       "    .dataframe thead th {\n",
       "        text-align: right;\n",
       "    }\n",
       "</style>\n",
       "<table border=\"1\" class=\"dataframe\">\n",
       "  <thead>\n",
       "    <tr style=\"text-align: right;\">\n",
       "      <th></th>\n",
       "      <th>tweet_id</th>\n",
       "      <th>in_reply_to_status_id</th>\n",
       "      <th>in_reply_to_user_id</th>\n",
       "      <th>timestamp</th>\n",
       "      <th>source</th>\n",
       "      <th>text</th>\n",
       "      <th>retweeted_status_id</th>\n",
       "      <th>retweeted_status_user_id</th>\n",
       "      <th>retweeted_status_timestamp</th>\n",
       "      <th>expanded_urls</th>\n",
       "      <th>rating_numerator</th>\n",
       "      <th>rating_denominator</th>\n",
       "      <th>name</th>\n",
       "      <th>doggo</th>\n",
       "      <th>floofer</th>\n",
       "      <th>pupper</th>\n",
       "      <th>puppo</th>\n",
       "    </tr>\n",
       "  </thead>\n",
       "  <tbody>\n",
       "    <tr>\n",
       "      <th>932</th>\n",
       "      <td>754011816964026368</td>\n",
       "      <td>NaN</td>\n",
       "      <td>NaN</td>\n",
       "      <td>2016-07-15 17:56:40 +0000</td>\n",
       "      <td>&lt;a href=\"http://twitter.com/download/iphone\" r...</td>\n",
       "      <td>This is Charlie. He pouts until he gets to go ...</td>\n",
       "      <td>NaN</td>\n",
       "      <td>NaN</td>\n",
       "      <td>NaN</td>\n",
       "      <td>https://twitter.com/dog_rates/status/754011816...</td>\n",
       "      <td>12</td>\n",
       "      <td>10</td>\n",
       "      <td>Charlie</td>\n",
       "      <td>None</td>\n",
       "      <td>None</td>\n",
       "      <td>None</td>\n",
       "      <td>None</td>\n",
       "    </tr>\n",
       "  </tbody>\n",
       "</table>\n",
       "</div>"
      ],
      "text/plain": [
       "               tweet_id  in_reply_to_status_id  in_reply_to_user_id  \\\n",
       "932  754011816964026368                    NaN                  NaN   \n",
       "\n",
       "                     timestamp  \\\n",
       "932  2016-07-15 17:56:40 +0000   \n",
       "\n",
       "                                                source  \\\n",
       "932  <a href=\"http://twitter.com/download/iphone\" r...   \n",
       "\n",
       "                                                  text  retweeted_status_id  \\\n",
       "932  This is Charlie. He pouts until he gets to go ...                  NaN   \n",
       "\n",
       "     retweeted_status_user_id retweeted_status_timestamp  \\\n",
       "932                       NaN                        NaN   \n",
       "\n",
       "                                         expanded_urls  rating_numerator  \\\n",
       "932  https://twitter.com/dog_rates/status/754011816...                12   \n",
       "\n",
       "     rating_denominator     name doggo floofer pupper puppo  \n",
       "932                  10  Charlie  None    None   None  None  "
      ]
     },
     "execution_count": 23,
     "metadata": {},
     "output_type": "execute_result"
    }
   ],
   "source": [
    "df_twtr.query('tweet_id == {tweet_id}'.format(tweet_id=twtr_err_ids_not_retweets[0]))"
   ]
  },
  {
   "cell_type": "markdown",
   "metadata": {},
   "source": [
    "This one `tweet_id` seems to be genuine missing data that we need to handle."
   ]
  },
  {
   "cell_type": "markdown",
   "metadata": {},
   "source": [
    "\n",
    "## Validity"
   ]
  },
  {
   "cell_type": "markdown",
   "metadata": {},
   "source": [
    "One of the validity issues that can be spotted right away from .info() on df_twtr is that the datatype of the timestamp fields, which needs to be converted to `datetime` instead of `object`. Similarly in df_img_pred, the predictdions need to converted to categorical data variables."
   ]
  },
  {
   "cell_type": "markdown",
   "metadata": {},
   "source": [
    "## Accuracy"
   ]
  },
  {
   "cell_type": "markdown",
   "metadata": {},
   "source": [
    "Now, let's look at summary statistics and ranges of ratings columns, to look for inaccurage values, since those are numerical columns that we plan to use in our analysis."
   ]
  },
  {
   "cell_type": "code",
   "execution_count": 24,
   "metadata": {},
   "outputs": [
    {
     "data": {
      "text/plain": [
       "count    2356.000000\n",
       "mean       13.126486\n",
       "std        45.876648\n",
       "min         0.000000\n",
       "25%        10.000000\n",
       "50%        11.000000\n",
       "75%        12.000000\n",
       "max      1776.000000\n",
       "Name: rating_numerator, dtype: float64"
      ]
     },
     "execution_count": 24,
     "metadata": {},
     "output_type": "execute_result"
    }
   ],
   "source": [
    "df_twtr['rating_numerator'].describe()"
   ]
  },
  {
   "cell_type": "code",
   "execution_count": 25,
   "metadata": {
    "scrolled": false
   },
   "outputs": [
    {
     "data": {
      "text/plain": [
       "10     2333\n",
       "11        3\n",
       "50        3\n",
       "80        2\n",
       "20        2\n",
       "2         1\n",
       "16        1\n",
       "40        1\n",
       "70        1\n",
       "15        1\n",
       "90        1\n",
       "110       1\n",
       "120       1\n",
       "130       1\n",
       "150       1\n",
       "170       1\n",
       "7         1\n",
       "0         1\n",
       "Name: rating_denominator, dtype: int64"
      ]
     },
     "execution_count": 25,
     "metadata": {},
     "output_type": "execute_result"
    }
   ],
   "source": [
    "df_twtr['rating_denominator'].value_counts()"
   ]
  },
  {
   "cell_type": "markdown",
   "metadata": {},
   "source": [
    "First, we notice that not all denominators are out of 10. This will make comparing the dog ratings difficult, so we either need to scale down the numerators to a scale of 10, or discard these. To determine the source of these non-10 ratings and to correct them let's print the full-text of the tweet which is the source of the ratings. The below helper function should print the complete JSON given a dataframe that could be a subset of our tweets."
   ]
  },
  {
   "cell_type": "code",
   "execution_count": 26,
   "metadata": {},
   "outputs": [],
   "source": [
    "def print_tweet_info(dataframe, **kwargs):\n",
    "    for index, row in dataframe.iterrows():\n",
    "        print('tweet_id: {}'.format(row['tweet_id']))\n",
    "        print('full_text: {}'.format(row['text']))\n",
    "        print('rating: {}/{}'.format(row['rating_numerator'], row['rating_denominator']))\n",
    "        if kwargs:\n",
    "              for k, v in kwargs.items():\n",
    "                  print('{key}: {val}'.format(key=k, val=row[v]))\n",
    "        print(\"\")"
   ]
  },
  {
   "cell_type": "code",
   "execution_count": 27,
   "metadata": {},
   "outputs": [
    {
     "name": "stdout",
     "output_type": "stream",
     "text": [
      "tweet_id: 835246439529840640\n",
      "full_text: @jonnysun @Lin_Manuel ok jomny I know you're excited but 960/00 isn't a valid rating, 13/10 is tho\n",
      "rating: 960/0\n",
      "\n",
      "tweet_id: 832088576586297345\n",
      "full_text: @docmisterio account started on 11/15/15\n",
      "rating: 11/15\n",
      "\n",
      "tweet_id: 820690176645140481\n",
      "full_text: The floofs have been released I repeat the floofs have been released. 84/70 https://t.co/NIYC820tmd\n",
      "rating: 84/70\n",
      "\n",
      "tweet_id: 810984652412424192\n",
      "full_text: Meet Sam. She smiles 24/7 &amp; secretly aspires to be a reindeer. \n",
      "Keep Sam smiling by clicking and sharing this link:\n",
      "https://t.co/98tB8y7y7t https://t.co/LouL5vdvxx\n",
      "rating: 24/7\n",
      "\n",
      "tweet_id: 775096608509886464\n",
      "full_text: RT @dog_rates: After so many requests, this is Bretagne. She was the last surviving 9/11 search dog, and our second ever 14/10. RIP https:/…\n",
      "rating: 9/11\n",
      "\n",
      "tweet_id: 758467244762497024\n",
      "full_text: Why does this never happen at my front door... 165/150 https://t.co/HmwrdfEfUE\n",
      "rating: 165/150\n",
      "\n",
      "tweet_id: 740373189193256964\n",
      "full_text: After so many requests, this is Bretagne. She was the last surviving 9/11 search dog, and our second ever 14/10. RIP https://t.co/XAVDNDaVgQ\n",
      "rating: 9/11\n",
      "\n",
      "tweet_id: 731156023742988288\n",
      "full_text: Say hello to this unbelievably well behaved squad of doggos. 204/170 would try to pet all at once https://t.co/yGQI3He3xv\n",
      "rating: 204/170\n",
      "\n",
      "tweet_id: 722974582966214656\n",
      "full_text: Happy 4/20 from the squad! 13/10 for all https://t.co/eV1diwds8a\n",
      "rating: 4/20\n",
      "\n",
      "tweet_id: 716439118184652801\n",
      "full_text: This is Bluebert. He just saw that both #FinalFur match ups are split 50/50. Amazed af. 11/10 https://t.co/Kky1DPG4iq\n",
      "rating: 50/50\n",
      "\n",
      "tweet_id: 713900603437621249\n",
      "full_text: Happy Saturday here's 9 puppers on a bench. 99/90 good work everybody https://t.co/mpvaVxKmc1\n",
      "rating: 99/90\n",
      "\n",
      "tweet_id: 710658690886586372\n",
      "full_text: Here's a brigade of puppers. All look very prepared for whatever happens next. 80/80 https://t.co/0eb7R1Om12\n",
      "rating: 80/80\n",
      "\n",
      "tweet_id: 709198395643068416\n",
      "full_text: From left to right:\n",
      "Cletus, Jerome, Alejandro, Burp, &amp; Titson\n",
      "None know where camera is. 45/50 would hug all at once https://t.co/sedre1ivTK\n",
      "rating: 45/50\n",
      "\n",
      "tweet_id: 704054845121142784\n",
      "full_text: Here is a whole flock of puppers.  60/50 I'll take the lot https://t.co/9dpcw6MdWa\n",
      "rating: 60/50\n",
      "\n",
      "tweet_id: 697463031882764288\n",
      "full_text: Happy Wednesday here's a bucket of pups. 44/40 would pet all at once https://t.co/HppvrYuamZ\n",
      "rating: 44/40\n",
      "\n",
      "tweet_id: 686035780142297088\n",
      "full_text: Yes I do realize a rating of 4/20 would've been fitting. However, it would be unjust to give these cooperative pups that low of a rating\n",
      "rating: 4/20\n",
      "\n",
      "tweet_id: 684225744407494656\n",
      "full_text: Two sneaky puppers were not initially seen, moving the rating to 143/130. Please forgive us. Thank you https://t.co/kRK51Y5ac3\n",
      "rating: 143/130\n",
      "\n",
      "tweet_id: 684222868335505415\n",
      "full_text: Someone help the girl is being mugged. Several are distracting her while two steal her shoes. Clever puppers 121/110 https://t.co/1zfnTJLt55\n",
      "rating: 121/110\n",
      "\n",
      "tweet_id: 682962037429899265\n",
      "full_text: This is Darrel. He just robbed a 7/11 and is in a high speed police chase. Was just spotted by the helicopter 10/10 https://t.co/7EsP8LmSp5\n",
      "rating: 7/11\n",
      "\n",
      "tweet_id: 682808988178739200\n",
      "full_text: I'm aware that I could've said 20/16, but here at WeRateDogs we are very professional. An inconsistent rating scale is simply irresponsible\n",
      "rating: 20/16\n",
      "\n",
      "tweet_id: 677716515794329600\n",
      "full_text: IT'S PUPPERGEDDON. Total of 144/120 ...I think https://t.co/ZanVtAtvIq\n",
      "rating: 144/120\n",
      "\n",
      "tweet_id: 675853064436391936\n",
      "full_text: Here we have an entire platoon of puppers. Total score: 88/80 would pet all at once https://t.co/y93p6FLvVw\n",
      "rating: 88/80\n",
      "\n",
      "tweet_id: 666287406224695296\n",
      "full_text: This is an Albanian 3 1/2 legged  Episcopalian. Loves well-polished hardwood flooring. Penis on the collar. 9/10 https://t.co/d9NcXFKwLv\n",
      "rating: 1/2\n",
      "\n"
     ]
    }
   ],
   "source": [
    "print_tweet_info(df_twtr.query('rating_denominator != 10'))"
   ]
  },
  {
   "cell_type": "markdown",
   "metadata": {},
   "source": [
    "We see that non-10 denominators primarily originate from three sources. The score of 20/16 is an error that WeRateDogs seem to acknowledge and we could remove this datapoint."
   ]
  },
  {
   "cell_type": "markdown",
   "metadata": {},
   "source": [
    "The other errors are in lines where there are more than one matches for the numerator/denominator pattern and the parser seems to have picked the first of these ratios which denotes something other than the rating- eg. 24/7, 7/11 etc. \n",
    "In the 24/7 case, no rating seems to have been given, so this is another datapoint that has to be removed.\n",
    "We will then try and reparse the correct ratings from the full-text for these rows by looking for a multiple of 10 denominator. "
   ]
  },
  {
   "cell_type": "markdown",
   "metadata": {},
   "source": [
    "Finally, when the denominator is a multiple of 10 but not 10 exactly, the rating seems to have been given for a group rather than a single puppy, so we can scale these down to 10 to get the average rating per puppy in the group."
   ]
  },
  {
   "cell_type": "markdown",
   "metadata": {},
   "source": [
    "When we look at the numerator distributions, we see that the upper quartile rating is 12 (numerator greater than denominator is permitted in this ratings schema), but there are some very high values going all the way upto 1776. Let's specifically examine the high numerators when the denominator is at 10 is equal to 10. Lets fix the numerator threshold at 20 and look at numerators that exceed twice the denominator."
   ]
  },
  {
   "cell_type": "code",
   "execution_count": 28,
   "metadata": {},
   "outputs": [],
   "source": [
    "numerator_threshold = 20"
   ]
  },
  {
   "cell_type": "code",
   "execution_count": 29,
   "metadata": {},
   "outputs": [
    {
     "name": "stdout",
     "output_type": "stream",
     "text": [
      "tweet_id: 855862651834028034\n",
      "full_text: @dhmontgomery We also gave snoop dogg a 420/10 but I think that predated your research\n",
      "rating: 420/10\n",
      "\n",
      "tweet_id: 855860136149123072\n",
      "full_text: @s8n You tried very hard to portray this good boy as not so good, but you have ultimately failed. His goodness shines through. 666/10\n",
      "rating: 666/10\n",
      "\n",
      "tweet_id: 838150277551247360\n",
      "full_text: @markhoppus 182/10\n",
      "rating: 182/10\n",
      "\n",
      "tweet_id: 832215909146226688\n",
      "full_text: RT @dog_rates: This is Logan, the Chow who lived. He solemnly swears he's up to lots of good. H*ckin magical af 9.75/10 https://t.co/yBO5wu…\n",
      "rating: 75/10\n",
      "\n",
      "tweet_id: 786709082849828864\n",
      "full_text: This is Logan, the Chow who lived. He solemnly swears he's up to lots of good. H*ckin magical af 9.75/10 https://t.co/yBO5wuqaPS\n",
      "rating: 75/10\n",
      "\n",
      "tweet_id: 778027034220126208\n",
      "full_text: This is Sophie. She's a Jubilant Bush Pupper. Super h*ckin rare. Appears at random just to smile at the locals. 11.27/10 would smile back https://t.co/QFaUiIHxHq\n",
      "rating: 27/10\n",
      "\n",
      "tweet_id: 749981277374128128\n",
      "full_text: This is Atticus. He's quite simply America af. 1776/10 https://t.co/GRXwMxLBkh\n",
      "rating: 1776/10\n",
      "\n",
      "tweet_id: 680494726643068929\n",
      "full_text: Here we have uncovered an entire battalion of holiday puppers. Average of 11.26/10 https://t.co/eNm2S6p9BD\n",
      "rating: 26/10\n",
      "\n",
      "tweet_id: 670842764863651840\n",
      "full_text: After so many requests... here you go.\n",
      "\n",
      "Good dogg. 420/10 https://t.co/yfAAo1gdeY\n",
      "rating: 420/10\n",
      "\n"
     ]
    }
   ],
   "source": [
    "print_tweet_info(df_twtr.query('rating_denominator == 10 and rating_numerator > {numerator_threshold}'.format(numerator_threshold=numerator_threshold)))"
   ]
  },
  {
   "cell_type": "markdown",
   "metadata": {},
   "source": [
    "We see that the numerator has been parsed wrongly whenever there it is a decimal rather than an integer. When we reparse the numerator, we will change the pattern to look for decimals in numerator. In other cases, the numerator values genuinely are that high."
   ]
  },
  {
   "cell_type": "markdown",
   "metadata": {},
   "source": [
    "## Consistency"
   ]
  },
  {
   "cell_type": "markdown",
   "metadata": {},
   "source": [
    "There are consistency issues such as some of the columns referencing id's are float while the tweet_id itself is int but we will ignore it here since those columns will not be used for our analysis."
   ]
  },
  {
   "cell_type": "markdown",
   "metadata": {},
   "source": [
    "## Summary"
   ]
  },
  {
   "cell_type": "markdown",
   "metadata": {},
   "source": [
    "Let's summarize the quality issues from above, and also note the tidyness issues here."
   ]
  },
  {
   "cell_type": "markdown",
   "metadata": {},
   "source": [
    "### Quality"
   ]
  },
  {
   "cell_type": "markdown",
   "metadata": {},
   "source": [
    "#### table1: `twitter_archive_enhanced`"
   ]
  },
  {
   "cell_type": "markdown",
   "metadata": {},
   "source": [
    "- 181 of the entries are retweets rather than original ratings, and should not be included in the analysis.\n",
    "- Column(s) that reference a `timestamp` should be represented using datatype `datetime` instead of `object`.\n",
    "- Extract `day_of_week` from tweet `timestamp`\n",
    "- The 20/16 and 24/7 incorrect rating datapoints needs to be removed.\n",
    "- Ratings need to be reparsed from full-text to look only for multiple of 10 in the denominator and allow for decimals in numerator when forming the regular expression.\n",
    "- When the denominator is a multiple of 10 greater than 10, we need to scale down the rating  to a denominator of 10 to get the average rating for the group of dogs.\n",
    "- Handle tweets that are incorrectly tagged with more than one dog stage."
   ]
  },
  {
   "cell_type": "markdown",
   "metadata": {},
   "source": [
    "#### table2: `image_predictions`"
   ]
  },
  {
   "cell_type": "markdown",
   "metadata": {},
   "source": [
    "- Image predictions are missing for atleast 100 twitter id's.\n",
    "- Dog breed prediction columns need to be converted snake-case and then into categorical variables"
   ]
  },
  {
   "cell_type": "markdown",
   "metadata": {},
   "source": [
    "#### table3: `tweet_json`"
   ]
  },
  {
   "cell_type": "markdown",
   "metadata": {},
   "source": [
    "- Error pulling tweet_json for one of the twitter_ids."
   ]
  },
  {
   "cell_type": "markdown",
   "metadata": {},
   "source": [
    "### Tidiness"
   ]
  },
  {
   "cell_type": "markdown",
   "metadata": {},
   "source": [
    "- The columns `doggo`, `floofer`, `pupper` and `puppo` can be combined into a single column called `dog_stages` of type `categorical`\n",
    "- Merge `tweet_json` table into `twitter_archive_enhanced` table by adding the `retweet_count` and `favorite_count` to the original table\n",
    "- Drop columns for retweet status from merged dataframe as they will always be null once retweets are removed and we don't have to clean datatype for these columns then.\n",
    "- Generate a new column called `predicted_dog` in `img_predictions` table using the three prediction confidence values to get the final dog prediction that will be used for analysis.\n"
   ]
  },
  {
   "cell_type": "markdown",
   "metadata": {},
   "source": [
    "In the following section, we will define, code and test the cleaning action for each of the above issues."
   ]
  },
  {
   "cell_type": "markdown",
   "metadata": {},
   "source": [
    "# Clean"
   ]
  },
  {
   "cell_type": "markdown",
   "metadata": {},
   "source": [
    "Let's start by making a copy of all the three dataframes."
   ]
  },
  {
   "cell_type": "code",
   "execution_count": 30,
   "metadata": {},
   "outputs": [],
   "source": [
    "df_twtr_clean = df_twtr.copy()\n",
    "df_img_pred_clean = df_img_pred.copy()\n",
    "df_tweet_meta_clean = df_tweet_meta.copy()"
   ]
  },
  {
   "cell_type": "markdown",
   "metadata": {},
   "source": [
    "## Completeness"
   ]
  },
  {
   "cell_type": "markdown",
   "metadata": {},
   "source": [
    "### 181 of the entries are retweets rather than original ratings, and should not be included in the analysis"
   ]
  },
  {
   "cell_type": "markdown",
   "metadata": {},
   "source": [
    "#### Define"
   ]
  },
  {
   "cell_type": "markdown",
   "metadata": {},
   "source": [
    "Remove entries that don't have retweeted_status_id as null, from the dataframe."
   ]
  },
  {
   "cell_type": "markdown",
   "metadata": {},
   "source": [
    "#### Code"
   ]
  },
  {
   "cell_type": "code",
   "execution_count": 31,
   "metadata": {},
   "outputs": [],
   "source": [
    "df_twtr_clean = df_twtr_clean[df_twtr_clean.retweeted_status_id.isnull()]"
   ]
  },
  {
   "cell_type": "markdown",
   "metadata": {},
   "source": [
    "#### Test"
   ]
  },
  {
   "cell_type": "markdown",
   "metadata": {},
   "source": [
    "Confirm that 181 entries have been removed and that gets rid of the rows with non-null retweeted_status_ids."
   ]
  },
  {
   "cell_type": "code",
   "execution_count": 32,
   "metadata": {},
   "outputs": [],
   "source": [
    "assert df_twtr_clean.shape[0] + 181 == df_twtr.shape[0]"
   ]
  },
  {
   "cell_type": "code",
   "execution_count": 33,
   "metadata": {},
   "outputs": [
    {
     "data": {
      "text/html": [
       "<div>\n",
       "<style scoped>\n",
       "    .dataframe tbody tr th:only-of-type {\n",
       "        vertical-align: middle;\n",
       "    }\n",
       "\n",
       "    .dataframe tbody tr th {\n",
       "        vertical-align: top;\n",
       "    }\n",
       "\n",
       "    .dataframe thead th {\n",
       "        text-align: right;\n",
       "    }\n",
       "</style>\n",
       "<table border=\"1\" class=\"dataframe\">\n",
       "  <thead>\n",
       "    <tr style=\"text-align: right;\">\n",
       "      <th></th>\n",
       "      <th>tweet_id</th>\n",
       "      <th>in_reply_to_status_id</th>\n",
       "      <th>in_reply_to_user_id</th>\n",
       "      <th>timestamp</th>\n",
       "      <th>source</th>\n",
       "      <th>text</th>\n",
       "      <th>retweeted_status_id</th>\n",
       "      <th>retweeted_status_user_id</th>\n",
       "      <th>retweeted_status_timestamp</th>\n",
       "      <th>expanded_urls</th>\n",
       "      <th>rating_numerator</th>\n",
       "      <th>rating_denominator</th>\n",
       "      <th>name</th>\n",
       "      <th>doggo</th>\n",
       "      <th>floofer</th>\n",
       "      <th>pupper</th>\n",
       "      <th>puppo</th>\n",
       "    </tr>\n",
       "  </thead>\n",
       "  <tbody>\n",
       "    <tr>\n",
       "      <th>0</th>\n",
       "      <td>892420643555336193</td>\n",
       "      <td>NaN</td>\n",
       "      <td>NaN</td>\n",
       "      <td>2017-08-01 16:23:56 +0000</td>\n",
       "      <td>&lt;a href=\"http://twitter.com/download/iphone\" r...</td>\n",
       "      <td>This is Phineas. He's a mystical boy. Only eve...</td>\n",
       "      <td>NaN</td>\n",
       "      <td>NaN</td>\n",
       "      <td>NaN</td>\n",
       "      <td>https://twitter.com/dog_rates/status/892420643...</td>\n",
       "      <td>13</td>\n",
       "      <td>10</td>\n",
       "      <td>Phineas</td>\n",
       "      <td>None</td>\n",
       "      <td>None</td>\n",
       "      <td>None</td>\n",
       "      <td>None</td>\n",
       "    </tr>\n",
       "    <tr>\n",
       "      <th>1</th>\n",
       "      <td>892177421306343426</td>\n",
       "      <td>NaN</td>\n",
       "      <td>NaN</td>\n",
       "      <td>2017-08-01 00:17:27 +0000</td>\n",
       "      <td>&lt;a href=\"http://twitter.com/download/iphone\" r...</td>\n",
       "      <td>This is Tilly. She's just checking pup on you....</td>\n",
       "      <td>NaN</td>\n",
       "      <td>NaN</td>\n",
       "      <td>NaN</td>\n",
       "      <td>https://twitter.com/dog_rates/status/892177421...</td>\n",
       "      <td>13</td>\n",
       "      <td>10</td>\n",
       "      <td>Tilly</td>\n",
       "      <td>None</td>\n",
       "      <td>None</td>\n",
       "      <td>None</td>\n",
       "      <td>None</td>\n",
       "    </tr>\n",
       "  </tbody>\n",
       "</table>\n",
       "</div>"
      ],
      "text/plain": [
       "             tweet_id  in_reply_to_status_id  in_reply_to_user_id  \\\n",
       "0  892420643555336193                    NaN                  NaN   \n",
       "1  892177421306343426                    NaN                  NaN   \n",
       "\n",
       "                   timestamp  \\\n",
       "0  2017-08-01 16:23:56 +0000   \n",
       "1  2017-08-01 00:17:27 +0000   \n",
       "\n",
       "                                              source  \\\n",
       "0  <a href=\"http://twitter.com/download/iphone\" r...   \n",
       "1  <a href=\"http://twitter.com/download/iphone\" r...   \n",
       "\n",
       "                                                text  retweeted_status_id  \\\n",
       "0  This is Phineas. He's a mystical boy. Only eve...                  NaN   \n",
       "1  This is Tilly. She's just checking pup on you....                  NaN   \n",
       "\n",
       "   retweeted_status_user_id retweeted_status_timestamp  \\\n",
       "0                       NaN                        NaN   \n",
       "1                       NaN                        NaN   \n",
       "\n",
       "                                       expanded_urls  rating_numerator  \\\n",
       "0  https://twitter.com/dog_rates/status/892420643...                13   \n",
       "1  https://twitter.com/dog_rates/status/892177421...                13   \n",
       "\n",
       "   rating_denominator     name doggo floofer pupper puppo  \n",
       "0                  10  Phineas  None    None   None  None  \n",
       "1                  10    Tilly  None    None   None  None  "
      ]
     },
     "execution_count": 33,
     "metadata": {},
     "output_type": "execute_result"
    }
   ],
   "source": [
    "df_twtr_clean.head(2)"
   ]
  },
  {
   "cell_type": "markdown",
   "metadata": {},
   "source": [
    "### Error pulling tweet_json for one of the twitter_ids"
   ]
  },
  {
   "cell_type": "markdown",
   "metadata": {},
   "source": [
    "#### Define"
   ]
  },
  {
   "cell_type": "markdown",
   "metadata": {},
   "source": [
    "Drop the row for `tweet_id` corresponding to `twtr_err_ids_not_retweets[0]`"
   ]
  },
  {
   "cell_type": "markdown",
   "metadata": {},
   "source": [
    "#### Code"
   ]
  },
  {
   "cell_type": "code",
   "execution_count": 34,
   "metadata": {},
   "outputs": [],
   "source": [
    "df_twtr_clean = df_twtr_clean.drop(df_twtr_clean[df_twtr_clean.tweet_id == twtr_err_ids_not_retweets[0]].index)"
   ]
  },
  {
   "cell_type": "markdown",
   "metadata": {},
   "source": [
    "#### Test"
   ]
  },
  {
   "cell_type": "code",
   "execution_count": 35,
   "metadata": {},
   "outputs": [
    {
     "data": {
      "text/plain": [
       "2174"
      ]
     },
     "execution_count": 35,
     "metadata": {},
     "output_type": "execute_result"
    }
   ],
   "source": [
    "df_twtr_clean.shape[0]"
   ]
  },
  {
   "cell_type": "code",
   "execution_count": 36,
   "metadata": {},
   "outputs": [
    {
     "data": {
      "text/plain": [
       "False"
      ]
     },
     "execution_count": 36,
     "metadata": {},
     "output_type": "execute_result"
    }
   ],
   "source": [
    "(df_twtr_clean.tweet_id == twtr_err_ids_not_retweets[0]).any()"
   ]
  },
  {
   "cell_type": "markdown",
   "metadata": {},
   "source": [
    "### Image predictions are missing for atleast 100 twitter id's"
   ]
  },
  {
   "cell_type": "markdown",
   "metadata": {},
   "source": [
    "#### Define"
   ]
  },
  {
   "cell_type": "markdown",
   "metadata": {},
   "source": [
    "Remove entries for `tweet_ids` that are not present in image predictions dataframe from the enhanced twitter dataframe and vice-versa."
   ]
  },
  {
   "cell_type": "markdown",
   "metadata": {},
   "source": [
    "#### Code"
   ]
  },
  {
   "cell_type": "code",
   "execution_count": 37,
   "metadata": {},
   "outputs": [],
   "source": [
    "# Only keep entries that have a tweet_id in other dataframe\n",
    "df_twtr_clean = df_twtr_clean[df_twtr_clean.tweet_id.isin(df_img_pred_clean.tweet_id)]"
   ]
  },
  {
   "cell_type": "code",
   "execution_count": 38,
   "metadata": {},
   "outputs": [],
   "source": [
    "df_img_pred_clean = df_img_pred_clean[df_img_pred_clean.tweet_id.isin(df_twtr_clean.tweet_id)]"
   ]
  },
  {
   "cell_type": "markdown",
   "metadata": {},
   "source": [
    "#### Test"
   ]
  },
  {
   "cell_type": "code",
   "execution_count": 39,
   "metadata": {},
   "outputs": [],
   "source": [
    "assert df_twtr_clean.shape[0] == df_img_pred_clean.shape[0]"
   ]
  },
  {
   "cell_type": "code",
   "execution_count": 40,
   "metadata": {
    "scrolled": true
   },
   "outputs": [
    {
     "data": {
      "text/plain": [
       "count    1975.000000\n",
       "mean       11.698228\n",
       "std        40.861593\n",
       "min         0.000000\n",
       "25%        10.000000\n",
       "50%        11.000000\n",
       "75%        12.000000\n",
       "max      1776.000000\n",
       "Name: rating_numerator, dtype: float64"
      ]
     },
     "execution_count": 40,
     "metadata": {},
     "output_type": "execute_result"
    }
   ],
   "source": [
    "# Confirm that the max rating dint get eliminated \n",
    "df_twtr_clean.query('rating_denominator == 10').rating_numerator.describe()"
   ]
  },
  {
   "cell_type": "markdown",
   "metadata": {},
   "source": [
    "## Tidiness"
   ]
  },
  {
   "cell_type": "markdown",
   "metadata": {},
   "source": [
    "### The columns doggo, floofer, pupper and puppo can be combined into a single column called dog_stages of type categorical"
   ]
  },
  {
   "cell_type": "markdown",
   "metadata": {},
   "source": [
    "#### Define"
   ]
  },
  {
   "cell_type": "markdown",
   "metadata": {},
   "source": [
    "Change each of the stages columns to boolean, setting it to True if it is not None. We noticed during visual assessment that several of the tweet_ids do not have a doggy stage set. So, let us create a new column called `unknown` and set it to `True` if all the stages are `False`.\n",
    "Finally, use Pandas melt function to create the `dog_stages` column by combining the four separate columns - doggo, floofer, pupper, puppo and drop all the `False` rows."
   ]
  },
  {
   "cell_type": "markdown",
   "metadata": {},
   "source": [
    "#### Code"
   ]
  },
  {
   "cell_type": "code",
   "execution_count": 41,
   "metadata": {},
   "outputs": [],
   "source": [
    "dog_stages_cols = ['doggo', 'floofer', 'pupper', 'puppo']\n",
    "# Initialize id_var_cols to all the columns in the dataframe and then remove the dog_stage_cols from it\n",
    "id_var_cols = df_twtr_clean.columns.tolist()\n",
    "# Initial placeholder none column to all zeros\n",
    "df_twtr_clean['none'] = 0"
   ]
  },
  {
   "cell_type": "code",
   "execution_count": 42,
   "metadata": {},
   "outputs": [],
   "source": [
    "for dog_stage_col in dog_stages_cols:\n",
    "    # Convert each column to boolean - setting to True if not None.\n",
    "    df_twtr_clean[dog_stage_col] = df_twtr_clean[dog_stage_col].map(lambda x: False if x == 'None' else True)\n",
    "    # Accumulate the set dog stages into None- to be converted to boolean column later\n",
    "    df_twtr_clean['none'] += df_twtr_clean[dog_stage_col]\n",
    "    # Remove this dog stage column from id_var_cols\n",
    "    id_var_cols.remove(dog_stage_col)"
   ]
  },
  {
   "cell_type": "code",
   "execution_count": 43,
   "metadata": {},
   "outputs": [],
   "source": [
    "# Convert none column to boolean - 'none' is True if the sum of other stage columns adds up to 0\n",
    "df_twtr_clean['none'] = df_twtr_clean['none'].map(lambda x: True if x == 0 else False)"
   ]
  },
  {
   "cell_type": "code",
   "execution_count": 44,
   "metadata": {},
   "outputs": [],
   "source": [
    "df_twtr_clean = pd.melt(df_twtr_clean, id_vars=id_var_cols, var_name='dog_stage', value_name='dog_stage_value')"
   ]
  },
  {
   "cell_type": "code",
   "execution_count": 45,
   "metadata": {},
   "outputs": [],
   "source": [
    "# Remove all the entries where the stage value is False\n",
    "df_twtr_clean = df_twtr_clean[df_twtr_clean.dog_stage_value]"
   ]
  },
  {
   "cell_type": "code",
   "execution_count": 46,
   "metadata": {},
   "outputs": [],
   "source": [
    "# Drop the dog_stage_value column since it will always be True and the dog_stage column is sufficient in itself\n",
    "df_twtr_clean.drop(['dog_stage_value'], axis=1, inplace=True)"
   ]
  },
  {
   "cell_type": "code",
   "execution_count": 47,
   "metadata": {},
   "outputs": [],
   "source": [
    "# Convert dog_stage column to categorical\n",
    "df_twtr_clean.dog_stage = df_twtr_clean.dog_stage.astype('category')"
   ]
  },
  {
   "cell_type": "markdown",
   "metadata": {},
   "source": [
    "#### Test"
   ]
  },
  {
   "cell_type": "code",
   "execution_count": 48,
   "metadata": {},
   "outputs": [
    {
     "name": "stdout",
     "output_type": "stream",
     "text": [
      "<class 'pandas.core.frame.DataFrame'>\n",
      "Int64Index: 2004 entries, 9 to 9964\n",
      "Data columns (total 14 columns):\n",
      "tweet_id                      2004 non-null int64\n",
      "in_reply_to_status_id         24 non-null float64\n",
      "in_reply_to_user_id           24 non-null float64\n",
      "timestamp                     2004 non-null object\n",
      "source                        2004 non-null object\n",
      "text                          2004 non-null object\n",
      "retweeted_status_id           0 non-null float64\n",
      "retweeted_status_user_id      0 non-null float64\n",
      "retweeted_status_timestamp    0 non-null object\n",
      "expanded_urls                 2004 non-null object\n",
      "rating_numerator              2004 non-null int64\n",
      "rating_denominator            2004 non-null int64\n",
      "name                          2004 non-null object\n",
      "dog_stage                     2004 non-null category\n",
      "dtypes: category(1), float64(4), int64(3), object(6)\n",
      "memory usage: 221.3+ KB\n"
     ]
    }
   ],
   "source": [
    "df_twtr_clean.info()"
   ]
  },
  {
   "cell_type": "code",
   "execution_count": 49,
   "metadata": {},
   "outputs": [
    {
     "data": {
      "text/html": [
       "<div>\n",
       "<style scoped>\n",
       "    .dataframe tbody tr th:only-of-type {\n",
       "        vertical-align: middle;\n",
       "    }\n",
       "\n",
       "    .dataframe tbody tr th {\n",
       "        vertical-align: top;\n",
       "    }\n",
       "\n",
       "    .dataframe thead th {\n",
       "        text-align: right;\n",
       "    }\n",
       "</style>\n",
       "<table border=\"1\" class=\"dataframe\">\n",
       "  <thead>\n",
       "    <tr style=\"text-align: right;\">\n",
       "      <th></th>\n",
       "      <th>tweet_id</th>\n",
       "      <th>in_reply_to_status_id</th>\n",
       "      <th>in_reply_to_user_id</th>\n",
       "      <th>timestamp</th>\n",
       "      <th>source</th>\n",
       "      <th>text</th>\n",
       "      <th>retweeted_status_id</th>\n",
       "      <th>retweeted_status_user_id</th>\n",
       "      <th>retweeted_status_timestamp</th>\n",
       "      <th>expanded_urls</th>\n",
       "      <th>rating_numerator</th>\n",
       "      <th>rating_denominator</th>\n",
       "      <th>name</th>\n",
       "      <th>dog_stage</th>\n",
       "    </tr>\n",
       "  </thead>\n",
       "  <tbody>\n",
       "    <tr>\n",
       "      <th>8603</th>\n",
       "      <td>762471784394268675</td>\n",
       "      <td>NaN</td>\n",
       "      <td>NaN</td>\n",
       "      <td>2016-08-08 02:13:34 +0000</td>\n",
       "      <td>&lt;a href=\"http://twitter.com/download/iphone\" r...</td>\n",
       "      <td>Meet Glenn. Being in public scares him. Fright...</td>\n",
       "      <td>NaN</td>\n",
       "      <td>NaN</td>\n",
       "      <td>NaN</td>\n",
       "      <td>https://twitter.com/dog_rates/status/762471784...</td>\n",
       "      <td>12</td>\n",
       "      <td>10</td>\n",
       "      <td>Glenn</td>\n",
       "      <td>none</td>\n",
       "    </tr>\n",
       "    <tr>\n",
       "      <th>8736</th>\n",
       "      <td>745789745784041472</td>\n",
       "      <td>NaN</td>\n",
       "      <td>NaN</td>\n",
       "      <td>2016-06-23 01:25:06 +0000</td>\n",
       "      <td>&lt;a href=\"http://twitter.com/download/iphone\" r...</td>\n",
       "      <td>This is Gus. He didn't win the Powerball. Quit...</td>\n",
       "      <td>NaN</td>\n",
       "      <td>NaN</td>\n",
       "      <td>NaN</td>\n",
       "      <td>https://twitter.com/dog_rates/status/745789745...</td>\n",
       "      <td>10</td>\n",
       "      <td>10</td>\n",
       "      <td>Gus</td>\n",
       "      <td>none</td>\n",
       "    </tr>\n",
       "    <tr>\n",
       "      <th>7975</th>\n",
       "      <td>891689557279858688</td>\n",
       "      <td>NaN</td>\n",
       "      <td>NaN</td>\n",
       "      <td>2017-07-30 15:58:51 +0000</td>\n",
       "      <td>&lt;a href=\"http://twitter.com/download/iphone\" r...</td>\n",
       "      <td>This is Darla. She commenced a snooze mid meal...</td>\n",
       "      <td>NaN</td>\n",
       "      <td>NaN</td>\n",
       "      <td>NaN</td>\n",
       "      <td>https://twitter.com/dog_rates/status/891689557...</td>\n",
       "      <td>13</td>\n",
       "      <td>10</td>\n",
       "      <td>Darla</td>\n",
       "      <td>none</td>\n",
       "    </tr>\n",
       "    <tr>\n",
       "      <th>9469</th>\n",
       "      <td>675798442703122432</td>\n",
       "      <td>NaN</td>\n",
       "      <td>NaN</td>\n",
       "      <td>2015-12-12 22:04:39 +0000</td>\n",
       "      <td>&lt;a href=\"http://twitter.com/download/iphone\" r...</td>\n",
       "      <td>This is Bernie. He just touched a boob for the...</td>\n",
       "      <td>NaN</td>\n",
       "      <td>NaN</td>\n",
       "      <td>NaN</td>\n",
       "      <td>https://twitter.com/dog_rates/status/675798442...</td>\n",
       "      <td>10</td>\n",
       "      <td>10</td>\n",
       "      <td>Bernie</td>\n",
       "      <td>none</td>\n",
       "    </tr>\n",
       "    <tr>\n",
       "      <th>238</th>\n",
       "      <td>834574053763584002</td>\n",
       "      <td>NaN</td>\n",
       "      <td>NaN</td>\n",
       "      <td>2017-02-23 01:22:14 +0000</td>\n",
       "      <td>&lt;a href=\"http://twitter.com/download/iphone\" r...</td>\n",
       "      <td>Here's a doggo fully pupared for a shower. H*c...</td>\n",
       "      <td>NaN</td>\n",
       "      <td>NaN</td>\n",
       "      <td>NaN</td>\n",
       "      <td>https://twitter.com/dog_rates/status/834574053...</td>\n",
       "      <td>13</td>\n",
       "      <td>10</td>\n",
       "      <td>None</td>\n",
       "      <td>doggo</td>\n",
       "    </tr>\n",
       "  </tbody>\n",
       "</table>\n",
       "</div>"
      ],
      "text/plain": [
       "                tweet_id  in_reply_to_status_id  in_reply_to_user_id  \\\n",
       "8603  762471784394268675                    NaN                  NaN   \n",
       "8736  745789745784041472                    NaN                  NaN   \n",
       "7975  891689557279858688                    NaN                  NaN   \n",
       "9469  675798442703122432                    NaN                  NaN   \n",
       "238   834574053763584002                    NaN                  NaN   \n",
       "\n",
       "                      timestamp  \\\n",
       "8603  2016-08-08 02:13:34 +0000   \n",
       "8736  2016-06-23 01:25:06 +0000   \n",
       "7975  2017-07-30 15:58:51 +0000   \n",
       "9469  2015-12-12 22:04:39 +0000   \n",
       "238   2017-02-23 01:22:14 +0000   \n",
       "\n",
       "                                                 source  \\\n",
       "8603  <a href=\"http://twitter.com/download/iphone\" r...   \n",
       "8736  <a href=\"http://twitter.com/download/iphone\" r...   \n",
       "7975  <a href=\"http://twitter.com/download/iphone\" r...   \n",
       "9469  <a href=\"http://twitter.com/download/iphone\" r...   \n",
       "238   <a href=\"http://twitter.com/download/iphone\" r...   \n",
       "\n",
       "                                                   text  retweeted_status_id  \\\n",
       "8603  Meet Glenn. Being in public scares him. Fright...                  NaN   \n",
       "8736  This is Gus. He didn't win the Powerball. Quit...                  NaN   \n",
       "7975  This is Darla. She commenced a snooze mid meal...                  NaN   \n",
       "9469  This is Bernie. He just touched a boob for the...                  NaN   \n",
       "238   Here's a doggo fully pupared for a shower. H*c...                  NaN   \n",
       "\n",
       "      retweeted_status_user_id retweeted_status_timestamp  \\\n",
       "8603                       NaN                        NaN   \n",
       "8736                       NaN                        NaN   \n",
       "7975                       NaN                        NaN   \n",
       "9469                       NaN                        NaN   \n",
       "238                        NaN                        NaN   \n",
       "\n",
       "                                          expanded_urls  rating_numerator  \\\n",
       "8603  https://twitter.com/dog_rates/status/762471784...                12   \n",
       "8736  https://twitter.com/dog_rates/status/745789745...                10   \n",
       "7975  https://twitter.com/dog_rates/status/891689557...                13   \n",
       "9469  https://twitter.com/dog_rates/status/675798442...                10   \n",
       "238   https://twitter.com/dog_rates/status/834574053...                13   \n",
       "\n",
       "      rating_denominator    name dog_stage  \n",
       "8603                  10   Glenn      none  \n",
       "8736                  10     Gus      none  \n",
       "7975                  10   Darla      none  \n",
       "9469                  10  Bernie      none  \n",
       "238                   10    None     doggo  "
      ]
     },
     "execution_count": 49,
     "metadata": {},
     "output_type": "execute_result"
    }
   ],
   "source": [
    "df_twtr_clean.sample(5)"
   ]
  },
  {
   "cell_type": "code",
   "execution_count": 50,
   "metadata": {
    "scrolled": true
   },
   "outputs": [
    {
     "name": "stdout",
     "output_type": "stream",
     "text": [
      "tweet_id: 854010172552949760\n",
      "full_text: At first I thought this was a shy doggo, but it's actually a Rare Canadian Floofer Owl. Amateurs would confuse the two. 11/10 only send dogs https://t.co/TXdT3tmuYk\n",
      "rating: 11/10\n",
      "\n",
      "tweet_id: 817777686764523521\n",
      "full_text: This is Dido. She's playing the lead role in \"Pupper Stops to Catch Snow Before Resuming Shadow Box with Dried Apple.\" 13/10 (IG: didodoggo) https://t.co/m7isZrOBX7\n",
      "rating: 13/10\n",
      "\n",
      "tweet_id: 808106460588765185\n",
      "full_text: Here we have Burke (pupper) and Dexter (doggo). Pupper wants to be exactly like doggo. Both 12/10 would pet at same time https://t.co/ANBpEYHaho\n",
      "rating: 12/10\n",
      "\n",
      "tweet_id: 802265048156610565\n",
      "full_text: Like doggo, like pupper version 2. Both 11/10 https://t.co/9IxWAXFqze\n",
      "rating: 11/10\n",
      "\n",
      "tweet_id: 801115127852503040\n",
      "full_text: This is Bones. He's being haunted by another doggo of roughly the same size. 12/10 deep breaths pupper everything's fine https://t.co/55Dqe0SJNj\n",
      "rating: 12/10\n",
      "\n",
      "tweet_id: 785639753186217984\n",
      "full_text: This is Pinot. He's a sophisticated doggo. You can tell by the hat. Also pointier than your average pupper. Still 10/10 would pet cautiously https://t.co/f2wmLZTPHd\n",
      "rating: 10/10\n",
      "\n",
      "tweet_id: 759793422261743616\n",
      "full_text: Meet Maggie &amp; Lila. Maggie is the doggo, Lila is the pupper. They are sisters. Both 12/10 would pet at the same time https://t.co/MYwR4DQKll\n",
      "rating: 12/10\n",
      "\n",
      "tweet_id: 751583847268179968\n",
      "full_text: Please stop sending it pictures that don't even have a doggo or pupper in them. Churlish af. 5/10 neat couch tho https://t.co/u2c9c7qSg8\n",
      "rating: 5/10\n",
      "\n",
      "tweet_id: 741067306818797568\n",
      "full_text: This is just downright precious af. 12/10 for both pupper and doggo https://t.co/o5J479bZUC\n",
      "rating: 12/10\n",
      "\n",
      "tweet_id: 733109485275860992\n",
      "full_text: Like father (doggo), like son (pupper). Both 12/10 https://t.co/pG2inLaOda\n",
      "rating: 12/10\n",
      "\n",
      "tweet_id: 855851453814013952\n",
      "full_text: Here's a puppo participating in the #ScienceMarch. Cleverly disguising her own doggo agenda. 13/10 would keep the planet habitable for https://t.co/cMhq16isel\n",
      "rating: 13/10\n",
      "\n"
     ]
    }
   ],
   "source": [
    "print_tweet_info(df_twtr_clean[df_twtr_clean.tweet_id.duplicated()])"
   ]
  },
  {
   "cell_type": "markdown",
   "metadata": {},
   "source": [
    "We notice that in some of the cases where a tweet has more than one dog stage, its because there are more than one dogs in the picture. It's okay to keep these as duplicated tweet ids. However, in some cases, its because of incorrectly tagging the dog based on additional dog stages being mentioned which are not accurate. These rows will be removed when cleaning for quality issues. We make a note of this in the summary section in the Assess section above."
   ]
  },
  {
   "cell_type": "markdown",
   "metadata": {},
   "source": [
    "### Merge tweet_json table into twitter_archive_enhanced table by adding the retweet_count and favorite_count to the original table"
   ]
  },
  {
   "cell_type": "markdown",
   "metadata": {},
   "source": [
    "#### Define"
   ]
  },
  {
   "cell_type": "markdown",
   "metadata": {},
   "source": [
    "Merge favorite_count and retweet_count from the tweet meta table into `df_twtr_clean` joining on `tweet_id`"
   ]
  },
  {
   "cell_type": "markdown",
   "metadata": {},
   "source": [
    "#### Code"
   ]
  },
  {
   "cell_type": "code",
   "execution_count": 51,
   "metadata": {},
   "outputs": [],
   "source": [
    "df_twtr_clean = pd.merge(df_twtr_clean, df_tweet_meta, on=['tweet_id'], how='left')"
   ]
  },
  {
   "cell_type": "markdown",
   "metadata": {},
   "source": [
    "#### Test"
   ]
  },
  {
   "cell_type": "code",
   "execution_count": 52,
   "metadata": {},
   "outputs": [
    {
     "name": "stdout",
     "output_type": "stream",
     "text": [
      "<class 'pandas.core.frame.DataFrame'>\n",
      "Int64Index: 2004 entries, 0 to 2003\n",
      "Data columns (total 16 columns):\n",
      "tweet_id                      2004 non-null int64\n",
      "in_reply_to_status_id         24 non-null float64\n",
      "in_reply_to_user_id           24 non-null float64\n",
      "timestamp                     2004 non-null object\n",
      "source                        2004 non-null object\n",
      "text                          2004 non-null object\n",
      "retweeted_status_id           0 non-null float64\n",
      "retweeted_status_user_id      0 non-null float64\n",
      "retweeted_status_timestamp    0 non-null object\n",
      "expanded_urls                 2004 non-null object\n",
      "rating_numerator              2004 non-null int64\n",
      "rating_denominator            2004 non-null int64\n",
      "name                          2004 non-null object\n",
      "dog_stage                     2004 non-null category\n",
      "favorite_count                2004 non-null int64\n",
      "retweet_count                 2004 non-null int64\n",
      "dtypes: category(1), float64(4), int64(5), object(6)\n",
      "memory usage: 252.7+ KB\n"
     ]
    }
   ],
   "source": [
    "df_twtr_clean.info()"
   ]
  },
  {
   "cell_type": "code",
   "execution_count": 53,
   "metadata": {},
   "outputs": [
    {
     "data": {
      "text/html": [
       "<div>\n",
       "<style scoped>\n",
       "    .dataframe tbody tr th:only-of-type {\n",
       "        vertical-align: middle;\n",
       "    }\n",
       "\n",
       "    .dataframe tbody tr th {\n",
       "        vertical-align: top;\n",
       "    }\n",
       "\n",
       "    .dataframe thead th {\n",
       "        text-align: right;\n",
       "    }\n",
       "</style>\n",
       "<table border=\"1\" class=\"dataframe\">\n",
       "  <thead>\n",
       "    <tr style=\"text-align: right;\">\n",
       "      <th></th>\n",
       "      <th>tweet_id</th>\n",
       "      <th>in_reply_to_status_id</th>\n",
       "      <th>in_reply_to_user_id</th>\n",
       "      <th>timestamp</th>\n",
       "      <th>source</th>\n",
       "      <th>text</th>\n",
       "      <th>retweeted_status_id</th>\n",
       "      <th>retweeted_status_user_id</th>\n",
       "      <th>retweeted_status_timestamp</th>\n",
       "      <th>expanded_urls</th>\n",
       "      <th>rating_numerator</th>\n",
       "      <th>rating_denominator</th>\n",
       "      <th>name</th>\n",
       "      <th>dog_stage</th>\n",
       "      <th>favorite_count</th>\n",
       "      <th>retweet_count</th>\n",
       "    </tr>\n",
       "  </thead>\n",
       "  <tbody>\n",
       "    <tr>\n",
       "      <th>1428</th>\n",
       "      <td>681193455364796417</td>\n",
       "      <td>NaN</td>\n",
       "      <td>NaN</td>\n",
       "      <td>2015-12-27 19:22:30 +0000</td>\n",
       "      <td>&lt;a href=\"http://twitter.com/download/iphone\" r...</td>\n",
       "      <td>This is Aspen. He's astronomically fluffy. I w...</td>\n",
       "      <td>NaN</td>\n",
       "      <td>NaN</td>\n",
       "      <td>NaN</td>\n",
       "      <td>https://twitter.com/dog_rates/status/681193455...</td>\n",
       "      <td>11</td>\n",
       "      <td>10</td>\n",
       "      <td>Aspen</td>\n",
       "      <td>none</td>\n",
       "      <td>3904</td>\n",
       "      <td>1603</td>\n",
       "    </tr>\n",
       "  </tbody>\n",
       "</table>\n",
       "</div>"
      ],
      "text/plain": [
       "                tweet_id  in_reply_to_status_id  in_reply_to_user_id  \\\n",
       "1428  681193455364796417                    NaN                  NaN   \n",
       "\n",
       "                      timestamp  \\\n",
       "1428  2015-12-27 19:22:30 +0000   \n",
       "\n",
       "                                                 source  \\\n",
       "1428  <a href=\"http://twitter.com/download/iphone\" r...   \n",
       "\n",
       "                                                   text  retweeted_status_id  \\\n",
       "1428  This is Aspen. He's astronomically fluffy. I w...                  NaN   \n",
       "\n",
       "      retweeted_status_user_id retweeted_status_timestamp  \\\n",
       "1428                       NaN                        NaN   \n",
       "\n",
       "                                          expanded_urls  rating_numerator  \\\n",
       "1428  https://twitter.com/dog_rates/status/681193455...                11   \n",
       "\n",
       "      rating_denominator   name dog_stage  favorite_count  retweet_count  \n",
       "1428                  10  Aspen      none            3904           1603  "
      ]
     },
     "execution_count": 53,
     "metadata": {},
     "output_type": "execute_result"
    }
   ],
   "source": [
    "df_twtr_clean.sample()"
   ]
  },
  {
   "cell_type": "markdown",
   "metadata": {},
   "source": [
    "### Drop columns for retweet status from merged dataframe as they will always be null once retweets are removed"
   ]
  },
  {
   "cell_type": "markdown",
   "metadata": {},
   "source": [
    "#### Define"
   ]
  },
  {
   "cell_type": "markdown",
   "metadata": {},
   "source": [
    "Drop the following columns - `retweeted_status_id`, `retweeted_status_user_id`,  and `retweeted_status_timestamp`"
   ]
  },
  {
   "cell_type": "markdown",
   "metadata": {},
   "source": [
    "#### Code"
   ]
  },
  {
   "cell_type": "code",
   "execution_count": 54,
   "metadata": {},
   "outputs": [],
   "source": [
    "df_twtr_clean.drop(['retweeted_status_id', 'retweeted_status_user_id', 'retweeted_status_timestamp'], axis=1, inplace=True)"
   ]
  },
  {
   "cell_type": "markdown",
   "metadata": {},
   "source": [
    "#### Test"
   ]
  },
  {
   "cell_type": "code",
   "execution_count": 55,
   "metadata": {},
   "outputs": [
    {
     "name": "stdout",
     "output_type": "stream",
     "text": [
      "<class 'pandas.core.frame.DataFrame'>\n",
      "Int64Index: 2004 entries, 0 to 2003\n",
      "Data columns (total 13 columns):\n",
      "tweet_id                 2004 non-null int64\n",
      "in_reply_to_status_id    24 non-null float64\n",
      "in_reply_to_user_id      24 non-null float64\n",
      "timestamp                2004 non-null object\n",
      "source                   2004 non-null object\n",
      "text                     2004 non-null object\n",
      "expanded_urls            2004 non-null object\n",
      "rating_numerator         2004 non-null int64\n",
      "rating_denominator       2004 non-null int64\n",
      "name                     2004 non-null object\n",
      "dog_stage                2004 non-null category\n",
      "favorite_count           2004 non-null int64\n",
      "retweet_count            2004 non-null int64\n",
      "dtypes: category(1), float64(2), int64(5), object(5)\n",
      "memory usage: 205.7+ KB\n"
     ]
    }
   ],
   "source": [
    "df_twtr_clean.info()"
   ]
  },
  {
   "cell_type": "markdown",
   "metadata": {},
   "source": [
    "### Generate a new column called `predicted_dog` in `img_predictions` table using the three prediction confidence values to get the final dog prediction that will be used for analysis."
   ]
  },
  {
   "cell_type": "markdown",
   "metadata": {},
   "source": [
    "#### Define"
   ]
  },
  {
   "cell_type": "code",
   "execution_count": 56,
   "metadata": {},
   "outputs": [],
   "source": [
    "assert ((df_img_pred_clean.p1_conf >= df_img_pred_clean.p2_conf).all() and (df_img_pred_clean.p2_conf >= df_img_pred_clean.p3_conf).all())"
   ]
  },
  {
   "cell_type": "markdown",
   "metadata": {},
   "source": [
    "Since p1, p2, p3 represent the most to least confident prediction, we will look at these in the same order and pick the first dog prediction that has atleast 50% confidence. If none of the dog predictions have 50% confidence we will mark the dog breed prediction as unknown."
   ]
  },
  {
   "cell_type": "markdown",
   "metadata": {},
   "source": [
    "#### Code"
   ]
  },
  {
   "cell_type": "code",
   "execution_count": 57,
   "metadata": {
    "scrolled": true
   },
   "outputs": [
    {
     "name": "stdout",
     "output_type": "stream",
     "text": [
      "<class 'pandas.core.frame.DataFrame'>\n",
      "Int64Index: 1993 entries, 0 to 2074\n",
      "Data columns (total 12 columns):\n",
      "tweet_id    1993 non-null int64\n",
      "jpg_url     1993 non-null object\n",
      "img_num     1993 non-null int64\n",
      "p1          1993 non-null object\n",
      "p1_conf     1993 non-null float64\n",
      "p1_dog      1993 non-null bool\n",
      "p2          1993 non-null object\n",
      "p2_conf     1993 non-null float64\n",
      "p2_dog      1993 non-null bool\n",
      "p3          1993 non-null object\n",
      "p3_conf     1993 non-null float64\n",
      "p3_dog      1993 non-null bool\n",
      "dtypes: bool(3), float64(3), int64(2), object(4)\n",
      "memory usage: 161.5+ KB\n"
     ]
    }
   ],
   "source": [
    "df_img_pred_clean.info()"
   ]
  },
  {
   "cell_type": "code",
   "execution_count": 58,
   "metadata": {},
   "outputs": [],
   "source": [
    "def get_predicted_dog(row):\n",
    "    for prediction in ['p1', 'p2', 'p3']:\n",
    "        is_dog = prediction + '_dog'\n",
    "        if row[is_dog]:\n",
    "            conf = prediction + '_conf'\n",
    "            # We want the prediction confidence to be atleast greater than random chance\n",
    "            if row[conf] > 0.5:\n",
    "                return row[prediction]\n",
    "            else:\n",
    "                # Exit out as unknown when the first dog prediction we encounter itself has less than 0.5 probability\n",
    "                return 'unknown'\n",
    "    return 'unknown'\n",
    "        "
   ]
  },
  {
   "cell_type": "code",
   "execution_count": 59,
   "metadata": {},
   "outputs": [],
   "source": [
    "df_img_pred_clean['predicted_dog'] = df_img_pred_clean.apply(get_predicted_dog, axis='columns')"
   ]
  },
  {
   "cell_type": "markdown",
   "metadata": {},
   "source": [
    "#### Test"
   ]
  },
  {
   "cell_type": "markdown",
   "metadata": {},
   "source": [
    "## Quality"
   ]
  },
  {
   "cell_type": "markdown",
   "metadata": {},
   "source": [
    "### Column(s) that reference a `timestamp` should be represented using datatype `datetime` instead of `object`."
   ]
  },
  {
   "cell_type": "markdown",
   "metadata": {},
   "source": [
    "#### Define"
   ]
  },
  {
   "cell_type": "markdown",
   "metadata": {},
   "source": [
    "Use to_datetime to convert `timestamp` to `datetime`"
   ]
  },
  {
   "cell_type": "markdown",
   "metadata": {},
   "source": [
    "#### Code"
   ]
  },
  {
   "cell_type": "code",
   "execution_count": 60,
   "metadata": {},
   "outputs": [],
   "source": [
    "df_twtr_clean.timestamp = pd.to_datetime(df_twtr_clean.timestamp)"
   ]
  },
  {
   "cell_type": "markdown",
   "metadata": {},
   "source": [
    "#### Test"
   ]
  },
  {
   "cell_type": "code",
   "execution_count": 61,
   "metadata": {},
   "outputs": [
    {
     "name": "stdout",
     "output_type": "stream",
     "text": [
      "<class 'pandas.core.frame.DataFrame'>\n",
      "Int64Index: 2004 entries, 0 to 2003\n",
      "Data columns (total 13 columns):\n",
      "tweet_id                 2004 non-null int64\n",
      "in_reply_to_status_id    24 non-null float64\n",
      "in_reply_to_user_id      24 non-null float64\n",
      "timestamp                2004 non-null datetime64[ns]\n",
      "source                   2004 non-null object\n",
      "text                     2004 non-null object\n",
      "expanded_urls            2004 non-null object\n",
      "rating_numerator         2004 non-null int64\n",
      "rating_denominator       2004 non-null int64\n",
      "name                     2004 non-null object\n",
      "dog_stage                2004 non-null category\n",
      "favorite_count           2004 non-null int64\n",
      "retweet_count            2004 non-null int64\n",
      "dtypes: category(1), datetime64[ns](1), float64(2), int64(5), object(4)\n",
      "memory usage: 205.7+ KB\n"
     ]
    }
   ],
   "source": [
    "df_twtr_clean.info()"
   ]
  },
  {
   "cell_type": "markdown",
   "metadata": {},
   "source": [
    "### Extract `day_of_week` from tweet `timestamp`\n"
   ]
  },
  {
   "cell_type": "markdown",
   "metadata": {},
   "source": [
    "#### Define"
   ]
  },
  {
   "cell_type": "markdown",
   "metadata": {},
   "source": [
    "Use pandas day_name to create a day_of_week column"
   ]
  },
  {
   "cell_type": "markdown",
   "metadata": {},
   "source": [
    "#### Code"
   ]
  },
  {
   "cell_type": "code",
   "execution_count": 62,
   "metadata": {},
   "outputs": [],
   "source": [
    "df_twtr_clean['day_of_week'] = df_twtr_clean.timestamp.dt.day_name()"
   ]
  },
  {
   "cell_type": "markdown",
   "metadata": {},
   "source": [
    "#### Test"
   ]
  },
  {
   "cell_type": "code",
   "execution_count": 63,
   "metadata": {},
   "outputs": [
    {
     "data": {
      "text/html": [
       "<div>\n",
       "<style scoped>\n",
       "    .dataframe tbody tr th:only-of-type {\n",
       "        vertical-align: middle;\n",
       "    }\n",
       "\n",
       "    .dataframe tbody tr th {\n",
       "        vertical-align: top;\n",
       "    }\n",
       "\n",
       "    .dataframe thead th {\n",
       "        text-align: right;\n",
       "    }\n",
       "</style>\n",
       "<table border=\"1\" class=\"dataframe\">\n",
       "  <thead>\n",
       "    <tr style=\"text-align: right;\">\n",
       "      <th></th>\n",
       "      <th>tweet_id</th>\n",
       "      <th>in_reply_to_status_id</th>\n",
       "      <th>in_reply_to_user_id</th>\n",
       "      <th>timestamp</th>\n",
       "      <th>source</th>\n",
       "      <th>text</th>\n",
       "      <th>expanded_urls</th>\n",
       "      <th>rating_numerator</th>\n",
       "      <th>rating_denominator</th>\n",
       "      <th>name</th>\n",
       "      <th>dog_stage</th>\n",
       "      <th>favorite_count</th>\n",
       "      <th>retweet_count</th>\n",
       "      <th>day_of_week</th>\n",
       "    </tr>\n",
       "  </thead>\n",
       "  <tbody>\n",
       "    <tr>\n",
       "      <th>493</th>\n",
       "      <td>842115215311396866</td>\n",
       "      <td>NaN</td>\n",
       "      <td>NaN</td>\n",
       "      <td>2017-03-15 20:48:07</td>\n",
       "      <td>&lt;a href=\"http://twitter.com/download/iphone\" r...</td>\n",
       "      <td>This is Bentley. It's his first time going to ...</td>\n",
       "      <td>https://twitter.com/dog_rates/status/842115215...</td>\n",
       "      <td>12</td>\n",
       "      <td>10</td>\n",
       "      <td>Bentley</td>\n",
       "      <td>none</td>\n",
       "      <td>14667</td>\n",
       "      <td>3243</td>\n",
       "      <td>Wednesday</td>\n",
       "    </tr>\n",
       "    <tr>\n",
       "      <th>240</th>\n",
       "      <td>680176173301628928</td>\n",
       "      <td>NaN</td>\n",
       "      <td>NaN</td>\n",
       "      <td>2015-12-25 00:00:11</td>\n",
       "      <td>&lt;a href=\"http://twitter.com/download/iphone\" r...</td>\n",
       "      <td>This pupper is patiently waiting to scare the ...</td>\n",
       "      <td>https://twitter.com/dog_rates/status/680176173...</td>\n",
       "      <td>10</td>\n",
       "      <td>10</td>\n",
       "      <td>None</td>\n",
       "      <td>pupper</td>\n",
       "      <td>4102</td>\n",
       "      <td>1686</td>\n",
       "      <td>Friday</td>\n",
       "    </tr>\n",
       "    <tr>\n",
       "      <th>810</th>\n",
       "      <td>770655142660169732</td>\n",
       "      <td>NaN</td>\n",
       "      <td>NaN</td>\n",
       "      <td>2016-08-30 16:11:18</td>\n",
       "      <td>&lt;a href=\"http://twitter.com/download/iphone\" r...</td>\n",
       "      <td>We only rate dogs. Pls stop sending in non-can...</td>\n",
       "      <td>https://twitter.com/dog_rates/status/770655142...</td>\n",
       "      <td>11</td>\n",
       "      <td>10</td>\n",
       "      <td>very</td>\n",
       "      <td>none</td>\n",
       "      <td>7813</td>\n",
       "      <td>1897</td>\n",
       "      <td>Tuesday</td>\n",
       "    </tr>\n",
       "    <tr>\n",
       "      <th>1905</th>\n",
       "      <td>667782464991965184</td>\n",
       "      <td>NaN</td>\n",
       "      <td>NaN</td>\n",
       "      <td>2015-11-20 19:12:01</td>\n",
       "      <td>&lt;a href=\"http://twitter.com/download/iphone\" r...</td>\n",
       "      <td>Super rare dog. Endangered (?). Thinks it's fu...</td>\n",
       "      <td>https://twitter.com/dog_rates/status/667782464...</td>\n",
       "      <td>9</td>\n",
       "      <td>10</td>\n",
       "      <td>None</td>\n",
       "      <td>none</td>\n",
       "      <td>417</td>\n",
       "      <td>249</td>\n",
       "      <td>Friday</td>\n",
       "    </tr>\n",
       "    <tr>\n",
       "      <th>1558</th>\n",
       "      <td>675166823650848770</td>\n",
       "      <td>NaN</td>\n",
       "      <td>NaN</td>\n",
       "      <td>2015-12-11 04:14:49</td>\n",
       "      <td>&lt;a href=\"http://twitter.com/download/iphone\" r...</td>\n",
       "      <td>This is Arnold. He broke his leg saving a hand...</td>\n",
       "      <td>https://twitter.com/dog_rates/status/675166823...</td>\n",
       "      <td>10</td>\n",
       "      <td>10</td>\n",
       "      <td>Arnold</td>\n",
       "      <td>none</td>\n",
       "      <td>3729</td>\n",
       "      <td>1694</td>\n",
       "      <td>Friday</td>\n",
       "    </tr>\n",
       "  </tbody>\n",
       "</table>\n",
       "</div>"
      ],
      "text/plain": [
       "                tweet_id  in_reply_to_status_id  in_reply_to_user_id  \\\n",
       "493   842115215311396866                    NaN                  NaN   \n",
       "240   680176173301628928                    NaN                  NaN   \n",
       "810   770655142660169732                    NaN                  NaN   \n",
       "1905  667782464991965184                    NaN                  NaN   \n",
       "1558  675166823650848770                    NaN                  NaN   \n",
       "\n",
       "               timestamp                                             source  \\\n",
       "493  2017-03-15 20:48:07  <a href=\"http://twitter.com/download/iphone\" r...   \n",
       "240  2015-12-25 00:00:11  <a href=\"http://twitter.com/download/iphone\" r...   \n",
       "810  2016-08-30 16:11:18  <a href=\"http://twitter.com/download/iphone\" r...   \n",
       "1905 2015-11-20 19:12:01  <a href=\"http://twitter.com/download/iphone\" r...   \n",
       "1558 2015-12-11 04:14:49  <a href=\"http://twitter.com/download/iphone\" r...   \n",
       "\n",
       "                                                   text  \\\n",
       "493   This is Bentley. It's his first time going to ...   \n",
       "240   This pupper is patiently waiting to scare the ...   \n",
       "810   We only rate dogs. Pls stop sending in non-can...   \n",
       "1905  Super rare dog. Endangered (?). Thinks it's fu...   \n",
       "1558  This is Arnold. He broke his leg saving a hand...   \n",
       "\n",
       "                                          expanded_urls  rating_numerator  \\\n",
       "493   https://twitter.com/dog_rates/status/842115215...                12   \n",
       "240   https://twitter.com/dog_rates/status/680176173...                10   \n",
       "810   https://twitter.com/dog_rates/status/770655142...                11   \n",
       "1905  https://twitter.com/dog_rates/status/667782464...                 9   \n",
       "1558  https://twitter.com/dog_rates/status/675166823...                10   \n",
       "\n",
       "      rating_denominator     name dog_stage  favorite_count  retweet_count  \\\n",
       "493                   10  Bentley      none           14667           3243   \n",
       "240                   10     None    pupper            4102           1686   \n",
       "810                   10     very      none            7813           1897   \n",
       "1905                  10     None      none             417            249   \n",
       "1558                  10   Arnold      none            3729           1694   \n",
       "\n",
       "     day_of_week  \n",
       "493    Wednesday  \n",
       "240       Friday  \n",
       "810      Tuesday  \n",
       "1905      Friday  \n",
       "1558      Friday  "
      ]
     },
     "execution_count": 63,
     "metadata": {},
     "output_type": "execute_result"
    }
   ],
   "source": [
    "df_twtr_clean.sample(5)"
   ]
  },
  {
   "cell_type": "markdown",
   "metadata": {},
   "source": [
    "### The 20/16 and 24/7 incorrect rating datapoints needs to be removed.\n"
   ]
  },
  {
   "cell_type": "markdown",
   "metadata": {},
   "source": [
    "#### Define"
   ]
  },
  {
   "cell_type": "markdown",
   "metadata": {},
   "source": [
    "Get the twitter_id for rating_denominator == 16 or 7 and remove this twitter id from both the tables."
   ]
  },
  {
   "cell_type": "markdown",
   "metadata": {},
   "source": [
    "#### Code"
   ]
  },
  {
   "cell_type": "code",
   "execution_count": 64,
   "metadata": {},
   "outputs": [],
   "source": [
    "tweet_ids_to_be_removed = df_twtr_clean.query('rating_denominator == 16 or rating_denominator == 7')['tweet_id'].tolist()"
   ]
  },
  {
   "cell_type": "code",
   "execution_count": 65,
   "metadata": {},
   "outputs": [
    {
     "data": {
      "text/plain": [
       "[810984652412424192]"
      ]
     },
     "execution_count": 65,
     "metadata": {},
     "output_type": "execute_result"
    }
   ],
   "source": [
    "tweet_ids_to_be_removed"
   ]
  },
  {
   "cell_type": "markdown",
   "metadata": {},
   "source": [
    "The incorrect 20/16 rating denomiator has already been elimiated as part of earlier pruning, so we only need to remove one tweet id."
   ]
  },
  {
   "cell_type": "code",
   "execution_count": 66,
   "metadata": {},
   "outputs": [],
   "source": [
    "df_twtr_clean = df_twtr_clean.drop(df_twtr_clean[df_twtr_clean.tweet_id == tweet_ids_to_be_removed[0]].index)"
   ]
  },
  {
   "cell_type": "code",
   "execution_count": 67,
   "metadata": {},
   "outputs": [],
   "source": [
    "df_img_pred_clean = df_img_pred_clean.drop(df_img_pred_clean[df_img_pred_clean.tweet_id == tweet_ids_to_be_removed[0]].index)"
   ]
  },
  {
   "cell_type": "markdown",
   "metadata": {},
   "source": [
    "#### Test"
   ]
  },
  {
   "cell_type": "code",
   "execution_count": 68,
   "metadata": {},
   "outputs": [
    {
     "data": {
      "text/plain": [
       "2003"
      ]
     },
     "execution_count": 68,
     "metadata": {},
     "output_type": "execute_result"
    }
   ],
   "source": [
    "df_twtr_clean.shape[0]"
   ]
  },
  {
   "cell_type": "code",
   "execution_count": 69,
   "metadata": {},
   "outputs": [
    {
     "data": {
      "text/plain": [
       "0"
      ]
     },
     "execution_count": 69,
     "metadata": {},
     "output_type": "execute_result"
    }
   ],
   "source": [
    "df_twtr_clean.query('rating_denominator == 16 or rating_denominator == 7').shape[0]"
   ]
  },
  {
   "cell_type": "code",
   "execution_count": 70,
   "metadata": {},
   "outputs": [
    {
     "data": {
      "text/plain": [
       "1992"
      ]
     },
     "execution_count": 70,
     "metadata": {},
     "output_type": "execute_result"
    }
   ],
   "source": [
    "df_img_pred_clean.shape[0] #Should be one less than previous value"
   ]
  },
  {
   "cell_type": "markdown",
   "metadata": {},
   "source": [
    "### Ratings need to be reparsed from full-text to look only for multiple of 10 in the denominator and allow for decimals in numerator when forming the regular expression."
   ]
  },
  {
   "cell_type": "markdown",
   "metadata": {},
   "source": [
    "#### Define"
   ]
  },
  {
   "cell_type": "markdown",
   "metadata": {},
   "source": [
    "Rename the old numerator and denominator ratings columns. Convert them to float for comparing with the new rating.\n",
    "Extract the new rating using regular expression that allows for optional decimal digits and always looks for denominator to be a multiple of 10. Compare the old and new ratings columns to make sure only the intended rows were changed and then drop the old columns."
   ]
  },
  {
   "cell_type": "markdown",
   "metadata": {},
   "source": [
    "#### Code"
   ]
  },
  {
   "cell_type": "code",
   "execution_count": 71,
   "metadata": {},
   "outputs": [],
   "source": [
    "df_twtr_clean = df_twtr_clean.rename(columns={'rating_numerator': 'old_num', 'rating_denominator': 'old_denom'})"
   ]
  },
  {
   "cell_type": "code",
   "execution_count": 72,
   "metadata": {},
   "outputs": [],
   "source": [
    "df_twtr_clean.old_num = df_twtr_clean.old_num.astype(float)\n",
    "df_twtr_clean.old_denom = df_twtr_clean.old_denom.astype(float)"
   ]
  },
  {
   "cell_type": "code",
   "execution_count": 73,
   "metadata": {},
   "outputs": [],
   "source": [
    "#Look for one or more digits followed by optional non-caputuring group of a dot followed by one ore more digits, followed by a / and then denominator digits ending with a 0.\n",
    "df_twtr_clean[['rating_numerator', 'rating_denominator']] = df_twtr_clean.text.str.extract('(\\d+(?:\\.\\d+)?)\\/(\\d+0)', expand = True)"
   ]
  },
  {
   "cell_type": "code",
   "execution_count": 74,
   "metadata": {},
   "outputs": [],
   "source": [
    "# Convert the parsed string to float\n",
    "df_twtr_clean.rating_numerator = df_twtr_clean.rating_numerator.astype(float)\n",
    "df_twtr_clean.rating_denominator = df_twtr_clean.rating_denominator.astype(float)"
   ]
  },
  {
   "cell_type": "markdown",
   "metadata": {},
   "source": [
    "#### Test"
   ]
  },
  {
   "cell_type": "code",
   "execution_count": 75,
   "metadata": {},
   "outputs": [
    {
     "name": "stdout",
     "output_type": "stream",
     "text": [
      "<class 'pandas.core.frame.DataFrame'>\n",
      "Int64Index: 2003 entries, 0 to 2003\n",
      "Data columns (total 16 columns):\n",
      "tweet_id                 2003 non-null int64\n",
      "in_reply_to_status_id    24 non-null float64\n",
      "in_reply_to_user_id      24 non-null float64\n",
      "timestamp                2003 non-null datetime64[ns]\n",
      "source                   2003 non-null object\n",
      "text                     2003 non-null object\n",
      "expanded_urls            2003 non-null object\n",
      "old_num                  2003 non-null float64\n",
      "old_denom                2003 non-null float64\n",
      "name                     2003 non-null object\n",
      "dog_stage                2003 non-null category\n",
      "favorite_count           2003 non-null int64\n",
      "retweet_count            2003 non-null int64\n",
      "day_of_week              2003 non-null object\n",
      "rating_numerator         2003 non-null float64\n",
      "rating_denominator       2003 non-null float64\n",
      "dtypes: category(1), datetime64[ns](1), float64(6), int64(3), object(5)\n",
      "memory usage: 252.5+ KB\n"
     ]
    }
   ],
   "source": [
    "df_twtr_clean.info()"
   ]
  },
  {
   "cell_type": "code",
   "execution_count": 76,
   "metadata": {},
   "outputs": [
    {
     "name": "stdout",
     "output_type": "stream",
     "text": [
      "tweet_id: 778027034220126208\n",
      "full_text: This is Sophie. She's a Jubilant Bush Pupper. Super h*ckin rare. Appears at random just to smile at the locals. 11.27/10 would smile back https://t.co/QFaUiIHxHq\n",
      "rating: 11.27/10.0\n",
      "old_numerator: 27.0\n",
      "old_denominator: 10.0\n",
      "\n",
      "tweet_id: 883482846933004288\n",
      "full_text: This is Bella. She hopes her smile made you smile. If not, she is also offering you her favorite monkey. 13.5/10 https://t.co/qjrljjt948\n",
      "rating: 13.5/10.0\n",
      "old_numerator: 5.0\n",
      "old_denominator: 10.0\n",
      "\n",
      "tweet_id: 786709082849828864\n",
      "full_text: This is Logan, the Chow who lived. He solemnly swears he's up to lots of good. H*ckin magical af 9.75/10 https://t.co/yBO5wuqaPS\n",
      "rating: 9.75/10.0\n",
      "old_numerator: 75.0\n",
      "old_denominator: 10.0\n",
      "\n",
      "tweet_id: 740373189193256964\n",
      "full_text: After so many requests, this is Bretagne. She was the last surviving 9/11 search dog, and our second ever 14/10. RIP https://t.co/XAVDNDaVgQ\n",
      "rating: 14.0/10.0\n",
      "old_numerator: 9.0\n",
      "old_denominator: 11.0\n",
      "\n",
      "tweet_id: 682962037429899265\n",
      "full_text: This is Darrel. He just robbed a 7/11 and is in a high speed police chase. Was just spotted by the helicopter 10/10 https://t.co/7EsP8LmSp5\n",
      "rating: 10.0/10.0\n",
      "old_numerator: 7.0\n",
      "old_denominator: 11.0\n",
      "\n",
      "tweet_id: 680494726643068929\n",
      "full_text: Here we have uncovered an entire battalion of holiday puppers. Average of 11.26/10 https://t.co/eNm2S6p9BD\n",
      "rating: 11.26/10.0\n",
      "old_numerator: 26.0\n",
      "old_denominator: 10.0\n",
      "\n",
      "tweet_id: 666287406224695296\n",
      "full_text: This is an Albanian 3 1/2 legged  Episcopalian. Loves well-polished hardwood flooring. Penis on the collar. 9/10 https://t.co/d9NcXFKwLv\n",
      "rating: 9.0/10.0\n",
      "old_numerator: 1.0\n",
      "old_denominator: 2.0\n",
      "\n"
     ]
    }
   ],
   "source": [
    "print_tweet_info(df_twtr_clean[df_twtr_clean.old_num != df_twtr_clean.rating_numerator], old_numerator='old_num', old_denominator='old_denom')"
   ]
  },
  {
   "cell_type": "markdown",
   "metadata": {},
   "source": [
    "### When the denominator is a multiple of 10 greater than 10, we need to scale down the rating  to a denominator of 10 to get the average rating for the group of dogs."
   ]
  },
  {
   "cell_type": "markdown",
   "metadata": {},
   "source": [
    "#### Define"
   ]
  },
  {
   "cell_type": "code",
   "execution_count": 77,
   "metadata": {
    "scrolled": true
   },
   "outputs": [
    {
     "name": "stdout",
     "output_type": "stream",
     "text": [
      "tweet_id: 820690176645140481\n",
      "full_text: The floofs have been released I repeat the floofs have been released. 84/70 https://t.co/NIYC820tmd\n",
      "rating: 84.0/70.0\n",
      "\n",
      "tweet_id: 758467244762497024\n",
      "full_text: Why does this never happen at my front door... 165/150 https://t.co/HmwrdfEfUE\n",
      "rating: 165.0/150.0\n",
      "\n",
      "tweet_id: 731156023742988288\n",
      "full_text: Say hello to this unbelievably well behaved squad of doggos. 204/170 would try to pet all at once https://t.co/yGQI3He3xv\n",
      "rating: 204.0/170.0\n",
      "\n",
      "tweet_id: 722974582966214656\n",
      "full_text: Happy 4/20 from the squad! 13/10 for all https://t.co/eV1diwds8a\n",
      "rating: 4.0/20.0\n",
      "\n",
      "tweet_id: 716439118184652801\n",
      "full_text: This is Bluebert. He just saw that both #FinalFur match ups are split 50/50. Amazed af. 11/10 https://t.co/Kky1DPG4iq\n",
      "rating: 50.0/50.0\n",
      "\n",
      "tweet_id: 713900603437621249\n",
      "full_text: Happy Saturday here's 9 puppers on a bench. 99/90 good work everybody https://t.co/mpvaVxKmc1\n",
      "rating: 99.0/90.0\n",
      "\n",
      "tweet_id: 710658690886586372\n",
      "full_text: Here's a brigade of puppers. All look very prepared for whatever happens next. 80/80 https://t.co/0eb7R1Om12\n",
      "rating: 80.0/80.0\n",
      "\n",
      "tweet_id: 709198395643068416\n",
      "full_text: From left to right:\n",
      "Cletus, Jerome, Alejandro, Burp, &amp; Titson\n",
      "None know where camera is. 45/50 would hug all at once https://t.co/sedre1ivTK\n",
      "rating: 45.0/50.0\n",
      "\n",
      "tweet_id: 704054845121142784\n",
      "full_text: Here is a whole flock of puppers.  60/50 I'll take the lot https://t.co/9dpcw6MdWa\n",
      "rating: 60.0/50.0\n",
      "\n",
      "tweet_id: 697463031882764288\n",
      "full_text: Happy Wednesday here's a bucket of pups. 44/40 would pet all at once https://t.co/HppvrYuamZ\n",
      "rating: 44.0/40.0\n",
      "\n",
      "tweet_id: 684225744407494656\n",
      "full_text: Two sneaky puppers were not initially seen, moving the rating to 143/130. Please forgive us. Thank you https://t.co/kRK51Y5ac3\n",
      "rating: 143.0/130.0\n",
      "\n",
      "tweet_id: 684222868335505415\n",
      "full_text: Someone help the girl is being mugged. Several are distracting her while two steal her shoes. Clever puppers 121/110 https://t.co/1zfnTJLt55\n",
      "rating: 121.0/110.0\n",
      "\n",
      "tweet_id: 677716515794329600\n",
      "full_text: IT'S PUPPERGEDDON. Total of 144/120 ...I think https://t.co/ZanVtAtvIq\n",
      "rating: 144.0/120.0\n",
      "\n",
      "tweet_id: 675853064436391936\n",
      "full_text: Here we have an entire platoon of puppers. Total score: 88/80 would pet all at once https://t.co/y93p6FLvVw\n",
      "rating: 88.0/80.0\n",
      "\n"
     ]
    }
   ],
   "source": [
    "print_tweet_info(df_twtr_clean.query('rating_denominator != 10.0'))"
   ]
  },
  {
   "cell_type": "markdown",
   "metadata": {},
   "source": [
    "We see that for two of the twitter ids, ratings have been incorrectly picked up leading to the non-10 denominator. We will fix these with correct values from visual inspection of the full tweet text. In other cases, the ratings are actually aggregate values for multiple dogs. We will convert these to average rating for all the dogs by scaling down by number of dogs."
   ]
  },
  {
   "cell_type": "markdown",
   "metadata": {},
   "source": [
    "#### Code"
   ]
  },
  {
   "cell_type": "code",
   "execution_count": 78,
   "metadata": {},
   "outputs": [],
   "source": [
    "df_twtr_clean.loc[df_twtr_clean.tweet_id == 722974582966214656, 'rating_numerator'] = 13\n",
    "df_twtr_clean.loc[df_twtr_clean.tweet_id == 722974582966214656, 'rating_denominator'] = 10"
   ]
  },
  {
   "cell_type": "code",
   "execution_count": 79,
   "metadata": {},
   "outputs": [],
   "source": [
    "df_twtr_clean.loc[df_twtr_clean.tweet_id == 716439118184652801, 'rating_numerator'] = 11\n",
    "df_twtr_clean.loc[df_twtr_clean.tweet_id == 716439118184652801, 'rating_denominator'] = 10"
   ]
  },
  {
   "cell_type": "code",
   "execution_count": 80,
   "metadata": {},
   "outputs": [],
   "source": [
    "multiple_dogs_rating_ids = df_twtr_clean.query('rating_denominator != 10')['tweet_id']"
   ]
  },
  {
   "cell_type": "code",
   "execution_count": 81,
   "metadata": {},
   "outputs": [
    {
     "data": {
      "text/html": [
       "<div>\n",
       "<style scoped>\n",
       "    .dataframe tbody tr th:only-of-type {\n",
       "        vertical-align: middle;\n",
       "    }\n",
       "\n",
       "    .dataframe tbody tr th {\n",
       "        vertical-align: top;\n",
       "    }\n",
       "\n",
       "    .dataframe thead th {\n",
       "        text-align: right;\n",
       "    }\n",
       "</style>\n",
       "<table border=\"1\" class=\"dataframe\">\n",
       "  <thead>\n",
       "    <tr style=\"text-align: right;\">\n",
       "      <th></th>\n",
       "      <th>tweet_id</th>\n",
       "      <th>in_reply_to_status_id</th>\n",
       "      <th>in_reply_to_user_id</th>\n",
       "      <th>timestamp</th>\n",
       "      <th>source</th>\n",
       "      <th>text</th>\n",
       "      <th>expanded_urls</th>\n",
       "      <th>old_num</th>\n",
       "      <th>old_denom</th>\n",
       "      <th>name</th>\n",
       "      <th>dog_stage</th>\n",
       "      <th>favorite_count</th>\n",
       "      <th>retweet_count</th>\n",
       "      <th>day_of_week</th>\n",
       "      <th>rating_numerator</th>\n",
       "      <th>rating_denominator</th>\n",
       "    </tr>\n",
       "  </thead>\n",
       "  <tbody>\n",
       "    <tr>\n",
       "      <th>584</th>\n",
       "      <td>820690176645140481</td>\n",
       "      <td>NaN</td>\n",
       "      <td>NaN</td>\n",
       "      <td>2017-01-15 17:52:40</td>\n",
       "      <td>&lt;a href=\"http://twitter.com/download/iphone\" r...</td>\n",
       "      <td>The floofs have been released I repeat the flo...</td>\n",
       "      <td>https://twitter.com/dog_rates/status/820690176...</td>\n",
       "      <td>84.0</td>\n",
       "      <td>70.0</td>\n",
       "      <td>None</td>\n",
       "      <td>none</td>\n",
       "      <td>13019</td>\n",
       "      <td>3534</td>\n",
       "      <td>Sunday</td>\n",
       "      <td>84.0</td>\n",
       "      <td>70.0</td>\n",
       "    </tr>\n",
       "    <tr>\n",
       "      <th>870</th>\n",
       "      <td>758467244762497024</td>\n",
       "      <td>NaN</td>\n",
       "      <td>NaN</td>\n",
       "      <td>2016-07-28 01:00:57</td>\n",
       "      <td>&lt;a href=\"http://twitter.com/download/iphone\" r...</td>\n",
       "      <td>Why does this never happen at my front door......</td>\n",
       "      <td>https://twitter.com/dog_rates/status/758467244...</td>\n",
       "      <td>165.0</td>\n",
       "      <td>150.0</td>\n",
       "      <td>None</td>\n",
       "      <td>none</td>\n",
       "      <td>5103</td>\n",
       "      <td>2420</td>\n",
       "      <td>Thursday</td>\n",
       "      <td>165.0</td>\n",
       "      <td>150.0</td>\n",
       "    </tr>\n",
       "    <tr>\n",
       "      <th>1011</th>\n",
       "      <td>731156023742988288</td>\n",
       "      <td>NaN</td>\n",
       "      <td>NaN</td>\n",
       "      <td>2016-05-13 16:15:54</td>\n",
       "      <td>&lt;a href=\"http://twitter.com/download/iphone\" r...</td>\n",
       "      <td>Say hello to this unbelievably well behaved sq...</td>\n",
       "      <td>https://twitter.com/dog_rates/status/731156023...</td>\n",
       "      <td>204.0</td>\n",
       "      <td>170.0</td>\n",
       "      <td>this</td>\n",
       "      <td>none</td>\n",
       "      <td>4026</td>\n",
       "      <td>1359</td>\n",
       "      <td>Friday</td>\n",
       "      <td>204.0</td>\n",
       "      <td>170.0</td>\n",
       "    </tr>\n",
       "    <tr>\n",
       "      <th>1092</th>\n",
       "      <td>713900603437621249</td>\n",
       "      <td>NaN</td>\n",
       "      <td>NaN</td>\n",
       "      <td>2016-03-27 01:29:02</td>\n",
       "      <td>&lt;a href=\"http://twitter.com/download/iphone\" r...</td>\n",
       "      <td>Happy Saturday here's 9 puppers on a bench. 99...</td>\n",
       "      <td>https://twitter.com/dog_rates/status/713900603...</td>\n",
       "      <td>99.0</td>\n",
       "      <td>90.0</td>\n",
       "      <td>None</td>\n",
       "      <td>none</td>\n",
       "      <td>2969</td>\n",
       "      <td>792</td>\n",
       "      <td>Sunday</td>\n",
       "      <td>99.0</td>\n",
       "      <td>90.0</td>\n",
       "    </tr>\n",
       "    <tr>\n",
       "      <th>1114</th>\n",
       "      <td>710658690886586372</td>\n",
       "      <td>NaN</td>\n",
       "      <td>NaN</td>\n",
       "      <td>2016-03-18 02:46:49</td>\n",
       "      <td>&lt;a href=\"http://twitter.com/download/iphone\" r...</td>\n",
       "      <td>Here's a brigade of puppers. All look very pre...</td>\n",
       "      <td>https://twitter.com/dog_rates/status/710658690...</td>\n",
       "      <td>80.0</td>\n",
       "      <td>80.0</td>\n",
       "      <td>None</td>\n",
       "      <td>none</td>\n",
       "      <td>2423</td>\n",
       "      <td>603</td>\n",
       "      <td>Friday</td>\n",
       "      <td>80.0</td>\n",
       "      <td>80.0</td>\n",
       "    </tr>\n",
       "    <tr>\n",
       "      <th>1131</th>\n",
       "      <td>709198395643068416</td>\n",
       "      <td>NaN</td>\n",
       "      <td>NaN</td>\n",
       "      <td>2016-03-14 02:04:08</td>\n",
       "      <td>&lt;a href=\"http://twitter.com/download/iphone\" r...</td>\n",
       "      <td>From left to right:\\nCletus, Jerome, Alejandro...</td>\n",
       "      <td>https://twitter.com/dog_rates/status/709198395...</td>\n",
       "      <td>45.0</td>\n",
       "      <td>50.0</td>\n",
       "      <td>None</td>\n",
       "      <td>none</td>\n",
       "      <td>2533</td>\n",
       "      <td>685</td>\n",
       "      <td>Monday</td>\n",
       "      <td>45.0</td>\n",
       "      <td>50.0</td>\n",
       "    </tr>\n",
       "    <tr>\n",
       "      <th>1187</th>\n",
       "      <td>704054845121142784</td>\n",
       "      <td>NaN</td>\n",
       "      <td>NaN</td>\n",
       "      <td>2016-02-28 21:25:30</td>\n",
       "      <td>&lt;a href=\"http://twitter.com/download/iphone\" r...</td>\n",
       "      <td>Here is a whole flock of puppers.  60/50 I'll ...</td>\n",
       "      <td>https://twitter.com/dog_rates/status/704054845...</td>\n",
       "      <td>60.0</td>\n",
       "      <td>50.0</td>\n",
       "      <td>a</td>\n",
       "      <td>none</td>\n",
       "      <td>3066</td>\n",
       "      <td>979</td>\n",
       "      <td>Sunday</td>\n",
       "      <td>60.0</td>\n",
       "      <td>50.0</td>\n",
       "    </tr>\n",
       "    <tr>\n",
       "      <th>1250</th>\n",
       "      <td>697463031882764288</td>\n",
       "      <td>NaN</td>\n",
       "      <td>NaN</td>\n",
       "      <td>2016-02-10 16:51:59</td>\n",
       "      <td>&lt;a href=\"http://twitter.com/download/iphone\" r...</td>\n",
       "      <td>Happy Wednesday here's a bucket of pups. 44/40...</td>\n",
       "      <td>https://twitter.com/dog_rates/status/697463031...</td>\n",
       "      <td>44.0</td>\n",
       "      <td>40.0</td>\n",
       "      <td>None</td>\n",
       "      <td>none</td>\n",
       "      <td>3589</td>\n",
       "      <td>1475</td>\n",
       "      <td>Wednesday</td>\n",
       "      <td>44.0</td>\n",
       "      <td>40.0</td>\n",
       "    </tr>\n",
       "    <tr>\n",
       "      <th>1383</th>\n",
       "      <td>684225744407494656</td>\n",
       "      <td>6.842229e+17</td>\n",
       "      <td>4.196984e+09</td>\n",
       "      <td>2016-01-05 04:11:44</td>\n",
       "      <td>&lt;a href=\"http://twitter.com/download/iphone\" r...</td>\n",
       "      <td>Two sneaky puppers were not initially seen, mo...</td>\n",
       "      <td>https://twitter.com/dog_rates/status/684225744...</td>\n",
       "      <td>143.0</td>\n",
       "      <td>130.0</td>\n",
       "      <td>None</td>\n",
       "      <td>none</td>\n",
       "      <td>1308</td>\n",
       "      <td>229</td>\n",
       "      <td>Tuesday</td>\n",
       "      <td>143.0</td>\n",
       "      <td>130.0</td>\n",
       "    </tr>\n",
       "    <tr>\n",
       "      <th>1384</th>\n",
       "      <td>684222868335505415</td>\n",
       "      <td>NaN</td>\n",
       "      <td>NaN</td>\n",
       "      <td>2016-01-05 04:00:18</td>\n",
       "      <td>&lt;a href=\"http://twitter.com/download/iphone\" r...</td>\n",
       "      <td>Someone help the girl is being mugged. Several...</td>\n",
       "      <td>https://twitter.com/dog_rates/status/684222868...</td>\n",
       "      <td>121.0</td>\n",
       "      <td>110.0</td>\n",
       "      <td>None</td>\n",
       "      <td>none</td>\n",
       "      <td>4054</td>\n",
       "      <td>1480</td>\n",
       "      <td>Tuesday</td>\n",
       "      <td>121.0</td>\n",
       "      <td>110.0</td>\n",
       "    </tr>\n",
       "    <tr>\n",
       "      <th>1488</th>\n",
       "      <td>677716515794329600</td>\n",
       "      <td>NaN</td>\n",
       "      <td>NaN</td>\n",
       "      <td>2015-12-18 05:06:23</td>\n",
       "      <td>&lt;a href=\"http://twitter.com/download/iphone\" r...</td>\n",
       "      <td>IT'S PUPPERGEDDON. Total of 144/120 ...I think...</td>\n",
       "      <td>https://twitter.com/dog_rates/status/677716515...</td>\n",
       "      <td>144.0</td>\n",
       "      <td>120.0</td>\n",
       "      <td>None</td>\n",
       "      <td>none</td>\n",
       "      <td>3185</td>\n",
       "      <td>1030</td>\n",
       "      <td>Friday</td>\n",
       "      <td>144.0</td>\n",
       "      <td>120.0</td>\n",
       "    </tr>\n",
       "    <tr>\n",
       "      <th>1537</th>\n",
       "      <td>675853064436391936</td>\n",
       "      <td>NaN</td>\n",
       "      <td>NaN</td>\n",
       "      <td>2015-12-13 01:41:41</td>\n",
       "      <td>&lt;a href=\"http://twitter.com/download/iphone\" r...</td>\n",
       "      <td>Here we have an entire platoon of puppers. Tot...</td>\n",
       "      <td>https://twitter.com/dog_rates/status/675853064...</td>\n",
       "      <td>88.0</td>\n",
       "      <td>80.0</td>\n",
       "      <td>None</td>\n",
       "      <td>none</td>\n",
       "      <td>2786</td>\n",
       "      <td>1369</td>\n",
       "      <td>Sunday</td>\n",
       "      <td>88.0</td>\n",
       "      <td>80.0</td>\n",
       "    </tr>\n",
       "  </tbody>\n",
       "</table>\n",
       "</div>"
      ],
      "text/plain": [
       "                tweet_id  in_reply_to_status_id  in_reply_to_user_id  \\\n",
       "584   820690176645140481                    NaN                  NaN   \n",
       "870   758467244762497024                    NaN                  NaN   \n",
       "1011  731156023742988288                    NaN                  NaN   \n",
       "1092  713900603437621249                    NaN                  NaN   \n",
       "1114  710658690886586372                    NaN                  NaN   \n",
       "1131  709198395643068416                    NaN                  NaN   \n",
       "1187  704054845121142784                    NaN                  NaN   \n",
       "1250  697463031882764288                    NaN                  NaN   \n",
       "1383  684225744407494656           6.842229e+17         4.196984e+09   \n",
       "1384  684222868335505415                    NaN                  NaN   \n",
       "1488  677716515794329600                    NaN                  NaN   \n",
       "1537  675853064436391936                    NaN                  NaN   \n",
       "\n",
       "               timestamp                                             source  \\\n",
       "584  2017-01-15 17:52:40  <a href=\"http://twitter.com/download/iphone\" r...   \n",
       "870  2016-07-28 01:00:57  <a href=\"http://twitter.com/download/iphone\" r...   \n",
       "1011 2016-05-13 16:15:54  <a href=\"http://twitter.com/download/iphone\" r...   \n",
       "1092 2016-03-27 01:29:02  <a href=\"http://twitter.com/download/iphone\" r...   \n",
       "1114 2016-03-18 02:46:49  <a href=\"http://twitter.com/download/iphone\" r...   \n",
       "1131 2016-03-14 02:04:08  <a href=\"http://twitter.com/download/iphone\" r...   \n",
       "1187 2016-02-28 21:25:30  <a href=\"http://twitter.com/download/iphone\" r...   \n",
       "1250 2016-02-10 16:51:59  <a href=\"http://twitter.com/download/iphone\" r...   \n",
       "1383 2016-01-05 04:11:44  <a href=\"http://twitter.com/download/iphone\" r...   \n",
       "1384 2016-01-05 04:00:18  <a href=\"http://twitter.com/download/iphone\" r...   \n",
       "1488 2015-12-18 05:06:23  <a href=\"http://twitter.com/download/iphone\" r...   \n",
       "1537 2015-12-13 01:41:41  <a href=\"http://twitter.com/download/iphone\" r...   \n",
       "\n",
       "                                                   text  \\\n",
       "584   The floofs have been released I repeat the flo...   \n",
       "870   Why does this never happen at my front door......   \n",
       "1011  Say hello to this unbelievably well behaved sq...   \n",
       "1092  Happy Saturday here's 9 puppers on a bench. 99...   \n",
       "1114  Here's a brigade of puppers. All look very pre...   \n",
       "1131  From left to right:\\nCletus, Jerome, Alejandro...   \n",
       "1187  Here is a whole flock of puppers.  60/50 I'll ...   \n",
       "1250  Happy Wednesday here's a bucket of pups. 44/40...   \n",
       "1383  Two sneaky puppers were not initially seen, mo...   \n",
       "1384  Someone help the girl is being mugged. Several...   \n",
       "1488  IT'S PUPPERGEDDON. Total of 144/120 ...I think...   \n",
       "1537  Here we have an entire platoon of puppers. Tot...   \n",
       "\n",
       "                                          expanded_urls  old_num  old_denom  \\\n",
       "584   https://twitter.com/dog_rates/status/820690176...     84.0       70.0   \n",
       "870   https://twitter.com/dog_rates/status/758467244...    165.0      150.0   \n",
       "1011  https://twitter.com/dog_rates/status/731156023...    204.0      170.0   \n",
       "1092  https://twitter.com/dog_rates/status/713900603...     99.0       90.0   \n",
       "1114  https://twitter.com/dog_rates/status/710658690...     80.0       80.0   \n",
       "1131  https://twitter.com/dog_rates/status/709198395...     45.0       50.0   \n",
       "1187  https://twitter.com/dog_rates/status/704054845...     60.0       50.0   \n",
       "1250  https://twitter.com/dog_rates/status/697463031...     44.0       40.0   \n",
       "1383  https://twitter.com/dog_rates/status/684225744...    143.0      130.0   \n",
       "1384  https://twitter.com/dog_rates/status/684222868...    121.0      110.0   \n",
       "1488  https://twitter.com/dog_rates/status/677716515...    144.0      120.0   \n",
       "1537  https://twitter.com/dog_rates/status/675853064...     88.0       80.0   \n",
       "\n",
       "      name dog_stage  favorite_count  retweet_count day_of_week  \\\n",
       "584   None      none           13019           3534      Sunday   \n",
       "870   None      none            5103           2420    Thursday   \n",
       "1011  this      none            4026           1359      Friday   \n",
       "1092  None      none            2969            792      Sunday   \n",
       "1114  None      none            2423            603      Friday   \n",
       "1131  None      none            2533            685      Monday   \n",
       "1187     a      none            3066            979      Sunday   \n",
       "1250  None      none            3589           1475   Wednesday   \n",
       "1383  None      none            1308            229     Tuesday   \n",
       "1384  None      none            4054           1480     Tuesday   \n",
       "1488  None      none            3185           1030      Friday   \n",
       "1537  None      none            2786           1369      Sunday   \n",
       "\n",
       "      rating_numerator  rating_denominator  \n",
       "584               84.0                70.0  \n",
       "870              165.0               150.0  \n",
       "1011             204.0               170.0  \n",
       "1092              99.0                90.0  \n",
       "1114              80.0                80.0  \n",
       "1131              45.0                50.0  \n",
       "1187              60.0                50.0  \n",
       "1250              44.0                40.0  \n",
       "1383             143.0               130.0  \n",
       "1384             121.0               110.0  \n",
       "1488             144.0               120.0  \n",
       "1537              88.0                80.0  "
      ]
     },
     "execution_count": 81,
     "metadata": {},
     "output_type": "execute_result"
    }
   ],
   "source": [
    "df_twtr_clean[df_twtr_clean.tweet_id.isin(multiple_dogs_rating_ids)]"
   ]
  },
  {
   "cell_type": "code",
   "execution_count": 82,
   "metadata": {},
   "outputs": [],
   "source": [
    "df_twtr_clean.loc[df_twtr_clean.tweet_id.isin(multiple_dogs_rating_ids), 'rating_numerator'] = df_twtr_clean.loc[df_twtr_clean.tweet_id.isin(multiple_dogs_rating_ids), 'rating_numerator'] * 10 / df_twtr_clean.loc[df_twtr_clean.tweet_id.isin(multiple_dogs_rating_ids), 'rating_denominator']"
   ]
  },
  {
   "cell_type": "code",
   "execution_count": 83,
   "metadata": {},
   "outputs": [],
   "source": [
    "df_twtr_clean.loc[df_twtr_clean.tweet_id.isin(multiple_dogs_rating_ids), 'rating_denominator'] = 10"
   ]
  },
  {
   "cell_type": "markdown",
   "metadata": {},
   "source": [
    "#### Test"
   ]
  },
  {
   "cell_type": "code",
   "execution_count": 84,
   "metadata": {},
   "outputs": [
    {
     "data": {
      "text/html": [
       "<div>\n",
       "<style scoped>\n",
       "    .dataframe tbody tr th:only-of-type {\n",
       "        vertical-align: middle;\n",
       "    }\n",
       "\n",
       "    .dataframe tbody tr th {\n",
       "        vertical-align: top;\n",
       "    }\n",
       "\n",
       "    .dataframe thead th {\n",
       "        text-align: right;\n",
       "    }\n",
       "</style>\n",
       "<table border=\"1\" class=\"dataframe\">\n",
       "  <thead>\n",
       "    <tr style=\"text-align: right;\">\n",
       "      <th></th>\n",
       "      <th>tweet_id</th>\n",
       "      <th>in_reply_to_status_id</th>\n",
       "      <th>in_reply_to_user_id</th>\n",
       "      <th>timestamp</th>\n",
       "      <th>source</th>\n",
       "      <th>text</th>\n",
       "      <th>expanded_urls</th>\n",
       "      <th>old_num</th>\n",
       "      <th>old_denom</th>\n",
       "      <th>name</th>\n",
       "      <th>dog_stage</th>\n",
       "      <th>favorite_count</th>\n",
       "      <th>retweet_count</th>\n",
       "      <th>day_of_week</th>\n",
       "      <th>rating_numerator</th>\n",
       "      <th>rating_denominator</th>\n",
       "    </tr>\n",
       "  </thead>\n",
       "  <tbody>\n",
       "    <tr>\n",
       "      <th>1044</th>\n",
       "      <td>722974582966214656</td>\n",
       "      <td>NaN</td>\n",
       "      <td>NaN</td>\n",
       "      <td>2016-04-21 02:25:47</td>\n",
       "      <td>&lt;a href=\"http://twitter.com/download/iphone\" r...</td>\n",
       "      <td>Happy 4/20 from the squad! 13/10 for all https...</td>\n",
       "      <td>https://twitter.com/dog_rates/status/722974582...</td>\n",
       "      <td>4.0</td>\n",
       "      <td>20.0</td>\n",
       "      <td>None</td>\n",
       "      <td>none</td>\n",
       "      <td>4308</td>\n",
       "      <td>1674</td>\n",
       "      <td>Thursday</td>\n",
       "      <td>13.0</td>\n",
       "      <td>10.0</td>\n",
       "    </tr>\n",
       "    <tr>\n",
       "      <th>1072</th>\n",
       "      <td>716439118184652801</td>\n",
       "      <td>NaN</td>\n",
       "      <td>NaN</td>\n",
       "      <td>2016-04-03 01:36:11</td>\n",
       "      <td>&lt;a href=\"http://twitter.com/download/iphone\" r...</td>\n",
       "      <td>This is Bluebert. He just saw that both #Final...</td>\n",
       "      <td>https://twitter.com/dog_rates/status/716439118...</td>\n",
       "      <td>50.0</td>\n",
       "      <td>50.0</td>\n",
       "      <td>Bluebert</td>\n",
       "      <td>none</td>\n",
       "      <td>2478</td>\n",
       "      <td>227</td>\n",
       "      <td>Sunday</td>\n",
       "      <td>11.0</td>\n",
       "      <td>10.0</td>\n",
       "    </tr>\n",
       "  </tbody>\n",
       "</table>\n",
       "</div>"
      ],
      "text/plain": [
       "                tweet_id  in_reply_to_status_id  in_reply_to_user_id  \\\n",
       "1044  722974582966214656                    NaN                  NaN   \n",
       "1072  716439118184652801                    NaN                  NaN   \n",
       "\n",
       "               timestamp                                             source  \\\n",
       "1044 2016-04-21 02:25:47  <a href=\"http://twitter.com/download/iphone\" r...   \n",
       "1072 2016-04-03 01:36:11  <a href=\"http://twitter.com/download/iphone\" r...   \n",
       "\n",
       "                                                   text  \\\n",
       "1044  Happy 4/20 from the squad! 13/10 for all https...   \n",
       "1072  This is Bluebert. He just saw that both #Final...   \n",
       "\n",
       "                                          expanded_urls  old_num  old_denom  \\\n",
       "1044  https://twitter.com/dog_rates/status/722974582...      4.0       20.0   \n",
       "1072  https://twitter.com/dog_rates/status/716439118...     50.0       50.0   \n",
       "\n",
       "          name dog_stage  favorite_count  retweet_count day_of_week  \\\n",
       "1044      None      none            4308           1674    Thursday   \n",
       "1072  Bluebert      none            2478            227      Sunday   \n",
       "\n",
       "      rating_numerator  rating_denominator  \n",
       "1044              13.0                10.0  \n",
       "1072              11.0                10.0  "
      ]
     },
     "execution_count": 84,
     "metadata": {},
     "output_type": "execute_result"
    }
   ],
   "source": [
    "df_twtr_clean.query('tweet_id == 722974582966214656 or tweet_id == 716439118184652801')"
   ]
  },
  {
   "cell_type": "code",
   "execution_count": 85,
   "metadata": {},
   "outputs": [
    {
     "data": {
      "text/html": [
       "<div>\n",
       "<style scoped>\n",
       "    .dataframe tbody tr th:only-of-type {\n",
       "        vertical-align: middle;\n",
       "    }\n",
       "\n",
       "    .dataframe tbody tr th {\n",
       "        vertical-align: top;\n",
       "    }\n",
       "\n",
       "    .dataframe thead th {\n",
       "        text-align: right;\n",
       "    }\n",
       "</style>\n",
       "<table border=\"1\" class=\"dataframe\">\n",
       "  <thead>\n",
       "    <tr style=\"text-align: right;\">\n",
       "      <th></th>\n",
       "      <th>tweet_id</th>\n",
       "      <th>in_reply_to_status_id</th>\n",
       "      <th>in_reply_to_user_id</th>\n",
       "      <th>timestamp</th>\n",
       "      <th>source</th>\n",
       "      <th>text</th>\n",
       "      <th>expanded_urls</th>\n",
       "      <th>old_num</th>\n",
       "      <th>old_denom</th>\n",
       "      <th>name</th>\n",
       "      <th>dog_stage</th>\n",
       "      <th>favorite_count</th>\n",
       "      <th>retweet_count</th>\n",
       "      <th>day_of_week</th>\n",
       "      <th>rating_numerator</th>\n",
       "      <th>rating_denominator</th>\n",
       "    </tr>\n",
       "  </thead>\n",
       "  <tbody>\n",
       "    <tr>\n",
       "      <th>584</th>\n",
       "      <td>820690176645140481</td>\n",
       "      <td>NaN</td>\n",
       "      <td>NaN</td>\n",
       "      <td>2017-01-15 17:52:40</td>\n",
       "      <td>&lt;a href=\"http://twitter.com/download/iphone\" r...</td>\n",
       "      <td>The floofs have been released I repeat the flo...</td>\n",
       "      <td>https://twitter.com/dog_rates/status/820690176...</td>\n",
       "      <td>84.0</td>\n",
       "      <td>70.0</td>\n",
       "      <td>None</td>\n",
       "      <td>none</td>\n",
       "      <td>13019</td>\n",
       "      <td>3534</td>\n",
       "      <td>Sunday</td>\n",
       "      <td>12.0</td>\n",
       "      <td>10.0</td>\n",
       "    </tr>\n",
       "    <tr>\n",
       "      <th>870</th>\n",
       "      <td>758467244762497024</td>\n",
       "      <td>NaN</td>\n",
       "      <td>NaN</td>\n",
       "      <td>2016-07-28 01:00:57</td>\n",
       "      <td>&lt;a href=\"http://twitter.com/download/iphone\" r...</td>\n",
       "      <td>Why does this never happen at my front door......</td>\n",
       "      <td>https://twitter.com/dog_rates/status/758467244...</td>\n",
       "      <td>165.0</td>\n",
       "      <td>150.0</td>\n",
       "      <td>None</td>\n",
       "      <td>none</td>\n",
       "      <td>5103</td>\n",
       "      <td>2420</td>\n",
       "      <td>Thursday</td>\n",
       "      <td>11.0</td>\n",
       "      <td>10.0</td>\n",
       "    </tr>\n",
       "    <tr>\n",
       "      <th>1011</th>\n",
       "      <td>731156023742988288</td>\n",
       "      <td>NaN</td>\n",
       "      <td>NaN</td>\n",
       "      <td>2016-05-13 16:15:54</td>\n",
       "      <td>&lt;a href=\"http://twitter.com/download/iphone\" r...</td>\n",
       "      <td>Say hello to this unbelievably well behaved sq...</td>\n",
       "      <td>https://twitter.com/dog_rates/status/731156023...</td>\n",
       "      <td>204.0</td>\n",
       "      <td>170.0</td>\n",
       "      <td>this</td>\n",
       "      <td>none</td>\n",
       "      <td>4026</td>\n",
       "      <td>1359</td>\n",
       "      <td>Friday</td>\n",
       "      <td>12.0</td>\n",
       "      <td>10.0</td>\n",
       "    </tr>\n",
       "    <tr>\n",
       "      <th>1092</th>\n",
       "      <td>713900603437621249</td>\n",
       "      <td>NaN</td>\n",
       "      <td>NaN</td>\n",
       "      <td>2016-03-27 01:29:02</td>\n",
       "      <td>&lt;a href=\"http://twitter.com/download/iphone\" r...</td>\n",
       "      <td>Happy Saturday here's 9 puppers on a bench. 99...</td>\n",
       "      <td>https://twitter.com/dog_rates/status/713900603...</td>\n",
       "      <td>99.0</td>\n",
       "      <td>90.0</td>\n",
       "      <td>None</td>\n",
       "      <td>none</td>\n",
       "      <td>2969</td>\n",
       "      <td>792</td>\n",
       "      <td>Sunday</td>\n",
       "      <td>11.0</td>\n",
       "      <td>10.0</td>\n",
       "    </tr>\n",
       "    <tr>\n",
       "      <th>1114</th>\n",
       "      <td>710658690886586372</td>\n",
       "      <td>NaN</td>\n",
       "      <td>NaN</td>\n",
       "      <td>2016-03-18 02:46:49</td>\n",
       "      <td>&lt;a href=\"http://twitter.com/download/iphone\" r...</td>\n",
       "      <td>Here's a brigade of puppers. All look very pre...</td>\n",
       "      <td>https://twitter.com/dog_rates/status/710658690...</td>\n",
       "      <td>80.0</td>\n",
       "      <td>80.0</td>\n",
       "      <td>None</td>\n",
       "      <td>none</td>\n",
       "      <td>2423</td>\n",
       "      <td>603</td>\n",
       "      <td>Friday</td>\n",
       "      <td>10.0</td>\n",
       "      <td>10.0</td>\n",
       "    </tr>\n",
       "    <tr>\n",
       "      <th>1131</th>\n",
       "      <td>709198395643068416</td>\n",
       "      <td>NaN</td>\n",
       "      <td>NaN</td>\n",
       "      <td>2016-03-14 02:04:08</td>\n",
       "      <td>&lt;a href=\"http://twitter.com/download/iphone\" r...</td>\n",
       "      <td>From left to right:\\nCletus, Jerome, Alejandro...</td>\n",
       "      <td>https://twitter.com/dog_rates/status/709198395...</td>\n",
       "      <td>45.0</td>\n",
       "      <td>50.0</td>\n",
       "      <td>None</td>\n",
       "      <td>none</td>\n",
       "      <td>2533</td>\n",
       "      <td>685</td>\n",
       "      <td>Monday</td>\n",
       "      <td>9.0</td>\n",
       "      <td>10.0</td>\n",
       "    </tr>\n",
       "    <tr>\n",
       "      <th>1187</th>\n",
       "      <td>704054845121142784</td>\n",
       "      <td>NaN</td>\n",
       "      <td>NaN</td>\n",
       "      <td>2016-02-28 21:25:30</td>\n",
       "      <td>&lt;a href=\"http://twitter.com/download/iphone\" r...</td>\n",
       "      <td>Here is a whole flock of puppers.  60/50 I'll ...</td>\n",
       "      <td>https://twitter.com/dog_rates/status/704054845...</td>\n",
       "      <td>60.0</td>\n",
       "      <td>50.0</td>\n",
       "      <td>a</td>\n",
       "      <td>none</td>\n",
       "      <td>3066</td>\n",
       "      <td>979</td>\n",
       "      <td>Sunday</td>\n",
       "      <td>12.0</td>\n",
       "      <td>10.0</td>\n",
       "    </tr>\n",
       "    <tr>\n",
       "      <th>1250</th>\n",
       "      <td>697463031882764288</td>\n",
       "      <td>NaN</td>\n",
       "      <td>NaN</td>\n",
       "      <td>2016-02-10 16:51:59</td>\n",
       "      <td>&lt;a href=\"http://twitter.com/download/iphone\" r...</td>\n",
       "      <td>Happy Wednesday here's a bucket of pups. 44/40...</td>\n",
       "      <td>https://twitter.com/dog_rates/status/697463031...</td>\n",
       "      <td>44.0</td>\n",
       "      <td>40.0</td>\n",
       "      <td>None</td>\n",
       "      <td>none</td>\n",
       "      <td>3589</td>\n",
       "      <td>1475</td>\n",
       "      <td>Wednesday</td>\n",
       "      <td>11.0</td>\n",
       "      <td>10.0</td>\n",
       "    </tr>\n",
       "    <tr>\n",
       "      <th>1383</th>\n",
       "      <td>684225744407494656</td>\n",
       "      <td>6.842229e+17</td>\n",
       "      <td>4.196984e+09</td>\n",
       "      <td>2016-01-05 04:11:44</td>\n",
       "      <td>&lt;a href=\"http://twitter.com/download/iphone\" r...</td>\n",
       "      <td>Two sneaky puppers were not initially seen, mo...</td>\n",
       "      <td>https://twitter.com/dog_rates/status/684225744...</td>\n",
       "      <td>143.0</td>\n",
       "      <td>130.0</td>\n",
       "      <td>None</td>\n",
       "      <td>none</td>\n",
       "      <td>1308</td>\n",
       "      <td>229</td>\n",
       "      <td>Tuesday</td>\n",
       "      <td>11.0</td>\n",
       "      <td>10.0</td>\n",
       "    </tr>\n",
       "    <tr>\n",
       "      <th>1384</th>\n",
       "      <td>684222868335505415</td>\n",
       "      <td>NaN</td>\n",
       "      <td>NaN</td>\n",
       "      <td>2016-01-05 04:00:18</td>\n",
       "      <td>&lt;a href=\"http://twitter.com/download/iphone\" r...</td>\n",
       "      <td>Someone help the girl is being mugged. Several...</td>\n",
       "      <td>https://twitter.com/dog_rates/status/684222868...</td>\n",
       "      <td>121.0</td>\n",
       "      <td>110.0</td>\n",
       "      <td>None</td>\n",
       "      <td>none</td>\n",
       "      <td>4054</td>\n",
       "      <td>1480</td>\n",
       "      <td>Tuesday</td>\n",
       "      <td>11.0</td>\n",
       "      <td>10.0</td>\n",
       "    </tr>\n",
       "    <tr>\n",
       "      <th>1488</th>\n",
       "      <td>677716515794329600</td>\n",
       "      <td>NaN</td>\n",
       "      <td>NaN</td>\n",
       "      <td>2015-12-18 05:06:23</td>\n",
       "      <td>&lt;a href=\"http://twitter.com/download/iphone\" r...</td>\n",
       "      <td>IT'S PUPPERGEDDON. Total of 144/120 ...I think...</td>\n",
       "      <td>https://twitter.com/dog_rates/status/677716515...</td>\n",
       "      <td>144.0</td>\n",
       "      <td>120.0</td>\n",
       "      <td>None</td>\n",
       "      <td>none</td>\n",
       "      <td>3185</td>\n",
       "      <td>1030</td>\n",
       "      <td>Friday</td>\n",
       "      <td>12.0</td>\n",
       "      <td>10.0</td>\n",
       "    </tr>\n",
       "    <tr>\n",
       "      <th>1537</th>\n",
       "      <td>675853064436391936</td>\n",
       "      <td>NaN</td>\n",
       "      <td>NaN</td>\n",
       "      <td>2015-12-13 01:41:41</td>\n",
       "      <td>&lt;a href=\"http://twitter.com/download/iphone\" r...</td>\n",
       "      <td>Here we have an entire platoon of puppers. Tot...</td>\n",
       "      <td>https://twitter.com/dog_rates/status/675853064...</td>\n",
       "      <td>88.0</td>\n",
       "      <td>80.0</td>\n",
       "      <td>None</td>\n",
       "      <td>none</td>\n",
       "      <td>2786</td>\n",
       "      <td>1369</td>\n",
       "      <td>Sunday</td>\n",
       "      <td>11.0</td>\n",
       "      <td>10.0</td>\n",
       "    </tr>\n",
       "  </tbody>\n",
       "</table>\n",
       "</div>"
      ],
      "text/plain": [
       "                tweet_id  in_reply_to_status_id  in_reply_to_user_id  \\\n",
       "584   820690176645140481                    NaN                  NaN   \n",
       "870   758467244762497024                    NaN                  NaN   \n",
       "1011  731156023742988288                    NaN                  NaN   \n",
       "1092  713900603437621249                    NaN                  NaN   \n",
       "1114  710658690886586372                    NaN                  NaN   \n",
       "1131  709198395643068416                    NaN                  NaN   \n",
       "1187  704054845121142784                    NaN                  NaN   \n",
       "1250  697463031882764288                    NaN                  NaN   \n",
       "1383  684225744407494656           6.842229e+17         4.196984e+09   \n",
       "1384  684222868335505415                    NaN                  NaN   \n",
       "1488  677716515794329600                    NaN                  NaN   \n",
       "1537  675853064436391936                    NaN                  NaN   \n",
       "\n",
       "               timestamp                                             source  \\\n",
       "584  2017-01-15 17:52:40  <a href=\"http://twitter.com/download/iphone\" r...   \n",
       "870  2016-07-28 01:00:57  <a href=\"http://twitter.com/download/iphone\" r...   \n",
       "1011 2016-05-13 16:15:54  <a href=\"http://twitter.com/download/iphone\" r...   \n",
       "1092 2016-03-27 01:29:02  <a href=\"http://twitter.com/download/iphone\" r...   \n",
       "1114 2016-03-18 02:46:49  <a href=\"http://twitter.com/download/iphone\" r...   \n",
       "1131 2016-03-14 02:04:08  <a href=\"http://twitter.com/download/iphone\" r...   \n",
       "1187 2016-02-28 21:25:30  <a href=\"http://twitter.com/download/iphone\" r...   \n",
       "1250 2016-02-10 16:51:59  <a href=\"http://twitter.com/download/iphone\" r...   \n",
       "1383 2016-01-05 04:11:44  <a href=\"http://twitter.com/download/iphone\" r...   \n",
       "1384 2016-01-05 04:00:18  <a href=\"http://twitter.com/download/iphone\" r...   \n",
       "1488 2015-12-18 05:06:23  <a href=\"http://twitter.com/download/iphone\" r...   \n",
       "1537 2015-12-13 01:41:41  <a href=\"http://twitter.com/download/iphone\" r...   \n",
       "\n",
       "                                                   text  \\\n",
       "584   The floofs have been released I repeat the flo...   \n",
       "870   Why does this never happen at my front door......   \n",
       "1011  Say hello to this unbelievably well behaved sq...   \n",
       "1092  Happy Saturday here's 9 puppers on a bench. 99...   \n",
       "1114  Here's a brigade of puppers. All look very pre...   \n",
       "1131  From left to right:\\nCletus, Jerome, Alejandro...   \n",
       "1187  Here is a whole flock of puppers.  60/50 I'll ...   \n",
       "1250  Happy Wednesday here's a bucket of pups. 44/40...   \n",
       "1383  Two sneaky puppers were not initially seen, mo...   \n",
       "1384  Someone help the girl is being mugged. Several...   \n",
       "1488  IT'S PUPPERGEDDON. Total of 144/120 ...I think...   \n",
       "1537  Here we have an entire platoon of puppers. Tot...   \n",
       "\n",
       "                                          expanded_urls  old_num  old_denom  \\\n",
       "584   https://twitter.com/dog_rates/status/820690176...     84.0       70.0   \n",
       "870   https://twitter.com/dog_rates/status/758467244...    165.0      150.0   \n",
       "1011  https://twitter.com/dog_rates/status/731156023...    204.0      170.0   \n",
       "1092  https://twitter.com/dog_rates/status/713900603...     99.0       90.0   \n",
       "1114  https://twitter.com/dog_rates/status/710658690...     80.0       80.0   \n",
       "1131  https://twitter.com/dog_rates/status/709198395...     45.0       50.0   \n",
       "1187  https://twitter.com/dog_rates/status/704054845...     60.0       50.0   \n",
       "1250  https://twitter.com/dog_rates/status/697463031...     44.0       40.0   \n",
       "1383  https://twitter.com/dog_rates/status/684225744...    143.0      130.0   \n",
       "1384  https://twitter.com/dog_rates/status/684222868...    121.0      110.0   \n",
       "1488  https://twitter.com/dog_rates/status/677716515...    144.0      120.0   \n",
       "1537  https://twitter.com/dog_rates/status/675853064...     88.0       80.0   \n",
       "\n",
       "      name dog_stage  favorite_count  retweet_count day_of_week  \\\n",
       "584   None      none           13019           3534      Sunday   \n",
       "870   None      none            5103           2420    Thursday   \n",
       "1011  this      none            4026           1359      Friday   \n",
       "1092  None      none            2969            792      Sunday   \n",
       "1114  None      none            2423            603      Friday   \n",
       "1131  None      none            2533            685      Monday   \n",
       "1187     a      none            3066            979      Sunday   \n",
       "1250  None      none            3589           1475   Wednesday   \n",
       "1383  None      none            1308            229     Tuesday   \n",
       "1384  None      none            4054           1480     Tuesday   \n",
       "1488  None      none            3185           1030      Friday   \n",
       "1537  None      none            2786           1369      Sunday   \n",
       "\n",
       "      rating_numerator  rating_denominator  \n",
       "584               12.0                10.0  \n",
       "870               11.0                10.0  \n",
       "1011              12.0                10.0  \n",
       "1092              11.0                10.0  \n",
       "1114              10.0                10.0  \n",
       "1131               9.0                10.0  \n",
       "1187              12.0                10.0  \n",
       "1250              11.0                10.0  \n",
       "1383              11.0                10.0  \n",
       "1384              11.0                10.0  \n",
       "1488              12.0                10.0  \n",
       "1537              11.0                10.0  "
      ]
     },
     "execution_count": 85,
     "metadata": {},
     "output_type": "execute_result"
    }
   ],
   "source": [
    "df_twtr_clean[df_twtr_clean.tweet_id.isin(multiple_dogs_rating_ids)]"
   ]
  },
  {
   "cell_type": "markdown",
   "metadata": {},
   "source": [
    "### Handle tweets that are incorrectly tagged with more than one dog stage."
   ]
  },
  {
   "cell_type": "markdown",
   "metadata": {},
   "source": [
    "#### Define"
   ]
  },
  {
   "cell_type": "code",
   "execution_count": 86,
   "metadata": {},
   "outputs": [
    {
     "name": "stdout",
     "output_type": "stream",
     "text": [
      "tweet_id: 854010172552949760\n",
      "full_text: At first I thought this was a shy doggo, but it's actually a Rare Canadian Floofer Owl. Amateurs would confuse the two. 11/10 only send dogs https://t.co/TXdT3tmuYk\n",
      "rating: 11.0/10.0\n",
      "dog_stage: floofer\n",
      "\n",
      "tweet_id: 817777686764523521\n",
      "full_text: This is Dido. She's playing the lead role in \"Pupper Stops to Catch Snow Before Resuming Shadow Box with Dried Apple.\" 13/10 (IG: didodoggo) https://t.co/m7isZrOBX7\n",
      "rating: 13.0/10.0\n",
      "dog_stage: pupper\n",
      "\n",
      "tweet_id: 808106460588765185\n",
      "full_text: Here we have Burke (pupper) and Dexter (doggo). Pupper wants to be exactly like doggo. Both 12/10 would pet at same time https://t.co/ANBpEYHaho\n",
      "rating: 12.0/10.0\n",
      "dog_stage: pupper\n",
      "\n",
      "tweet_id: 802265048156610565\n",
      "full_text: Like doggo, like pupper version 2. Both 11/10 https://t.co/9IxWAXFqze\n",
      "rating: 11.0/10.0\n",
      "dog_stage: pupper\n",
      "\n",
      "tweet_id: 801115127852503040\n",
      "full_text: This is Bones. He's being haunted by another doggo of roughly the same size. 12/10 deep breaths pupper everything's fine https://t.co/55Dqe0SJNj\n",
      "rating: 12.0/10.0\n",
      "dog_stage: pupper\n",
      "\n",
      "tweet_id: 785639753186217984\n",
      "full_text: This is Pinot. He's a sophisticated doggo. You can tell by the hat. Also pointier than your average pupper. Still 10/10 would pet cautiously https://t.co/f2wmLZTPHd\n",
      "rating: 10.0/10.0\n",
      "dog_stage: pupper\n",
      "\n",
      "tweet_id: 759793422261743616\n",
      "full_text: Meet Maggie &amp; Lila. Maggie is the doggo, Lila is the pupper. They are sisters. Both 12/10 would pet at the same time https://t.co/MYwR4DQKll\n",
      "rating: 12.0/10.0\n",
      "dog_stage: pupper\n",
      "\n",
      "tweet_id: 751583847268179968\n",
      "full_text: Please stop sending it pictures that don't even have a doggo or pupper in them. Churlish af. 5/10 neat couch tho https://t.co/u2c9c7qSg8\n",
      "rating: 5.0/10.0\n",
      "dog_stage: pupper\n",
      "\n",
      "tweet_id: 741067306818797568\n",
      "full_text: This is just downright precious af. 12/10 for both pupper and doggo https://t.co/o5J479bZUC\n",
      "rating: 12.0/10.0\n",
      "dog_stage: pupper\n",
      "\n",
      "tweet_id: 733109485275860992\n",
      "full_text: Like father (doggo), like son (pupper). Both 12/10 https://t.co/pG2inLaOda\n",
      "rating: 12.0/10.0\n",
      "dog_stage: pupper\n",
      "\n",
      "tweet_id: 855851453814013952\n",
      "full_text: Here's a puppo participating in the #ScienceMarch. Cleverly disguising her own doggo agenda. 13/10 would keep the planet habitable for https://t.co/cMhq16isel\n",
      "rating: 13.0/10.0\n",
      "dog_stage: puppo\n",
      "\n"
     ]
    }
   ],
   "source": [
    "print_tweet_info(df_twtr_clean[df_twtr_clean.tweet_id.duplicated()], dog_stage='dog_stage')"
   ]
  },
  {
   "cell_type": "markdown",
   "metadata": {},
   "source": [
    "Drop the incorrect dog stage in each case using .drop(). In cases, where multiple dogs stages are present because there are multiple dogs in the same photo, retain the dog stage that is most relevant to our analysis. "
   ]
  },
  {
   "cell_type": "markdown",
   "metadata": {},
   "source": [
    "#### Code"
   ]
  },
  {
   "cell_type": "code",
   "execution_count": 87,
   "metadata": {},
   "outputs": [],
   "source": [
    "# Text says that floofer is the correct stage\n",
    "df_twtr_clean.drop(df_twtr_clean.query('dog_stage == \"doggo\" and tweet_id == 854010172552949760').index, axis=0, inplace=True)"
   ]
  },
  {
   "cell_type": "code",
   "execution_count": 88,
   "metadata": {},
   "outputs": [],
   "source": [
    "# Text says that its a pupper, although instagram handle says doggodiddo\n",
    "df_twtr_clean.drop(df_twtr_clean.query('dog_stage == \"doggo\" and tweet_id == 817777686764523521').index, axis=0, inplace=True)"
   ]
  },
  {
   "cell_type": "code",
   "execution_count": 89,
   "metadata": {},
   "outputs": [],
   "source": [
    "# Dog of interest is pupper, the other dog is a doggo\n",
    "df_twtr_clean.drop(df_twtr_clean.query('dog_stage == \"doggo\" and tweet_id == 801115127852503040').index, axis=0, inplace=True)"
   ]
  },
  {
   "cell_type": "code",
   "execution_count": 90,
   "metadata": {},
   "outputs": [],
   "source": [
    "# Text says its not a pupper\n",
    "df_twtr_clean.drop(df_twtr_clean.query('dog_stage == \"pupper\" and tweet_id == 785639753186217984').index, axis=0, inplace=True)"
   ]
  },
  {
   "cell_type": "code",
   "execution_count": 91,
   "metadata": {},
   "outputs": [],
   "source": [
    "# Big dog so can't be a pupper\n",
    "df_twtr_clean.drop(df_twtr_clean.query('dog_stage == \"pupper\" and tweet_id == 751583847268179968').index, axis=0, inplace=True)"
   ]
  },
  {
   "cell_type": "code",
   "execution_count": 92,
   "metadata": {},
   "outputs": [],
   "source": [
    "# Text says puppo\n",
    "df_twtr_clean.drop(df_twtr_clean.query('dog_stage == \"doggo\" and tweet_id == 855851453814013952').index, axis=0, inplace=True)"
   ]
  },
  {
   "cell_type": "code",
   "execution_count": 93,
   "metadata": {
    "scrolled": true
   },
   "outputs": [
    {
     "data": {
      "text/html": [
       "<div>\n",
       "<style scoped>\n",
       "    .dataframe tbody tr th:only-of-type {\n",
       "        vertical-align: middle;\n",
       "    }\n",
       "\n",
       "    .dataframe tbody tr th {\n",
       "        vertical-align: top;\n",
       "    }\n",
       "\n",
       "    .dataframe thead th {\n",
       "        text-align: right;\n",
       "    }\n",
       "</style>\n",
       "<table border=\"1\" class=\"dataframe\">\n",
       "  <thead>\n",
       "    <tr style=\"text-align: right;\">\n",
       "      <th></th>\n",
       "      <th>tweet_id</th>\n",
       "      <th>in_reply_to_status_id</th>\n",
       "      <th>in_reply_to_user_id</th>\n",
       "      <th>timestamp</th>\n",
       "      <th>source</th>\n",
       "      <th>text</th>\n",
       "      <th>expanded_urls</th>\n",
       "      <th>old_num</th>\n",
       "      <th>old_denom</th>\n",
       "      <th>name</th>\n",
       "      <th>dog_stage</th>\n",
       "      <th>favorite_count</th>\n",
       "      <th>retweet_count</th>\n",
       "      <th>day_of_week</th>\n",
       "      <th>rating_numerator</th>\n",
       "      <th>rating_denominator</th>\n",
       "    </tr>\n",
       "  </thead>\n",
       "  <tbody>\n",
       "    <tr>\n",
       "      <th>106</th>\n",
       "      <td>808106460588765185</td>\n",
       "      <td>NaN</td>\n",
       "      <td>NaN</td>\n",
       "      <td>2016-12-12 00:29:28</td>\n",
       "      <td>&lt;a href=\"http://twitter.com/download/iphone\" r...</td>\n",
       "      <td>Here we have Burke (pupper) and Dexter (doggo)...</td>\n",
       "      <td>https://twitter.com/dog_rates/status/808106460...</td>\n",
       "      <td>12.0</td>\n",
       "      <td>10.0</td>\n",
       "      <td>None</td>\n",
       "      <td>pupper</td>\n",
       "      <td>9362</td>\n",
       "      <td>2418</td>\n",
       "      <td>Monday</td>\n",
       "      <td>12.0</td>\n",
       "      <td>10.0</td>\n",
       "    </tr>\n",
       "    <tr>\n",
       "      <th>109</th>\n",
       "      <td>802265048156610565</td>\n",
       "      <td>7.331095e+17</td>\n",
       "      <td>4.196984e+09</td>\n",
       "      <td>2016-11-25 21:37:47</td>\n",
       "      <td>&lt;a href=\"http://twitter.com/download/iphone\" r...</td>\n",
       "      <td>Like doggo, like pupper version 2. Both 11/10 ...</td>\n",
       "      <td>https://twitter.com/dog_rates/status/802265048...</td>\n",
       "      <td>11.0</td>\n",
       "      <td>10.0</td>\n",
       "      <td>None</td>\n",
       "      <td>pupper</td>\n",
       "      <td>7102</td>\n",
       "      <td>1506</td>\n",
       "      <td>Friday</td>\n",
       "      <td>11.0</td>\n",
       "      <td>10.0</td>\n",
       "    </tr>\n",
       "    <tr>\n",
       "      <th>124</th>\n",
       "      <td>759793422261743616</td>\n",
       "      <td>NaN</td>\n",
       "      <td>NaN</td>\n",
       "      <td>2016-07-31 16:50:42</td>\n",
       "      <td>&lt;a href=\"http://twitter.com/download/iphone\" r...</td>\n",
       "      <td>Meet Maggie &amp;amp; Lila. Maggie is the doggo, L...</td>\n",
       "      <td>https://twitter.com/dog_rates/status/759793422...</td>\n",
       "      <td>12.0</td>\n",
       "      <td>10.0</td>\n",
       "      <td>Maggie</td>\n",
       "      <td>pupper</td>\n",
       "      <td>6333</td>\n",
       "      <td>2065</td>\n",
       "      <td>Sunday</td>\n",
       "      <td>12.0</td>\n",
       "      <td>10.0</td>\n",
       "    </tr>\n",
       "    <tr>\n",
       "      <th>139</th>\n",
       "      <td>741067306818797568</td>\n",
       "      <td>NaN</td>\n",
       "      <td>NaN</td>\n",
       "      <td>2016-06-10 00:39:48</td>\n",
       "      <td>&lt;a href=\"http://twitter.com/download/iphone\" r...</td>\n",
       "      <td>This is just downright precious af. 12/10 for ...</td>\n",
       "      <td>https://twitter.com/dog_rates/status/741067306...</td>\n",
       "      <td>12.0</td>\n",
       "      <td>10.0</td>\n",
       "      <td>just</td>\n",
       "      <td>pupper</td>\n",
       "      <td>9946</td>\n",
       "      <td>3312</td>\n",
       "      <td>Friday</td>\n",
       "      <td>12.0</td>\n",
       "      <td>10.0</td>\n",
       "    </tr>\n",
       "    <tr>\n",
       "      <th>145</th>\n",
       "      <td>733109485275860992</td>\n",
       "      <td>NaN</td>\n",
       "      <td>NaN</td>\n",
       "      <td>2016-05-19 01:38:16</td>\n",
       "      <td>&lt;a href=\"http://twitter.com/download/iphone\" r...</td>\n",
       "      <td>Like father (doggo), like son (pupper). Both 1...</td>\n",
       "      <td>https://twitter.com/dog_rates/status/733109485...</td>\n",
       "      <td>12.0</td>\n",
       "      <td>10.0</td>\n",
       "      <td>None</td>\n",
       "      <td>pupper</td>\n",
       "      <td>51644</td>\n",
       "      <td>17979</td>\n",
       "      <td>Thursday</td>\n",
       "      <td>12.0</td>\n",
       "      <td>10.0</td>\n",
       "    </tr>\n",
       "  </tbody>\n",
       "</table>\n",
       "</div>"
      ],
      "text/plain": [
       "               tweet_id  in_reply_to_status_id  in_reply_to_user_id  \\\n",
       "106  808106460588765185                    NaN                  NaN   \n",
       "109  802265048156610565           7.331095e+17         4.196984e+09   \n",
       "124  759793422261743616                    NaN                  NaN   \n",
       "139  741067306818797568                    NaN                  NaN   \n",
       "145  733109485275860992                    NaN                  NaN   \n",
       "\n",
       "              timestamp                                             source  \\\n",
       "106 2016-12-12 00:29:28  <a href=\"http://twitter.com/download/iphone\" r...   \n",
       "109 2016-11-25 21:37:47  <a href=\"http://twitter.com/download/iphone\" r...   \n",
       "124 2016-07-31 16:50:42  <a href=\"http://twitter.com/download/iphone\" r...   \n",
       "139 2016-06-10 00:39:48  <a href=\"http://twitter.com/download/iphone\" r...   \n",
       "145 2016-05-19 01:38:16  <a href=\"http://twitter.com/download/iphone\" r...   \n",
       "\n",
       "                                                  text  \\\n",
       "106  Here we have Burke (pupper) and Dexter (doggo)...   \n",
       "109  Like doggo, like pupper version 2. Both 11/10 ...   \n",
       "124  Meet Maggie &amp; Lila. Maggie is the doggo, L...   \n",
       "139  This is just downright precious af. 12/10 for ...   \n",
       "145  Like father (doggo), like son (pupper). Both 1...   \n",
       "\n",
       "                                         expanded_urls  old_num  old_denom  \\\n",
       "106  https://twitter.com/dog_rates/status/808106460...     12.0       10.0   \n",
       "109  https://twitter.com/dog_rates/status/802265048...     11.0       10.0   \n",
       "124  https://twitter.com/dog_rates/status/759793422...     12.0       10.0   \n",
       "139  https://twitter.com/dog_rates/status/741067306...     12.0       10.0   \n",
       "145  https://twitter.com/dog_rates/status/733109485...     12.0       10.0   \n",
       "\n",
       "       name dog_stage  favorite_count  retweet_count day_of_week  \\\n",
       "106    None    pupper            9362           2418      Monday   \n",
       "109    None    pupper            7102           1506      Friday   \n",
       "124  Maggie    pupper            6333           2065      Sunday   \n",
       "139    just    pupper            9946           3312      Friday   \n",
       "145    None    pupper           51644          17979    Thursday   \n",
       "\n",
       "     rating_numerator  rating_denominator  \n",
       "106              12.0                10.0  \n",
       "109              11.0                10.0  \n",
       "124              12.0                10.0  \n",
       "139              12.0                10.0  \n",
       "145              12.0                10.0  "
      ]
     },
     "execution_count": 93,
     "metadata": {},
     "output_type": "execute_result"
    }
   ],
   "source": [
    "# The duplicates remaining now are due to multiple dogs in the same photo. Inspect to make sure it is okay to drop either duplicate and they're mostly identical in terms of ratings.\n",
    "df_twtr_clean[df_twtr_clean.tweet_id.duplicated()]"
   ]
  },
  {
   "cell_type": "code",
   "execution_count": 94,
   "metadata": {},
   "outputs": [
    {
     "data": {
      "text/plain": [
       "none       1686\n",
       "pupper      210\n",
       "doggo        70\n",
       "puppo        23\n",
       "floofer       8\n",
       "Name: dog_stage, dtype: int64"
      ]
     },
     "execution_count": 94,
     "metadata": {},
     "output_type": "execute_result"
    }
   ],
   "source": [
    "# Check to see which of the duplicate dog_stages is more relevant for analysis and hence should be retained\n",
    "df_twtr_clean.dog_stage.value_counts()"
   ]
  },
  {
   "cell_type": "code",
   "execution_count": 95,
   "metadata": {},
   "outputs": [],
   "source": [
    "# Since pupper is the dominant category and we are likely to focus on it for analysis and doggo standing won't be affected by dropping the few duplicates, we will chose to drop doggo\n",
    "# and keep pupper which is the second/last of the duplicates\n",
    "df_twtr_clean.drop_duplicates(subset=['tweet_id'], keep='last', inplace=True)"
   ]
  },
  {
   "cell_type": "markdown",
   "metadata": {},
   "source": [
    "#### Test"
   ]
  },
  {
   "cell_type": "code",
   "execution_count": 96,
   "metadata": {},
   "outputs": [
    {
     "data": {
      "text/plain": [
       "False"
      ]
     },
     "execution_count": 96,
     "metadata": {},
     "output_type": "execute_result"
    }
   ],
   "source": [
    "df_twtr_clean.tweet_id.duplicated().any()"
   ]
  },
  {
   "cell_type": "markdown",
   "metadata": {},
   "source": [
    "### Dog breed prediction columns need to be converted snake-case and then into categorical variables"
   ]
  },
  {
   "cell_type": "markdown",
   "metadata": {},
   "source": [
    "#### Define"
   ]
  },
  {
   "cell_type": "markdown",
   "metadata": {},
   "source": [
    "Convert all three predictions from object to category using astype."
   ]
  },
  {
   "cell_type": "markdown",
   "metadata": {},
   "source": [
    "#### Code"
   ]
  },
  {
   "cell_type": "code",
   "execution_count": 97,
   "metadata": {},
   "outputs": [],
   "source": [
    "df_img_pred_clean.p1 = df_img_pred_clean.p1.str.lower()\n",
    "df_img_pred_clean.p1 = df_img_pred_clean.p1.replace(' ', '_')\n",
    "df_img_pred_clean.p1 = df_img_pred_clean.p1.astype('category')\n",
    "df_img_pred_clean.p2 = df_img_pred_clean.p2.str.lower()\n",
    "df_img_pred_clean.p2 = df_img_pred_clean.p2.replace(' ', '_')\n",
    "df_img_pred_clean.p2 = df_img_pred_clean.p2.astype('category')\n",
    "df_img_pred_clean.p3 = df_img_pred_clean.p3.str.lower()\n",
    "df_img_pred_clean.p3 = df_img_pred_clean.p3.replace(' ', '_')\n",
    "df_img_pred_clean.p3 = df_img_pred_clean.p3.astype('category')\n",
    "df_img_pred_clean.predicted_dog = df_img_pred_clean.predicted_dog.str.lower()\n",
    "df_img_pred_clean.predicted_dog = df_img_pred_clean.predicted_dog.replace(' ', '_')\n",
    "df_img_pred_clean.predicted_dog = df_img_pred_clean.predicted_dog.astype('category')"
   ]
  },
  {
   "cell_type": "markdown",
   "metadata": {},
   "source": [
    "#### Test"
   ]
  },
  {
   "cell_type": "code",
   "execution_count": 98,
   "metadata": {},
   "outputs": [
    {
     "name": "stdout",
     "output_type": "stream",
     "text": [
      "<class 'pandas.core.frame.DataFrame'>\n",
      "Int64Index: 1992 entries, 0 to 2074\n",
      "Data columns (total 13 columns):\n",
      "tweet_id         1992 non-null int64\n",
      "jpg_url          1992 non-null object\n",
      "img_num          1992 non-null int64\n",
      "p1               1992 non-null category\n",
      "p1_conf          1992 non-null float64\n",
      "p1_dog           1992 non-null bool\n",
      "p2               1992 non-null category\n",
      "p2_conf          1992 non-null float64\n",
      "p2_dog           1992 non-null bool\n",
      "p3               1992 non-null category\n",
      "p3_conf          1992 non-null float64\n",
      "p3_dog           1992 non-null bool\n",
      "predicted_dog    1992 non-null category\n",
      "dtypes: bool(3), category(4), float64(3), int64(2), object(1)\n",
      "memory usage: 193.4+ KB\n"
     ]
    }
   ],
   "source": [
    "df_img_pred_clean.info()"
   ]
  },
  {
   "cell_type": "markdown",
   "metadata": {},
   "source": [
    "# Storing data"
   ]
  },
  {
   "cell_type": "code",
   "execution_count": 99,
   "metadata": {},
   "outputs": [],
   "source": [
    "# Drop the old denominator columns since they're mostly for testing\n",
    "df_twtr_clean.drop(['old_num', 'old_denom'], axis=1, inplace=True)"
   ]
  },
  {
   "cell_type": "code",
   "execution_count": 100,
   "metadata": {},
   "outputs": [],
   "source": [
    "df_twtr_clean.to_csv('twitter_archive_master.csv', index=False)"
   ]
  },
  {
   "cell_type": "code",
   "execution_count": 101,
   "metadata": {},
   "outputs": [],
   "source": [
    "df_img_pred_clean.to_csv('image_predictions_master.csv', index=False)"
   ]
  },
  {
   "cell_type": "markdown",
   "metadata": {},
   "source": [
    "# Analysis and Visualization"
   ]
  },
  {
   "cell_type": "markdown",
   "metadata": {},
   "source": [
    "## Doggo statistics"
   ]
  },
  {
   "cell_type": "markdown",
   "metadata": {},
   "source": [
    "Let's look at the most popular dog_stage on WeRateDogs."
   ]
  },
  {
   "cell_type": "code",
   "execution_count": 102,
   "metadata": {},
   "outputs": [
    {
     "data": {
      "text/plain": [
       "none       1686\n",
       "pupper      210\n",
       "doggo        65\n",
       "puppo        23\n",
       "floofer       8\n",
       "Name: dog_stage, dtype: int64"
      ]
     },
     "execution_count": 102,
     "metadata": {},
     "output_type": "execute_result"
    }
   ],
   "source": [
    "df_twtr_clean.dog_stage.value_counts()"
   ]
  },
  {
   "cell_type": "code",
   "execution_count": 103,
   "metadata": {},
   "outputs": [
    {
     "data": {
      "image/png": "[encoded data removed]",
      "text/plain": [
       "<matplotlib.figure.Figure at 0x11466bd30>"
      ]
     },
     "metadata": {
      "image/png": {
       "height": 231,
       "width": 356
      }
     },
     "output_type": "display_data"
    }
   ],
   "source": [
    "plt.pie(df_twtr_clean.dog_stage.value_counts().tolist(), \n",
    "        labels=df_twtr_clean.dog_stage.value_counts().keys().tolist(), \n",
    "        autopct='%.2f');"
   ]
  },
  {
   "cell_type": "markdown",
   "metadata": {},
   "source": [
    "We see that only 15% of the tweets are tagged with dog_stage out of which around 10% are puppers. "
   ]
  },
  {
   "cell_type": "markdown",
   "metadata": {},
   "source": [
    "Now lets look at top 10 most tweeted predicted breeds."
   ]
  },
  {
   "cell_type": "code",
   "execution_count": 104,
   "metadata": {},
   "outputs": [],
   "source": [
    "sorted_dog_counts = df_img_pred_clean.predicted_dog.value_counts()"
   ]
  },
  {
   "cell_type": "code",
   "execution_count": 105,
   "metadata": {},
   "outputs": [
    {
     "data": {
      "text/plain": [
       "unknown                        1057\n",
       "golden_retriever                115\n",
       "pembroke                         70\n",
       "labrador_retriever               65\n",
       "chihuahua                        47\n",
       "pug                              43\n",
       "samoyed                          30\n",
       "pomeranian                       29\n",
       "chow                             26\n",
       "toy_poodle                       24\n",
       "french_bulldog                   21\n",
       "german_shepherd                  19\n",
       "malamute                         18\n",
       "maltese_dog                      15\n",
       "cocker_spaniel                   14\n",
       "cardigan                         12\n",
       "shetland_sheepdog                12\n",
       "chesapeake_bay_retriever         11\n",
       "shih-tzu                         11\n",
       "west_highland_white_terrier      11\n",
       "miniature_pinscher               11\n",
       "staffordshire_bullterrier        10\n",
       "rottweiler                       10\n",
       "bernese_mountain_dog             10\n",
       "vizsla                           10\n",
       "dalmatian                         9\n",
       "eskimo_dog                        9\n",
       "great_pyrenees                    9\n",
       "basset                            9\n",
       "pekinese                          9\n",
       "                               ... \n",
       "lhasa                             2\n",
       "redbone                           2\n",
       "newfoundland                      2\n",
       "briard                            2\n",
       "standard_poodle                   2\n",
       "gordon_setter                     2\n",
       "black-and-tan_coonhound           2\n",
       "greater_swiss_mountain_dog        2\n",
       "irish_terrier                     2\n",
       "weimaraner                        2\n",
       "walker_hound                      2\n",
       "dandie_dinmont                    2\n",
       "welsh_springer_spaniel            1\n",
       "appenzeller                       1\n",
       "tibetan_terrier                   1\n",
       "toy_terrier                       1\n",
       "bluetick                          1\n",
       "giant_schnauzer                   1\n",
       "rhodesian_ridgeback               1\n",
       "norfolk_terrier                   1\n",
       "miniature_schnauzer               1\n",
       "mexican_hairless                  1\n",
       "clumber                           1\n",
       "japanese_spaniel                  1\n",
       "curly-coated_retriever            1\n",
       "irish_water_spaniel               1\n",
       "ibizan_hound                      1\n",
       "entlebucher                       1\n",
       "groenendael                       1\n",
       "afghan_hound                      1\n",
       "Name: predicted_dog, Length: 101, dtype: int64"
      ]
     },
     "execution_count": 105,
     "metadata": {},
     "output_type": "execute_result"
    }
   ],
   "source": [
    "sorted_dog_counts"
   ]
  },
  {
   "cell_type": "code",
   "execution_count": 108,
   "metadata": {},
   "outputs": [
    {
     "name": "stdout",
     "output_type": "stream",
     "text": [
      "Percentage of dog images predicted with > 50% probability: 46.937751004016064\n"
     ]
    }
   ],
   "source": [
    "unknown_count = sorted_dog_counts.tolist()[0]\n",
    "num_tweets = df_img_pred_clean.shape[0]\n",
    "num_predicted = num_tweets - unknown_count\n",
    "print(\"Percentage of dog images predicted with > 50% probability: {}\".format((num_tweets - unknown_count) * 100 / num_tweets))"
   ]
  },
  {
   "cell_type": "code",
   "execution_count": 109,
   "metadata": {},
   "outputs": [
    {
     "data": {
      "image/png": "[encoded data removed]",
      "text/plain": [
       "<matplotlib.figure.Figure at 0x10eea6710>"
      ]
     },
     "metadata": {
      "image/png": {
       "height": 342,
       "width": 377
      }
     },
     "output_type": "display_data"
    }
   ],
   "source": [
    "x = list(range(1, 11))\n",
    "y = [dog_count * 100 / num_predicted for dog_count in sorted_dog_counts.tolist()[1:11]]\n",
    "xticks =  sorted_dog_counts.keys().tolist()[1:11]\n",
    "plt.xticks(x, xticks, rotation='vertical')\n",
    "plt.title('Top 10 most tweeted about breeds')\n",
    "plt.xlabel('Predicted Breed')\n",
    "plt.ylabel('Percentage of predictions for this breed')\n",
    "plt.bar(x, y)\n",
    "plt.show();"
   ]
  },
  {
   "cell_type": "markdown",
   "metadata": {},
   "source": [
    "This shows that we were able to get a dog prediction with greater than 50% probability for a little less than half of the total tweets. Out of these predictions, around 12% of predictions came out as golden retriever, and pembroke and labrodor_retriever are the second and third most tweeted about breeds."
   ]
  },
  {
   "cell_type": "markdown",
   "metadata": {},
   "source": [
    "## Factors leading to higher ratings"
   ]
  },
  {
   "cell_type": "markdown",
   "metadata": {},
   "source": [
    "Let's plot the average rating_numerator for each of the dog stages. To do this we will write a helper function that takes a groupby column and target column for averaging."
   ]
  },
  {
   "cell_type": "code",
   "execution_count": 110,
   "metadata": {},
   "outputs": [],
   "source": [
    "def plot_1d_bar(df, grouper, target_label='rating_numerator', color='orangered'):\n",
    "    \"\"\"\n",
    "    Plot 1d bar chart showing average target values across each category of the predictor\n",
    "    \"\"\"\n",
    "    width=0.8\n",
    "    target_means = df.groupby(grouper)[target_label].mean()\n",
    "    print(target_means)\n",
    "    target_means.plot(kind='bar', width=width, color=color, alpha=0.5)\n",
    "    plt.title('Average of %s across %s' % (target_label, grouper))\n",
    "    plt.xlabel(grouper)\n",
    "    plt.ylabel('Average %s' % (target_label))\n",
    "    plt.show();"
   ]
  },
  {
   "cell_type": "code",
   "execution_count": 111,
   "metadata": {},
   "outputs": [
    {
     "name": "stdout",
     "output_type": "stream",
     "text": [
      "dog_stage\n",
      "doggo      11.753846\n",
      "floofer    11.875000\n",
      "none       11.760089\n",
      "pupper     10.682238\n",
      "puppo      12.043478\n",
      "Name: rating_numerator, dtype: float64\n"
     ]
    },
    {
     "data": {
      "image/png": "[encoded data removed]",
      "text/plain": [
       "<matplotlib.figure.Figure at 0x11463fb38>"
      ]
     },
     "metadata": {
      "image/png": {
       "height": 294,
       "width": 377
      }
     },
     "output_type": "display_data"
    }
   ],
   "source": [
    "plot_1d_bar(df_twtr_clean, 'dog_stage')"
   ]
  },
  {
   "cell_type": "markdown",
   "metadata": {},
   "source": [
    "We see that the average rating_numerator is mostly flat across all dog stages and seems to hover around 10-12. Puppo seem to be the most popular category, with average rating being the highest, at a value of 12 for this stage."
   ]
  },
  {
   "cell_type": "markdown",
   "metadata": {},
   "source": [
    "Now let's create a joined dataframe of the twtr table with the ratings and the predictions table, so that we get can view the ratings by breed."
   ]
  },
  {
   "cell_type": "code",
   "execution_count": 112,
   "metadata": {},
   "outputs": [
    {
     "data": {
      "text/plain": [
       "1992"
      ]
     },
     "execution_count": 112,
     "metadata": {},
     "output_type": "execute_result"
    }
   ],
   "source": [
    "df_twtr_joined_clean = pd.merge(df_twtr_clean, df_img_pred_clean, on=['tweet_id'], how='left')\n",
    "df_twtr_joined_clean.shape[0]"
   ]
  },
  {
   "cell_type": "code",
   "execution_count": 113,
   "metadata": {},
   "outputs": [],
   "source": [
    "# Average rating when grouped by predicted dog\n",
    "top_10_rated_breeds = df_twtr_joined_clean.groupby('predicted_dog')['rating_numerator'].mean().sort_values(ascending=False)"
   ]
  },
  {
   "cell_type": "markdown",
   "metadata": {},
   "source": [
    "Again, since there are a lot of dog breeds, let us restrict to the top 10 highest rated breeds."
   ]
  },
  {
   "cell_type": "code",
   "execution_count": 114,
   "metadata": {
    "scrolled": true
   },
   "outputs": [
    {
     "data": {
      "text/plain": [
       "predicted_dog\n",
       "afghan_hound              13.000000\n",
       "curly-coated_retriever    13.000000\n",
       "saluki                    13.000000\n",
       "briard                    12.500000\n",
       "tibetan_mastiff           12.333333\n",
       "unknown                   12.175979\n",
       "border_terrier            12.000000\n",
       "irish_setter              12.000000\n",
       "irish_water_spaniel       12.000000\n",
       "bluetick                  12.000000\n",
       "Name: rating_numerator, dtype: float64"
      ]
     },
     "execution_count": 114,
     "metadata": {},
     "output_type": "execute_result"
    }
   ],
   "source": [
    "top_10_rated_breeds.head(10)"
   ]
  },
  {
   "cell_type": "markdown",
   "metadata": {},
   "source": [
    "So, Afghan Hound is the top rated breed and ironically, none of top 10 most tweeted dog breeds are in the top 10 rated list."
   ]
  },
  {
   "cell_type": "markdown",
   "metadata": {},
   "source": [
    "## Factors leading to higher user engagement "
   ]
  },
  {
   "cell_type": "markdown",
   "metadata": {},
   "source": [
    "Let's look at the average retweet and favorite count across the rating spectrum."
   ]
  },
  {
   "cell_type": "code",
   "execution_count": 115,
   "metadata": {},
   "outputs": [
    {
     "name": "stdout",
     "output_type": "stream",
     "text": [
      "rating_numerator\n",
      "0.00       1786.500000\n",
      "1.00       2988.500000\n",
      "2.00       1270.555556\n",
      "3.00        899.315789\n",
      "4.00       1045.066667\n",
      "5.00        996.187500\n",
      "6.00        988.750000\n",
      "7.00       1008.117647\n",
      "8.00        854.842105\n",
      "9.00        764.901316\n",
      "9.75       6705.000000\n",
      "10.00      1472.912114\n",
      "11.00      2074.861042\n",
      "11.26       518.000000\n",
      "11.27      1777.000000\n",
      "12.00      2996.293598\n",
      "13.00      6758.667939\n",
      "13.50      9792.000000\n",
      "14.00      9083.000000\n",
      "420.00     9024.000000\n",
      "1776.00    2644.000000\n",
      "Name: retweet_count, dtype: float64\n"
     ]
    },
    {
     "data": {
      "image/png": "[encoded data removed]",
      "text/plain": [
       "<matplotlib.figure.Figure at 0x10ef30b70>"
      ]
     },
     "metadata": {
      "image/png": {
       "height": 294,
       "width": 394
      }
     },
     "output_type": "display_data"
    }
   ],
   "source": [
    "plot_1d_bar(df_twtr_clean, 'rating_numerator', 'retweet_count')"
   ]
  },
  {
   "cell_type": "code",
   "execution_count": 116,
   "metadata": {},
   "outputs": [
    {
     "name": "stdout",
     "output_type": "stream",
     "text": [
      "rating_numerator\n",
      "0.00       13362.000000\n",
      "1.00        6837.000000\n",
      "2.00        2156.444444\n",
      "3.00        2297.000000\n",
      "4.00        2634.600000\n",
      "5.00        2520.593750\n",
      "6.00        2608.312500\n",
      "7.00        2903.980392\n",
      "8.00        2352.831579\n",
      "9.00        2316.986842\n",
      "9.75       19535.000000\n",
      "10.00       4072.529691\n",
      "11.00       6583.784119\n",
      "11.26       1800.000000\n",
      "11.27       7017.000000\n",
      "12.00      11041.024283\n",
      "13.00      22621.164122\n",
      "13.50      45262.000000\n",
      "14.00      28486.583333\n",
      "420.00     25050.000000\n",
      "1776.00     5413.000000\n",
      "Name: favorite_count, dtype: float64\n"
     ]
    },
    {
     "data": {
      "image/png": "[encoded data removed]",
      "text/plain": [
       "<matplotlib.figure.Figure at 0x10f4efb38>"
      ]
     },
     "metadata": {
      "image/png": {
       "height": 294,
       "width": 394
      }
     },
     "output_type": "display_data"
    }
   ],
   "source": [
    "plot_1d_bar(df_twtr_clean, 'rating_numerator', 'favorite_count')"
   ]
  },
  {
   "cell_type": "code",
   "execution_count": 117,
   "metadata": {},
   "outputs": [
    {
     "data": {
      "text/html": [
       "<div>\n",
       "<style scoped>\n",
       "    .dataframe tbody tr th:only-of-type {\n",
       "        vertical-align: middle;\n",
       "    }\n",
       "\n",
       "    .dataframe tbody tr th {\n",
       "        vertical-align: top;\n",
       "    }\n",
       "\n",
       "    .dataframe thead th {\n",
       "        text-align: right;\n",
       "    }\n",
       "</style>\n",
       "<table border=\"1\" class=\"dataframe\">\n",
       "  <thead>\n",
       "    <tr style=\"text-align: right;\">\n",
       "      <th></th>\n",
       "      <th>tweet_id</th>\n",
       "      <th>in_reply_to_status_id</th>\n",
       "      <th>in_reply_to_user_id</th>\n",
       "      <th>timestamp</th>\n",
       "      <th>source</th>\n",
       "      <th>text</th>\n",
       "      <th>expanded_urls</th>\n",
       "      <th>name</th>\n",
       "      <th>dog_stage</th>\n",
       "      <th>favorite_count</th>\n",
       "      <th>...</th>\n",
       "      <th>p1</th>\n",
       "      <th>p1_conf</th>\n",
       "      <th>p1_dog</th>\n",
       "      <th>p2</th>\n",
       "      <th>p2_conf</th>\n",
       "      <th>p2_dog</th>\n",
       "      <th>p3</th>\n",
       "      <th>p3_conf</th>\n",
       "      <th>p3_dog</th>\n",
       "      <th>predicted_dog</th>\n",
       "    </tr>\n",
       "  </thead>\n",
       "  <tbody>\n",
       "    <tr>\n",
       "      <th>903</th>\n",
       "      <td>749981277374128128</td>\n",
       "      <td>NaN</td>\n",
       "      <td>NaN</td>\n",
       "      <td>2016-07-04 15:00:45</td>\n",
       "      <td>&lt;a href=\"https://about.twitter.com/products/tw...</td>\n",
       "      <td>This is Atticus. He's quite simply America af....</td>\n",
       "      <td>https://twitter.com/dog_rates/status/749981277...</td>\n",
       "      <td>Atticus</td>\n",
       "      <td>none</td>\n",
       "      <td>5413</td>\n",
       "      <td>...</td>\n",
       "      <td>bow_tie</td>\n",
       "      <td>0.533941</td>\n",
       "      <td>False</td>\n",
       "      <td>sunglasses</td>\n",
       "      <td>0.080822</td>\n",
       "      <td>False</td>\n",
       "      <td>sunglass</td>\n",
       "      <td>0.050776</td>\n",
       "      <td>False</td>\n",
       "      <td>unknown</td>\n",
       "    </tr>\n",
       "    <tr>\n",
       "      <th>1716</th>\n",
       "      <td>670842764863651840</td>\n",
       "      <td>NaN</td>\n",
       "      <td>NaN</td>\n",
       "      <td>2015-11-29 05:52:33</td>\n",
       "      <td>&lt;a href=\"http://twitter.com/download/iphone\" r...</td>\n",
       "      <td>After so many requests... here you go.\\n\\nGood...</td>\n",
       "      <td>https://twitter.com/dog_rates/status/670842764...</td>\n",
       "      <td>None</td>\n",
       "      <td>none</td>\n",
       "      <td>25050</td>\n",
       "      <td>...</td>\n",
       "      <td>microphone</td>\n",
       "      <td>0.096063</td>\n",
       "      <td>False</td>\n",
       "      <td>accordion</td>\n",
       "      <td>0.094075</td>\n",
       "      <td>False</td>\n",
       "      <td>drumstick</td>\n",
       "      <td>0.061113</td>\n",
       "      <td>False</td>\n",
       "      <td>unknown</td>\n",
       "    </tr>\n",
       "  </tbody>\n",
       "</table>\n",
       "<p>2 rows × 26 columns</p>\n",
       "</div>"
      ],
      "text/plain": [
       "                tweet_id  in_reply_to_status_id  in_reply_to_user_id  \\\n",
       "903   749981277374128128                    NaN                  NaN   \n",
       "1716  670842764863651840                    NaN                  NaN   \n",
       "\n",
       "               timestamp                                             source  \\\n",
       "903  2016-07-04 15:00:45  <a href=\"https://about.twitter.com/products/tw...   \n",
       "1716 2015-11-29 05:52:33  <a href=\"http://twitter.com/download/iphone\" r...   \n",
       "\n",
       "                                                   text  \\\n",
       "903   This is Atticus. He's quite simply America af....   \n",
       "1716  After so many requests... here you go.\\n\\nGood...   \n",
       "\n",
       "                                          expanded_urls     name dog_stage  \\\n",
       "903   https://twitter.com/dog_rates/status/749981277...  Atticus      none   \n",
       "1716  https://twitter.com/dog_rates/status/670842764...     None      none   \n",
       "\n",
       "      favorite_count      ...               p1   p1_conf  p1_dog          p2  \\\n",
       "903             5413      ...          bow_tie  0.533941   False  sunglasses   \n",
       "1716           25050      ...       microphone  0.096063   False   accordion   \n",
       "\n",
       "       p2_conf  p2_dog         p3   p3_conf  p3_dog predicted_dog  \n",
       "903   0.080822   False   sunglass  0.050776   False       unknown  \n",
       "1716  0.094075   False  drumstick  0.061113   False       unknown  \n",
       "\n",
       "[2 rows x 26 columns]"
      ]
     },
     "execution_count": 117,
     "metadata": {},
     "output_type": "execute_result"
    }
   ],
   "source": [
    "df_twtr_joined_clean.query('rating_numerator == 420 or rating_numerator == 1776')"
   ]
  },
  {
   "cell_type": "markdown",
   "metadata": {},
   "source": [
    "We see that most of the user engagement happens for dogs rated in the 12- 14 range and that second highly rated dog drove much more user engagement than the highest rated dog Atticus."
   ]
  },
  {
   "cell_type": "markdown",
   "metadata": {},
   "source": [
    "Finally, we examine if day of the week played a role in user engagement."
   ]
  },
  {
   "cell_type": "code",
   "execution_count": 118,
   "metadata": {},
   "outputs": [
    {
     "name": "stdout",
     "output_type": "stream",
     "text": [
      "day_of_week\n",
      "Friday       2698.184397\n",
      "Monday       2522.076687\n",
      "Saturday     2906.726190\n",
      "Sunday       2569.722656\n",
      "Thursday     2407.369718\n",
      "Tuesday      2620.542373\n",
      "Wednesday    2975.606061\n",
      "Name: retweet_count, dtype: float64\n"
     ]
    },
    {
     "data": {
      "image/png": "[encoded data removed]",
      "text/plain": [
       "<matplotlib.figure.Figure at 0x10f5525c0>"
      ]
     },
     "metadata": {
      "image/png": {
       "height": 316,
       "width": 388
      }
     },
     "output_type": "display_data"
    }
   ],
   "source": [
    "plot_1d_bar(df_twtr_clean, 'day_of_week', target_label='retweet_count')"
   ]
  },
  {
   "cell_type": "code",
   "execution_count": 119,
   "metadata": {},
   "outputs": [
    {
     "name": "stdout",
     "output_type": "stream",
     "text": [
      "day_of_week\n",
      "Friday       8610.187943\n",
      "Monday       8302.417178\n",
      "Saturday     9055.373016\n",
      "Sunday       8599.093750\n",
      "Thursday     8120.447183\n",
      "Tuesday      8962.932203\n",
      "Wednesday    9771.175084\n",
      "Name: favorite_count, dtype: float64\n"
     ]
    },
    {
     "data": {
      "image/png": "[encoded data removed]",
      "text/plain": [
       "<matplotlib.figure.Figure at 0x114f69588>"
      ]
     },
     "metadata": {
      "image/png": {
       "height": 316,
       "width": 394
      }
     },
     "output_type": "display_data"
    }
   ],
   "source": [
    "plot_1d_bar(df_twtr_clean, 'day_of_week', target_label='favorite_count')"
   ]
  },
  {
   "cell_type": "markdown",
   "metadata": {},
   "source": [
    "Tweets posted on Wednesdays seem to have gotten the highest user engagement."
   ]
  }
 ],
 "metadata": {
  "kernelspec": {
   "display_name": "Python [default]",
   "language": "python",
   "name": "python3"
  },
  "language_info": {
   "codemirror_mode": {
    "name": "ipython",
    "version": 3
   },
   "file_extension": ".py",
   "mimetype": "text/x-python",
   "name": "python",
   "nbconvert_exporter": "python",
   "pygments_lexer": "ipython3",
   "version": "3.6.4"
  }
 },
 "nbformat": 4,
 "nbformat_minor": 2
}

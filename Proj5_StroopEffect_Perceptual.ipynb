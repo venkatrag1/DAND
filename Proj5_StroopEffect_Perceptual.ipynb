{
 "cells": [
  {
   "cell_type": "markdown",
   "metadata": {},
   "source": [
    "### Analyzing the Stroop Effect\n",
    "Perform the analysis in the space below. Remember to follow [the instructions](https://docs.google.com/document/d/1-OkpZLjG_kX9J6LIQ5IltsqMzVWjh36QpnP2RYpVdPU/pub?embedded=True) and review the [project rubric](https://review.udacity.com/#!/rubrics/71/view) before submitting. Once you've completed the analysis and write-up, download this file as a PDF or HTML file, upload that PDF/HTML into the workspace here (click on the orange Jupyter icon in the upper left then Upload), then use the Submit Project button at the bottom of this page. This will create a zip file containing both this .ipynb doc and the PDF/HTML doc that will be submitted for your project.\n",
    "\n",
    "\n",
    "(1) What is the independent variable? What is the dependent variable?"
   ]
  },
  {
   "cell_type": "markdown",
   "metadata": {},
   "source": [
    "The independent variable here is whether a given word is congruent or incongruent, i.e whether its ink color matches the color named by the word itself. The dependent variable is the time it takes to name the ink color, which is being tested for change across the two groups (congruent/incongruent). "
   ]
  },
  {
   "cell_type": "markdown",
   "metadata": {},
   "source": [
    "(2) What is an appropriate set of hypotheses for this task? Specify your null and alternative hypotheses, and clearly define any notation used. Justify your choices."
   ]
  },
  {
   "cell_type": "markdown",
   "metadata": {},
   "source": [
    "Our null hypothesis would posit that on average the time taken to name incongruent words, is no worse than the time taken to name congruent words.\n",
    "Our alternative hypothesis would posit that the time taken to name incongruent words, is on average longer than the time taken to name congruent words.\n",
    "Thus the hypothesis is setup as a one-tailed test. Representing this in notation, we get-  \n",
    "   \n",
    "H0: $\\mu_{incongruent\\_time}$ - $\\mu_{congruent\\_time}$ <= 0  \n",
    "Ha: $\\mu_{incongruent\\_time}$ - $\\mu_{congruent\\_time}$ > 0  \n",
    "\n",
    "where $\\mu_{incongruent\\_time}$ is the average time taken to name incongruent words across the entire population (population mean), and $\\mu_{congruent\\_time}$ is the average time taken to name congruent words across the entire population.\n",
    "Rewriting this in terms of mean difference $\\mu_{D}$:  \n",
    "H0: $\\mu_{D}$ <= 0    \n",
    "Ha: $\\mu_{D}$ > 0  "
   ]
  },
  {
   "cell_type": "markdown",
   "metadata": {},
   "source": [
    "(3) Report some descriptive statistics regarding this dataset. Include at least one measure of central tendency and at least one measure of variability. The name of the data file is 'stroopdata.csv'."
   ]
  },
  {
   "cell_type": "markdown",
   "metadata": {},
   "source": [
    "The measure of central tendency we will report here are the average time to name (mean) for the congruent words and the incongruant words, and the average difference between these two means.  \n",
    "Similarly, the measure of variability we report will be the individual standard deviations in time to name between incongruent words and congruent words, as well the standard deviation of the difference between the two times."
   ]
  },
  {
   "cell_type": "code",
   "execution_count": 1,
   "metadata": {},
   "outputs": [],
   "source": [
    "import pandas as pd\n",
    "import numpy as np\n",
    "import math\n",
    "df = pd.read_csv('stroopdata.csv')"
   ]
  },
  {
   "cell_type": "code",
   "execution_count": 2,
   "metadata": {},
   "outputs": [
    {
     "data": {
      "text/html": [
       "<div>\n",
       "<style scoped>\n",
       "    .dataframe tbody tr th:only-of-type {\n",
       "        vertical-align: middle;\n",
       "    }\n",
       "\n",
       "    .dataframe tbody tr th {\n",
       "        vertical-align: top;\n",
       "    }\n",
       "\n",
       "    .dataframe thead th {\n",
       "        text-align: right;\n",
       "    }\n",
       "</style>\n",
       "<table border=\"1\" class=\"dataframe\">\n",
       "  <thead>\n",
       "    <tr style=\"text-align: right;\">\n",
       "      <th></th>\n",
       "      <th>Congruent</th>\n",
       "      <th>Incongruent</th>\n",
       "    </tr>\n",
       "  </thead>\n",
       "  <tbody>\n",
       "    <tr>\n",
       "      <th>0</th>\n",
       "      <td>12.079</td>\n",
       "      <td>19.278</td>\n",
       "    </tr>\n",
       "    <tr>\n",
       "      <th>1</th>\n",
       "      <td>16.791</td>\n",
       "      <td>18.741</td>\n",
       "    </tr>\n",
       "    <tr>\n",
       "      <th>2</th>\n",
       "      <td>9.564</td>\n",
       "      <td>21.214</td>\n",
       "    </tr>\n",
       "    <tr>\n",
       "      <th>3</th>\n",
       "      <td>8.630</td>\n",
       "      <td>15.687</td>\n",
       "    </tr>\n",
       "    <tr>\n",
       "      <th>4</th>\n",
       "      <td>14.669</td>\n",
       "      <td>22.803</td>\n",
       "    </tr>\n",
       "  </tbody>\n",
       "</table>\n",
       "</div>"
      ],
      "text/plain": [
       "   Congruent  Incongruent\n",
       "0     12.079       19.278\n",
       "1     16.791       18.741\n",
       "2      9.564       21.214\n",
       "3      8.630       15.687\n",
       "4     14.669       22.803"
      ]
     },
     "execution_count": 2,
     "metadata": {},
     "output_type": "execute_result"
    }
   ],
   "source": [
    "df.head()"
   ]
  },
  {
   "cell_type": "code",
   "execution_count": 3,
   "metadata": {},
   "outputs": [
    {
     "name": "stdout",
     "output_type": "stream",
     "text": [
      "24\n"
     ]
    }
   ],
   "source": [
    "N = df.shape[0]\n",
    "print(N)"
   ]
  },
  {
   "cell_type": "code",
   "execution_count": 4,
   "metadata": {},
   "outputs": [
    {
     "data": {
      "text/plain": [
       "Congruent      False\n",
       "Incongruent    False\n",
       "dtype: bool"
      ]
     },
     "execution_count": 4,
     "metadata": {},
     "output_type": "execute_result"
    }
   ],
   "source": [
    "df.isnull().any()"
   ]
  },
  {
   "cell_type": "code",
   "execution_count": 5,
   "metadata": {},
   "outputs": [],
   "source": [
    "df['diff_in_time_to_name'] = df['Incongruent'] - df['Congruent']"
   ]
  },
  {
   "cell_type": "code",
   "execution_count": 6,
   "metadata": {},
   "outputs": [
    {
     "name": "stdout",
     "output_type": "stream",
     "text": [
      "**Central Tendency**\n",
      "Average time to name words-\n",
      " Congruent: 14.05 Incongruent: 22.02\n",
      "Average difference in time to name words between Incongruent and Congruent cases: 7.96\n"
     ]
    }
   ],
   "source": [
    "(congruent_mean, incongruent_mean) = (np.mean(df['Congruent']), np.mean(df['Incongruent']))\n",
    "diff_means = np.mean(df['Incongruent']) - np.mean(df['Congruent'])\n",
    "print(\"**Central Tendency**\")\n",
    "print(\"Average time to name words-\\n Congruent: %.2f Incongruent: %.2f\" % (congruent_mean, incongruent_mean))\n",
    "print(\"Average difference in time to name words between Incongruent and Congruent cases: %.2f\" % (diff_means))"
   ]
  },
  {
   "cell_type": "code",
   "execution_count": 7,
   "metadata": {},
   "outputs": [],
   "source": [
    "df['deviation'] = (df['diff_in_time_to_name'] - diff_means)"
   ]
  },
  {
   "cell_type": "code",
   "execution_count": 8,
   "metadata": {},
   "outputs": [],
   "source": [
    "df['squared_deviation'] = df['deviation'] * df['deviation']"
   ]
  },
  {
   "cell_type": "code",
   "execution_count": 9,
   "metadata": {},
   "outputs": [],
   "source": [
    "diff_stdev = math.sqrt(np.sum(df['squared_deviation'])  / (N-1))"
   ]
  },
  {
   "cell_type": "code",
   "execution_count": 10,
   "metadata": {},
   "outputs": [
    {
     "name": "stdout",
     "output_type": "stream",
     "text": [
      "**Variability**\n",
      "Standard deviation of sample times to name words-\n",
      " Congruent: 3.48 Incongruent: 4.70\n",
      "Standard deviation of difference in time to name for incongruent vs congruent case: 4.86\n"
     ]
    }
   ],
   "source": [
    "print(\"**Variability**\")\n",
    "# We use np.std for sample stddev since it uses Bessel's correction, with N-1 in denominator by default\n",
    "(congruent_stdev, incongruent_stdev) = (np.std(df['Congruent']), np.std(df['Incongruent']))\n",
    "print(\"Standard deviation of sample times to name words-\\n Congruent: %.2f Incongruent: %.2f\" % (congruent_stdev, incongruent_stdev))\n",
    "print(\"Standard deviation of difference in time to name for incongruent vs congruent case: %.2f\"% (diff_stdev))"
   ]
  },
  {
   "cell_type": "markdown",
   "metadata": {},
   "source": [
    "(4) Provide one or two visualizations that show the distribution of the sample data. Write one or two sentences noting what you observe about the plot or plots."
   ]
  },
  {
   "cell_type": "markdown",
   "metadata": {},
   "source": [
    "We will plot the histograms of time to name words for incongruent words and congruent words on top of each other using matplotlib below. We will also indicate the sample averages for the two cases computed above in the same plot as vertical lines"
   ]
  },
  {
   "cell_type": "code",
   "execution_count": 11,
   "metadata": {},
   "outputs": [],
   "source": [
    "import matplotlib.pyplot as plt\n",
    "%matplotlib inline"
   ]
  },
  {
   "cell_type": "code",
   "execution_count": 12,
   "metadata": {},
   "outputs": [
    {
     "data": {
      "image/png": "[encoded data removed]",
      "text/plain": [
       "<matplotlib.figure.Figure at 0x10d179358>"
      ]
     },
     "metadata": {},
     "output_type": "display_data"
    }
   ],
   "source": [
    "fig, ax = plt.subplots(figsize=(8,6))\n",
    "ax.hist(df['Congruent'], alpha=0.5, label='Congruent', color='Green')\n",
    "ax.axvline(x=congruent_mean, color='g', linewidth=2)\n",
    "ax.hist(df['Incongruent'], alpha=0.5, label='Incongruent', color='Red')\n",
    "ax.axvline(x=incongruent_mean, color='r', linewidth=2)\n",
    "ax.set_title('Distribution of time to name words for Incongruent vs Congruent words')\n",
    "ax.set_xlabel('time to name words')\n",
    "ax.set_ylabel('value')\n",
    "ax.legend(loc='upper right')\n",
    "plt.show();"
   ]
  },
  {
   "cell_type": "markdown",
   "metadata": {},
   "source": [
    "From the above histogram, its clear that not only is the mean time to name word quite higher for the incongruent words compared to congruent words, but the entire distribution is shifted to the right in the case of incongruent words indicating that the higher mean is not due to outliers alone. The incongruent words case also has couple of outliers which makes the right=tail longer for the incongruent case compared to the congruent case, making it more right-skewed. The first standard deviation for the two cases however are relatively close, as indicated in the calculations for the previous question."
   ]
  },
  {
   "cell_type": "markdown",
   "metadata": {},
   "source": [
    "(5)  Now, perform the statistical test and report your results. What is your confidence level or Type I error associated with your test? What is your conclusion regarding the hypotheses you set up? Did the results match up with your expectations? **Hint:**  Think about what is being measured on each individual, and what statistic best captures how an individual reacts in each environment."
   ]
  },
  {
   "cell_type": "markdown",
   "metadata": {},
   "source": [
    "Since we know the sample statistics only (and not the population parameters) for a repeated measurement design (same group is subjected to two experiments), we will need to perform a two-sample paired t test to compare the averages to see if they are significantly different from one another. We will determine this using an alpha level of 0.05 (which corresponds to a 95% confidence interval). The sample size is 24 which corresponds to a degree of freedom of 23. Since we're trying to establish in our alternative that the incongruent average times will be higher, we will perform a one-tailed test.\n",
    "  \n",
    "Following are the assumptions implicit in paired t-test-  \n",
    "1) As the sample size and by extension, the degrees of freedom increase, the t distribution approaches standard normal distribution.  \n",
    "2) In order to apply t-test, the sampling distribution composed of means of samples of a given sample size must be normally distributed.  \n",
    "3) t-test is applied when the population parameters are not known (unlike the case of z-test) and the two sample t-test is used to estimate how two sample means (which should be the same as their population means) are different from each other knowing only the sample statistics."
   ]
  },
  {
   "cell_type": "markdown",
   "metadata": {},
   "source": [
    "The t-critical value for one-tailed t test with alpha value of 0.05, for dof of 23 is 1.714. Therefore for our point estimate to be statistically significant, the corresponding t-statistic must be greater than this t-critical value."
   ]
  },
  {
   "cell_type": "code",
   "execution_count": 13,
   "metadata": {},
   "outputs": [
    {
     "name": "stdout",
     "output_type": "stream",
     "text": [
      "t(23): 8.02\n"
     ]
    }
   ],
   "source": [
    "dof = N - 1\n",
    "SEM = diff_stdev / math.sqrt(N)\n",
    "t = diff_means / SEM\n",
    "print(\"t(%d): %.2f\" % (dof, t))"
   ]
  },
  {
   "cell_type": "markdown",
   "metadata": {},
   "source": [
    "We see that the t-statistic is quite far off into the critical region and is much larger than the t-critical value of 1.714. The corresponding p-value from online calculator is shown to be much less than 0.00001. "
   ]
  },
  {
   "cell_type": "markdown",
   "metadata": {},
   "source": [
    "Therefore, the result is statistically significant at p < 0.05. We thus reject the null hypothesis that average time taken to name incongruent words isn't greater than time taken for congruent words. "
   ]
  },
  {
   "cell_type": "markdown",
   "metadata": {},
   "source": [
    "These results match up with our expectation based on plotting the histogram of times for the two categories. It does appear that individuals on average take longer to process and name incongruent words compared to congruent words."
   ]
  },
  {
   "cell_type": "markdown",
   "metadata": {},
   "source": [
    "(6) Optional: What do you think is responsible for the effects observed? Can you think of an alternative or similar task that would result in a similar effect? Some research about the problem will be helpful for thinking about these two questions!"
   ]
  },
  {
   "cell_type": "markdown",
   "metadata": {},
   "source": [
    "Since naming an incongruent word involves suppressing the association of color of the characters with the color named by the word, this conflict with muscle memory might result in that additional time taken to confirm and call out the color spelt by the word. Similar tasks might be the improv game \"questions only\", where participants are not allowed to answer the question posed by other contestants but only respond with more questions. This goes against the trained instinct to try and answer questions to which one might know the answer and the response times in this game might exhibit a similar delay."
   ]
  }
 ],
 "metadata": {
  "kernelspec": {
   "display_name": "Python [default]",
   "language": "python",
   "name": "python3"
  },
  "language_info": {
   "codemirror_mode": {
    "name": "ipython",
    "version": 3
   },
   "file_extension": ".py",
   "mimetype": "text/x-python",
   "name": "python",
   "nbconvert_exporter": "python",
   "pygments_lexer": "ipython3",
   "version": "3.6.4"
  }
 },
 "nbformat": 4,
 "nbformat_minor": 2
}
